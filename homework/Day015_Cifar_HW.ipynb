{
 "cells": [
  {
   "cell_type": "markdown",
   "metadata": {},
   "source": [
    "## 『本次練習內容』\n",
    "#### 運用這幾天所學觀念搭建一個CNN分類器"
   ]
  },
  {
   "cell_type": "markdown",
   "metadata": {},
   "source": [
    "## 『本次練習目的』\n",
    "  #### 熟悉CNN分類器搭建步驟與原理\n",
    "  #### 學員們可以嘗試不同搭法，如使用不同的Maxpooling層，用GlobalAveragePooling取代Flatten等等"
   ]
  },
  {
   "cell_type": "code",
   "execution_count": 1,
   "metadata": {},
   "outputs": [
    {
     "name": "stderr",
     "output_type": "stream",
     "text": [
      "Using TensorFlow backend.\n"
     ]
    }
   ],
   "source": [
    "from keras.models import Sequential\n",
    "from keras.layers import Convolution2D\n",
    "from keras.layers import MaxPooling2D\n",
    "from keras.layers import Flatten\n",
    "from keras.layers import Dense\n",
    "from keras.layers import Dropout\n",
    "from keras.layers import BatchNormalization\n",
    "from keras.layers import Activation\n",
    "from keras.datasets import cifar10\n",
    "import numpy as np\n",
    "import tensorflow as tf\n",
    "from sklearn.preprocessing import OneHotEncoder\n"
   ]
  },
  {
   "cell_type": "code",
   "execution_count": 2,
   "metadata": {},
   "outputs": [
    {
     "name": "stdout",
     "output_type": "stream",
     "text": [
      "(50000, 32, 32, 3)\n"
     ]
    }
   ],
   "source": [
    "(x_train, y_train), (x_test, y_test) = cifar10.load_data()\n",
    "\n",
    "print(x_train.shape) #(50000, 32, 32, 3)\n",
    "\n",
    "## Normalize Data\n",
    "def normalize(X_train,X_test):\n",
    "        mean = np.mean(X_train,axis=(0,1,2,3))\n",
    "        std = np.std(X_train, axis=(0, 1, 2, 3))\n",
    "        X_train = (X_train-mean)/(std+1e-7)\n",
    "        X_test = (X_test-mean)/(std+1e-7) \n",
    "        return X_train, X_test,mean,std\n",
    "    \n",
    "    \n",
    "## Normalize Training and Testset    \n",
    "x_train, x_test, mean_train,std_train = normalize(x_train, x_test) "
   ]
  },
  {
   "cell_type": "code",
   "execution_count": 3,
   "metadata": {},
   "outputs": [],
   "source": [
    "## OneHot Label 由(None, 1)-(None, 10)\n",
    "## ex. label=2,變成[0,0,1,0,0,0,0,0,0,0]\n",
    "one_hot=OneHotEncoder()\n",
    "y_train=one_hot.fit_transform(y_train).toarray()\n",
    "y_test=one_hot.transform(y_test).toarray()"
   ]
  },
  {
   "cell_type": "code",
   "execution_count": 4,
   "metadata": {
    "scrolled": true
   },
   "outputs": [
    {
     "name": "stderr",
     "output_type": "stream",
     "text": [
      "c:\\users\\rogerchang\\anaconda3\\envs\\tf-gpu2.0\\lib\\site-packages\\ipykernel_launcher.py:44: UserWarning: Update your `Dense` call to the Keras 2 API: `Dense(activation=\"relu\", units=500)`\n",
      "c:\\users\\rogerchang\\anaconda3\\envs\\tf-gpu2.0\\lib\\site-packages\\ipykernel_launcher.py:46: UserWarning: Update your `Dense` call to the Keras 2 API: `Dense(activation=\"relu\", units=500)`\n",
      "c:\\users\\rogerchang\\anaconda3\\envs\\tf-gpu2.0\\lib\\site-packages\\ipykernel_launcher.py:48: UserWarning: Update your `Dense` call to the Keras 2 API: `Dense(activation=\"relu\", units=100)`\n",
      "c:\\users\\rogerchang\\anaconda3\\envs\\tf-gpu2.0\\lib\\site-packages\\ipykernel_launcher.py:51: UserWarning: Update your `Dense` call to the Keras 2 API: `Dense(activation=\"softmax\", units=10)`\n"
     ]
    },
    {
     "name": "stdout",
     "output_type": "stream",
     "text": [
      "Train on 50000 samples, validate on 10000 samples\n",
      "Epoch 1/100\n",
      "50000/50000 [==============================] - 20s 402us/step - loss: 1.5881 - accuracy: 0.4086 - val_loss: 1.3720 - val_accuracy: 0.5276\n",
      "Epoch 2/100\n",
      "50000/50000 [==============================] - 16s 330us/step - loss: 1.0782 - accuracy: 0.6265 - val_loss: 1.1924 - val_accuracy: 0.5958\n",
      "Epoch 3/100\n",
      "50000/50000 [==============================] - 18s 355us/step - loss: 0.8828 - accuracy: 0.7020 - val_loss: 0.8603 - val_accuracy: 0.7081\n",
      "Epoch 4/100\n",
      "50000/50000 [==============================] - 18s 365us/step - loss: 0.7567 - accuracy: 0.7454 - val_loss: 0.8158 - val_accuracy: 0.7218\n",
      "Epoch 5/100\n",
      "50000/50000 [==============================] - 18s 357us/step - loss: 0.6702 - accuracy: 0.7779 - val_loss: 0.9161 - val_accuracy: 0.6954\n",
      "Epoch 6/100\n",
      "50000/50000 [==============================] - 18s 366us/step - loss: 0.6030 - accuracy: 0.8012 - val_loss: 0.7966 - val_accuracy: 0.7433\n",
      "Epoch 7/100\n",
      "50000/50000 [==============================] - 17s 344us/step - loss: 0.5474 - accuracy: 0.8212 - val_loss: 0.7588 - val_accuracy: 0.7560\n",
      "Epoch 8/100\n",
      "50000/50000 [==============================] - 17s 331us/step - loss: 0.4980 - accuracy: 0.8366 - val_loss: 0.6328 - val_accuracy: 0.7953\n",
      "Epoch 9/100\n",
      "50000/50000 [==============================] - 17s 335us/step - loss: 0.4512 - accuracy: 0.8509 - val_loss: 0.6703 - val_accuracy: 0.7771\n",
      "Epoch 10/100\n",
      "50000/50000 [==============================] - 16s 323us/step - loss: 0.4161 - accuracy: 0.8633 - val_loss: 0.5706 - val_accuracy: 0.8164\n",
      "Epoch 11/100\n",
      "50000/50000 [==============================] - 17s 337us/step - loss: 0.3838 - accuracy: 0.8757 - val_loss: 0.6030 - val_accuracy: 0.8062\n",
      "Epoch 12/100\n",
      "50000/50000 [==============================] - 17s 344us/step - loss: 0.3508 - accuracy: 0.8841 - val_loss: 0.6031 - val_accuracy: 0.8123\n",
      "Epoch 13/100\n",
      "50000/50000 [==============================] - 18s 355us/step - loss: 0.3233 - accuracy: 0.8937 - val_loss: 0.6776 - val_accuracy: 0.7997\n",
      "Epoch 14/100\n",
      "50000/50000 [==============================] - 18s 353us/step - loss: 0.2986 - accuracy: 0.9023 - val_loss: 0.8386 - val_accuracy: 0.7624\n",
      "Epoch 15/100\n",
      "50000/50000 [==============================] - 17s 343us/step - loss: 0.2771 - accuracy: 0.9084 - val_loss: 0.6404 - val_accuracy: 0.8074\n",
      "Epoch 16/100\n",
      "50000/50000 [==============================] - 17s 336us/step - loss: 0.2597 - accuracy: 0.9151 - val_loss: 0.6145 - val_accuracy: 0.8218\n",
      "Epoch 17/100\n",
      "50000/50000 [==============================] - 18s 352us/step - loss: 0.2410 - accuracy: 0.9221 - val_loss: 0.8057 - val_accuracy: 0.7742\n",
      "Epoch 18/100\n",
      "50000/50000 [==============================] - 17s 350us/step - loss: 0.2195 - accuracy: 0.9285 - val_loss: 0.6219 - val_accuracy: 0.8146\n",
      "Epoch 19/100\n",
      "50000/50000 [==============================] - 19s 379us/step - loss: 0.2087 - accuracy: 0.9315 - val_loss: 0.6744 - val_accuracy: 0.8169\n",
      "Epoch 20/100\n",
      "50000/50000 [==============================] - 19s 370us/step - loss: 0.1963 - accuracy: 0.9363 - val_loss: 0.6416 - val_accuracy: 0.8217\n",
      "Epoch 21/100\n",
      "50000/50000 [==============================] - 17s 343us/step - loss: 0.1868 - accuracy: 0.9400 - val_loss: 0.6307 - val_accuracy: 0.8308\n",
      "Epoch 22/100\n",
      "50000/50000 [==============================] - 18s 363us/step - loss: 0.1735 - accuracy: 0.9438 - val_loss: 0.6457 - val_accuracy: 0.8265\n",
      "Epoch 23/100\n",
      "50000/50000 [==============================] - 18s 351us/step - loss: 0.1672 - accuracy: 0.9462 - val_loss: 0.7400 - val_accuracy: 0.8217\n",
      "Epoch 24/100\n",
      "50000/50000 [==============================] - 17s 347us/step - loss: 0.1616 - accuracy: 0.9474 - val_loss: 0.6429 - val_accuracy: 0.8341\n",
      "Epoch 25/100\n",
      "50000/50000 [==============================] - 17s 343us/step - loss: 0.1483 - accuracy: 0.9517 - val_loss: 0.8448 - val_accuracy: 0.7961\n",
      "Epoch 26/100\n",
      "50000/50000 [==============================] - 18s 353us/step - loss: 0.1461 - accuracy: 0.9525 - val_loss: 0.7757 - val_accuracy: 0.8081\n",
      "Epoch 27/100\n",
      "50000/50000 [==============================] - 17s 332us/step - loss: 0.1322 - accuracy: 0.9572 - val_loss: 0.8017 - val_accuracy: 0.8117\n",
      "Epoch 28/100\n",
      "50000/50000 [==============================] - 16s 330us/step - loss: 0.1327 - accuracy: 0.9575 - val_loss: 0.7481 - val_accuracy: 0.8206\n",
      "Epoch 29/100\n",
      "50000/50000 [==============================] - 16s 328us/step - loss: 0.1279 - accuracy: 0.9586 - val_loss: 0.7653 - val_accuracy: 0.8233\n",
      "Epoch 30/100\n",
      "50000/50000 [==============================] - 18s 352us/step - loss: 0.1140 - accuracy: 0.9637 - val_loss: 0.7820 - val_accuracy: 0.8279\n",
      "Epoch 31/100\n",
      "50000/50000 [==============================] - 17s 347us/step - loss: 0.1166 - accuracy: 0.9633 - val_loss: 0.8410 - val_accuracy: 0.8191\n",
      "Epoch 32/100\n",
      "50000/50000 [==============================] - 18s 360us/step - loss: 0.1092 - accuracy: 0.9655 - val_loss: 0.8220 - val_accuracy: 0.8288\n",
      "Epoch 33/100\n",
      "50000/50000 [==============================] - 18s 355us/step - loss: 0.1144 - accuracy: 0.9641 - val_loss: 0.7527 - val_accuracy: 0.8316\n",
      "Epoch 34/100\n",
      "50000/50000 [==============================] - 18s 367us/step - loss: 0.1053 - accuracy: 0.9674 - val_loss: 0.8872 - val_accuracy: 0.8182\n",
      "Epoch 35/100\n",
      "50000/50000 [==============================] - 18s 352us/step - loss: 0.1043 - accuracy: 0.9672 - val_loss: 0.7800 - val_accuracy: 0.8240\n",
      "Epoch 36/100\n",
      "50000/50000 [==============================] - 18s 355us/step - loss: 0.0976 - accuracy: 0.9692 - val_loss: 0.8172 - val_accuracy: 0.8211\n",
      "Epoch 37/100\n",
      "50000/50000 [==============================] - 17s 343us/step - loss: 0.0972 - accuracy: 0.9692 - val_loss: 0.8997 - val_accuracy: 0.8173\n",
      "Epoch 38/100\n",
      "50000/50000 [==============================] - 18s 350us/step - loss: 0.0948 - accuracy: 0.9712 - val_loss: 0.8740 - val_accuracy: 0.8226\n",
      "Epoch 39/100\n",
      "50000/50000 [==============================] - 17s 349us/step - loss: 0.0911 - accuracy: 0.9716 - val_loss: 0.9256 - val_accuracy: 0.8172\n",
      "Epoch 40/100\n",
      "50000/50000 [==============================] - 17s 339us/step - loss: 0.0839 - accuracy: 0.9742 - val_loss: 0.8771 - val_accuracy: 0.8291\n",
      "Epoch 41/100\n",
      "50000/50000 [==============================] - 17s 335us/step - loss: 0.0904 - accuracy: 0.9730 - val_loss: 0.8293 - val_accuracy: 0.8293\n",
      "Epoch 42/100\n",
      "50000/50000 [==============================] - 17s 334us/step - loss: 0.0885 - accuracy: 0.9730 - val_loss: 0.8360 - val_accuracy: 0.8196\n",
      "Epoch 43/100\n",
      "50000/50000 [==============================] - 17s 338us/step - loss: 0.0804 - accuracy: 0.9751 - val_loss: 1.0063 - val_accuracy: 0.8031\n",
      "Epoch 44/100\n",
      "50000/50000 [==============================] - 17s 339us/step - loss: 0.0847 - accuracy: 0.9735 - val_loss: 0.8920 - val_accuracy: 0.8222\n",
      "Epoch 45/100\n",
      "50000/50000 [==============================] - 17s 333us/step - loss: 0.0753 - accuracy: 0.9765 - val_loss: 0.8716 - val_accuracy: 0.8219\n",
      "Epoch 46/100\n",
      "50000/50000 [==============================] - 17s 342us/step - loss: 0.0730 - accuracy: 0.9775 - val_loss: 0.8695 - val_accuracy: 0.8227\n",
      "Epoch 47/100\n",
      "50000/50000 [==============================] - 17s 344us/step - loss: 0.0816 - accuracy: 0.9749 - val_loss: 0.8113 - val_accuracy: 0.8310\n",
      "Epoch 48/100\n",
      "50000/50000 [==============================] - 17s 342us/step - loss: 0.0808 - accuracy: 0.9759 - val_loss: 0.9662 - val_accuracy: 0.8149\n",
      "Epoch 49/100\n",
      "50000/50000 [==============================] - 17s 340us/step - loss: 0.0647 - accuracy: 0.9800 - val_loss: 0.9131 - val_accuracy: 0.8273\n",
      "Epoch 50/100\n",
      "50000/50000 [==============================] - 17s 334us/step - loss: 0.0724 - accuracy: 0.9784 - val_loss: 0.8505 - val_accuracy: 0.8301\n",
      "Epoch 51/100\n",
      "50000/50000 [==============================] - 17s 333us/step - loss: 0.0731 - accuracy: 0.9776 - val_loss: 0.9016 - val_accuracy: 0.8300\n",
      "Epoch 52/100\n",
      "50000/50000 [==============================] - 18s 354us/step - loss: 0.0701 - accuracy: 0.9800 - val_loss: 0.9907 - val_accuracy: 0.8152\n",
      "Epoch 53/100\n",
      "50000/50000 [==============================] - 18s 369us/step - loss: 0.0684 - accuracy: 0.9796 - val_loss: 0.8565 - val_accuracy: 0.8292\n",
      "Epoch 54/100\n",
      "50000/50000 [==============================] - 18s 370us/step - loss: 0.0702 - accuracy: 0.9793 - val_loss: 0.8770 - val_accuracy: 0.8350\n"
     ]
    },
    {
     "name": "stdout",
     "output_type": "stream",
     "text": [
      "Epoch 55/100\n",
      "50000/50000 [==============================] - 17s 334us/step - loss: 0.0669 - accuracy: 0.9804 - val_loss: 0.9072 - val_accuracy: 0.8292\n",
      "Epoch 56/100\n",
      "50000/50000 [==============================] - 17s 348us/step - loss: 0.0653 - accuracy: 0.9817 - val_loss: 1.0101 - val_accuracy: 0.8174\n",
      "Epoch 57/100\n",
      "50000/50000 [==============================] - 17s 350us/step - loss: 0.0708 - accuracy: 0.9795 - val_loss: 0.8690 - val_accuracy: 0.8302\n",
      "Epoch 58/100\n",
      "50000/50000 [==============================] - 17s 350us/step - loss: 0.0621 - accuracy: 0.9820 - val_loss: 0.9250 - val_accuracy: 0.8266\n",
      "Epoch 59/100\n",
      "50000/50000 [==============================] - 17s 350us/step - loss: 0.0672 - accuracy: 0.9803 - val_loss: 0.9292 - val_accuracy: 0.8259\n",
      "Epoch 60/100\n",
      "50000/50000 [==============================] - 18s 351us/step - loss: 0.0618 - accuracy: 0.9817 - val_loss: 0.9089 - val_accuracy: 0.8221\n",
      "Epoch 61/100\n",
      "50000/50000 [==============================] - 17s 336us/step - loss: 0.0694 - accuracy: 0.9794 - val_loss: 0.9680 - val_accuracy: 0.8288\n",
      "Epoch 62/100\n",
      "50000/50000 [==============================] - 18s 357us/step - loss: 0.0577 - accuracy: 0.9830 - val_loss: 0.8971 - val_accuracy: 0.8328\n",
      "Epoch 63/100\n",
      "50000/50000 [==============================] - 18s 363us/step - loss: 0.0534 - accuracy: 0.9842 - val_loss: 1.0182 - val_accuracy: 0.8200\n",
      "Epoch 64/100\n",
      "50000/50000 [==============================] - 17s 348us/step - loss: 0.0591 - accuracy: 0.9827 - val_loss: 0.9571 - val_accuracy: 0.8250\n",
      "Epoch 65/100\n",
      "50000/50000 [==============================] - 18s 369us/step - loss: 0.0586 - accuracy: 0.9831 - val_loss: 0.9820 - val_accuracy: 0.8252\n",
      "Epoch 66/100\n",
      "50000/50000 [==============================] - 18s 359us/step - loss: 0.0579 - accuracy: 0.9834 - val_loss: 0.9372 - val_accuracy: 0.8302\n",
      "Epoch 67/100\n",
      "50000/50000 [==============================] - 17s 350us/step - loss: 0.0555 - accuracy: 0.9832 - val_loss: 0.9898 - val_accuracy: 0.8297\n",
      "Epoch 68/100\n",
      "50000/50000 [==============================] - 18s 368us/step - loss: 0.0536 - accuracy: 0.9839 - val_loss: 0.8668 - val_accuracy: 0.8341\n",
      "Epoch 69/100\n",
      "50000/50000 [==============================] - 17s 345us/step - loss: 0.0603 - accuracy: 0.9826 - val_loss: 0.8419 - val_accuracy: 0.8356\n",
      "Epoch 70/100\n",
      "50000/50000 [==============================] - 17s 344us/step - loss: 0.0592 - accuracy: 0.9835 - val_loss: 0.9276 - val_accuracy: 0.8244\n",
      "Epoch 71/100\n",
      "50000/50000 [==============================] - 18s 365us/step - loss: 0.0545 - accuracy: 0.9844 - val_loss: 0.9076 - val_accuracy: 0.8229\n",
      "Epoch 72/100\n",
      "50000/50000 [==============================] - 18s 352us/step - loss: 0.0527 - accuracy: 0.9853 - val_loss: 1.0031 - val_accuracy: 0.8295\n",
      "Epoch 73/100\n",
      "50000/50000 [==============================] - 17s 344us/step - loss: 0.0535 - accuracy: 0.9844 - val_loss: 1.0029 - val_accuracy: 0.8282\n",
      "Epoch 74/100\n",
      "50000/50000 [==============================] - 17s 330us/step - loss: 0.0500 - accuracy: 0.9854 - val_loss: 1.0245 - val_accuracy: 0.8179\n",
      "Epoch 75/100\n",
      "50000/50000 [==============================] - 18s 361us/step - loss: 0.0491 - accuracy: 0.9857 - val_loss: 1.0426 - val_accuracy: 0.8224\n",
      "Epoch 76/100\n",
      "50000/50000 [==============================] - 17s 335us/step - loss: 0.0525 - accuracy: 0.9850 - val_loss: 1.0870 - val_accuracy: 0.8323\n",
      "Epoch 77/100\n",
      "50000/50000 [==============================] - 18s 363us/step - loss: 0.0536 - accuracy: 0.9851 - val_loss: 0.9545 - val_accuracy: 0.8311\n",
      "Epoch 78/100\n",
      "50000/50000 [==============================] - 18s 366us/step - loss: 0.0558 - accuracy: 0.9845 - val_loss: 0.9106 - val_accuracy: 0.8367\n",
      "Epoch 79/100\n",
      "50000/50000 [==============================] - 18s 354us/step - loss: 0.0493 - accuracy: 0.9858 - val_loss: 1.0025 - val_accuracy: 0.8297\n",
      "Epoch 80/100\n",
      "50000/50000 [==============================] - 17s 332us/step - loss: 0.0462 - accuracy: 0.9864 - val_loss: 0.9553 - val_accuracy: 0.8284\n",
      "Epoch 81/100\n",
      "50000/50000 [==============================] - 17s 343us/step - loss: 0.0446 - accuracy: 0.9871 - val_loss: 0.9956 - val_accuracy: 0.8327\n",
      "Epoch 82/100\n",
      "50000/50000 [==============================] - 17s 339us/step - loss: 0.0512 - accuracy: 0.9856 - val_loss: 0.9346 - val_accuracy: 0.8252\n",
      "Epoch 83/100\n",
      "50000/50000 [==============================] - 18s 354us/step - loss: 0.0484 - accuracy: 0.9859 - val_loss: 1.1108 - val_accuracy: 0.8199\n",
      "Epoch 84/100\n",
      "50000/50000 [==============================] - 18s 351us/step - loss: 0.0415 - accuracy: 0.9879 - val_loss: 0.9845 - val_accuracy: 0.8269\n",
      "Epoch 85/100\n",
      "50000/50000 [==============================] - 17s 348us/step - loss: 0.0484 - accuracy: 0.9863 - val_loss: 0.9495 - val_accuracy: 0.8318\n",
      "Epoch 86/100\n",
      "50000/50000 [==============================] - 18s 365us/step - loss: 0.0461 - accuracy: 0.9866 - val_loss: 0.9578 - val_accuracy: 0.8341\n",
      "Epoch 87/100\n",
      "50000/50000 [==============================] - 17s 345us/step - loss: 0.0499 - accuracy: 0.9862 - val_loss: 0.9397 - val_accuracy: 0.8376\n",
      "Epoch 88/100\n",
      "50000/50000 [==============================] - 18s 355us/step - loss: 0.0463 - accuracy: 0.9863 - val_loss: 0.9938 - val_accuracy: 0.8218\n",
      "Epoch 89/100\n",
      "50000/50000 [==============================] - 17s 342us/step - loss: 0.0422 - accuracy: 0.9877 - val_loss: 0.9472 - val_accuracy: 0.8307\n",
      "Epoch 90/100\n",
      "50000/50000 [==============================] - 18s 369us/step - loss: 0.0487 - accuracy: 0.9865 - val_loss: 1.0110 - val_accuracy: 0.8316\n",
      "Epoch 91/100\n",
      "50000/50000 [==============================] - 18s 356us/step - loss: 0.0445 - accuracy: 0.9874 - val_loss: 1.0138 - val_accuracy: 0.8353\n",
      "Epoch 92/100\n",
      "50000/50000 [==============================] - 17s 340us/step - loss: 0.0418 - accuracy: 0.9878 - val_loss: 1.0279 - val_accuracy: 0.8363\n",
      "Epoch 93/100\n",
      "50000/50000 [==============================] - 17s 336us/step - loss: 0.0404 - accuracy: 0.9888 - val_loss: 1.0759 - val_accuracy: 0.8253\n",
      "Epoch 94/100\n",
      "50000/50000 [==============================] - 18s 362us/step - loss: 0.0440 - accuracy: 0.9879 - val_loss: 1.1906 - val_accuracy: 0.8184\n",
      "Epoch 95/100\n",
      "50000/50000 [==============================] - 18s 353us/step - loss: 0.0428 - accuracy: 0.9885 - val_loss: 1.0670 - val_accuracy: 0.8348\n",
      "Epoch 96/100\n",
      "50000/50000 [==============================] - 17s 336us/step - loss: 0.0434 - accuracy: 0.9871 - val_loss: 1.0589 - val_accuracy: 0.8293\n",
      "Epoch 97/100\n",
      "50000/50000 [==============================] - 19s 371us/step - loss: 0.0401 - accuracy: 0.9889 - val_loss: 0.9952 - val_accuracy: 0.8381\n",
      "Epoch 98/100\n",
      "50000/50000 [==============================] - 18s 358us/step - loss: 0.0415 - accuracy: 0.9880 - val_loss: 1.0550 - val_accuracy: 0.8338\n",
      "Epoch 99/100\n",
      "50000/50000 [==============================] - 17s 334us/step - loss: 0.0388 - accuracy: 0.9895 - val_loss: 1.1698 - val_accuracy: 0.8250\n",
      "Epoch 100/100\n",
      "50000/50000 [==============================] - 17s 347us/step - loss: 0.0403 - accuracy: 0.9890 - val_loss: 1.1318 - val_accuracy: 0.8289\n"
     ]
    },
    {
     "data": {
      "text/plain": [
       "<keras.callbacks.callbacks.History at 0x22c2b158dc8>"
      ]
     },
     "execution_count": 4,
     "metadata": {},
     "output_type": "execute_result"
    }
   ],
   "source": [
    "classifier=Sequential()\n",
    "\n",
    "#卷積組合\n",
    "classifier.add(Convolution2D(32, kernel_size=(3,3), input_shape=(32,32,3), padding='same'))\n",
    "classifier.add(BatchNormalization())\n",
    "classifier.add(Activation('relu'))\n",
    "\n",
    "classifier.add(Convolution2D(32, kernel_size=(3,3), padding='same'))\n",
    "classifier.add(BatchNormalization())\n",
    "classifier.add(Activation('relu'))\n",
    "\n",
    "classifier.add(MaxPooling2D(pool_size=(2,2)))\n",
    "\n",
    "#卷積組合\n",
    "classifier.add(Convolution2D(64, kernel_size=(3,3), padding='same'))\n",
    "classifier.add(BatchNormalization())\n",
    "classifier.add(Activation('relu'))\n",
    "\n",
    "classifier.add(Convolution2D(64, kernel_size=(3,3), padding='same'))\n",
    "classifier.add(BatchNormalization())\n",
    "classifier.add(Activation('relu'))\n",
    "\n",
    "classifier.add(MaxPooling2D(pool_size=(2,2)))\n",
    "\n",
    "classifier.add(Convolution2D(64, kernel_size=(3,3), padding='same'))\n",
    "classifier.add(BatchNormalization())\n",
    "classifier.add(Activation('relu'))\n",
    "\n",
    "classifier.add(Convolution2D(64, kernel_size=(3,3), padding='same'))\n",
    "classifier.add(BatchNormalization())\n",
    "classifier.add(Activation('relu'))\n",
    "\n",
    "classifier.add(Convolution2D(64, kernel_size=(3,3), padding='same'))\n",
    "classifier.add(BatchNormalization())\n",
    "classifier.add(Activation('relu'))\n",
    "\n",
    "classifier.add(MaxPooling2D(pool_size=(2,2)))\n",
    "\n",
    "\n",
    "#flatten\n",
    "classifier.add(Flatten())\n",
    "\n",
    "#FC\n",
    "classifier.add(Dense(output_dim=500, activation='relu'))\n",
    "classifier.add(Dropout(0.5))\n",
    "classifier.add(Dense(output_dim=500, activation='relu'))\n",
    "classifier.add(Dropout(0.5))\n",
    "classifier.add(Dense(output_dim=100, activation='relu')) #output_dim=100,activation=relu\n",
    "\n",
    "#輸出\n",
    "classifier.add(Dense(output_dim=10,activation='softmax'))\n",
    "\n",
    "#超過兩個就要選categorical_crossentrophy\n",
    "classifier.compile(optimizer='adam', loss ='categorical_crossentropy', metrics=['accuracy'])\n",
    "classifier.fit(x_train, y_train, validation_data=(x_test,y_test), batch_size=50, epochs=100)"
   ]
  },
  {
   "cell_type": "markdown",
   "metadata": {},
   "source": [
    "## 預測新圖片，輸入影像前處理要與訓練時相同\n",
    "#### ((X-mean)/(std+1e-7) ):這裡的mean跟std是訓練集的\n",
    "## 維度如下方示範"
   ]
  },
  {
   "cell_type": "code",
   "execution_count": 5,
   "metadata": {},
   "outputs": [],
   "source": [
    "from PIL import Image\n",
    "import matplotlib.pyplot as plt"
   ]
  },
  {
   "cell_type": "code",
   "execution_count": 6,
   "metadata": {},
   "outputs": [],
   "source": [
    "img = Image.open('images/test2.png')\n",
    "img_array = np.array(img)"
   ]
  },
  {
   "cell_type": "code",
   "execution_count": 7,
   "metadata": {},
   "outputs": [
    {
     "data": {
      "text/plain": [
       "<matplotlib.image.AxesImage at 0x22c32e57708>"
      ]
     },
     "execution_count": 7,
     "metadata": {},
     "output_type": "execute_result"
    },
    {
     "data": {
      "image/png": "[encoded data removed]",
      "text/plain": [
       "<Figure size 432x288 with 1 Axes>"
      ]
     },
     "metadata": {
      "needs_background": "light"
     },
     "output_type": "display_data"
    }
   ],
   "source": [
    "plt.imshow(img_array)"
   ]
  },
  {
   "cell_type": "code",
   "execution_count": 8,
   "metadata": {},
   "outputs": [
    {
     "data": {
      "text/plain": [
       "(1, 32, 32, 3)"
      ]
     },
     "execution_count": 8,
     "metadata": {},
     "output_type": "execute_result"
    }
   ],
   "source": [
    "img_array = np.expand_dims(img_array, axis=0)\n",
    "img_array.shape"
   ]
  },
  {
   "cell_type": "code",
   "execution_count": 9,
   "metadata": {},
   "outputs": [
    {
     "data": {
      "text/plain": [
       "array([[1.0000000e+00, 7.6818439e-24, 3.6068860e-37, 8.7508918e-29,\n",
       "        1.6245432e-28, 9.2835239e-37, 0.0000000e+00, 7.1342189e-34,\n",
       "        4.0245222e-38, 1.3703030e-32]], dtype=float32)"
      ]
     },
     "execution_count": 9,
     "metadata": {},
     "output_type": "execute_result"
    }
   ],
   "source": [
    "input_example=(img_array-mean_train)/(std_train+1e-7)\n",
    "\n",
    "classifier.predict(input_example)"
   ]
  }
 ],
 "metadata": {
  "kernelspec": {
   "display_name": "Python 3",
   "language": "python",
   "name": "python3"
  },
  "language_info": {
   "codemirror_mode": {
    "name": "ipython",
    "version": 3
   },
   "file_extension": ".py",
   "mimetype": "text/x-python",
   "name": "python",
   "nbconvert_exporter": "python",
   "pygments_lexer": "ipython3",
   "version": "3.7.4"
  }
 },
 "nbformat": 4,
 "nbformat_minor": 2
}
