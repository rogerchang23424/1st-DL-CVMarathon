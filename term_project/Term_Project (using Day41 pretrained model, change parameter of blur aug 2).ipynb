{
 "cells": [
  {
   "cell_type": "markdown",
   "metadata": {
    "colab_type": "text",
    "id": "CG77DrrB2CrU"
   },
   "source": [
    "## 作業\n",
    "\n",
    "1. 如何使用已經訓練好的模型？\n",
    "2. 依照 https://github.com/qqwweee/keras-yolo3 的程式碼，請敘述，訓練模型時，資料集的格式是什麼？具體一點的說，要提供什麼格式的文件來描述資料集的圖片以及 bboxes 的信息呢？\n",
    "\n",
    "\n",
    "\n"
   ]
  },
  {
   "cell_type": "code",
   "execution_count": 1,
   "metadata": {
    "colab": {
     "base_uri": "https://localhost:8080/",
     "height": 122
    },
    "colab_type": "code",
    "executionInfo": {
     "elapsed": 3899,
     "status": "ok",
     "timestamp": 1576082714890,
     "user": {
      "displayName": "杜靖愷",
      "photoUrl": "https://lh3.googleusercontent.com/a-/AAuE7mCXX8JZZ0DBZWt2P1EC5LvipxZDIWxKz2uCJ7bzpQ=s64",
      "userId": "03195633593178984431"
     },
     "user_tz": -480
    },
    "id": "NCEP-DG0VxlV",
    "outputId": "5adc330a-85ba-4196-ce0e-5455f58c127e"
   },
   "outputs": [
    {
     "name": "stdout",
     "output_type": "stream",
     "text": [
      "1.15.0\n"
     ]
    }
   ],
   "source": [
    "# %tensorflow_version 1.x # 確保 colob 中使用的 tensorflow 是 1.x 版本而不是 tensorflow 2\n",
    "import tensorflow as tf\n",
    "print(tf.__version__)"
   ]
  },
  {
   "cell_type": "code",
   "execution_count": 2,
   "metadata": {
    "colab": {
     "base_uri": "https://localhost:8080/",
     "height": 281
    },
    "colab_type": "code",
    "executionInfo": {
     "elapsed": 10841,
     "status": "ok",
     "timestamp": 1576082721843,
     "user": {
      "displayName": "杜靖愷",
      "photoUrl": "https://lh3.googleusercontent.com/a-/AAuE7mCXX8JZZ0DBZWt2P1EC5LvipxZDIWxKz2uCJ7bzpQ=s64",
      "userId": "03195633593178984431"
     },
     "user_tz": -480
    },
    "id": "eXT7SQe0KQxv",
    "outputId": "444de4be-8b57-432a-defc-2feeaf15cd6f"
   },
   "outputs": [],
   "source": [
    "# pip install keras==2.2.4 # 需要安裝 keras 2.2.4 的版本"
   ]
  },
  {
   "cell_type": "code",
   "execution_count": 3,
   "metadata": {
    "colab": {
     "base_uri": "https://localhost:8080/",
     "height": 160
    },
    "colab_type": "code",
    "executionInfo": {
     "elapsed": 38122,
     "status": "ok",
     "timestamp": 1576082749134,
     "user": {
      "displayName": "杜靖愷",
      "photoUrl": "https://lh3.googleusercontent.com/a-/AAuE7mCXX8JZZ0DBZWt2P1EC5LvipxZDIWxKz2uCJ7bzpQ=s64",
      "userId": "03195633593178984431"
     },
     "user_tz": -480
    },
    "id": "vELO-PTVxAtm",
    "outputId": "bedd9495-2989-4782-cfed-1b414ef42b3d"
   },
   "outputs": [
    {
     "name": "stdout",
     "output_type": "stream",
     "text": [
      "/media/rogerchang/Data/python/cvdl/term_project/keras-yolo3\n"
     ]
    }
   ],
   "source": [
    "# !git clone https://github.com/qqwweee/keras-yolo3 # 如果之前已經下載過就可以註解掉\n",
    "%cd keras-yolo3"
   ]
  },
  {
   "cell_type": "code",
   "execution_count": 4,
   "metadata": {
    "colab": {},
    "colab_type": "code",
    "id": "ooyy53TW5c0L"
   },
   "outputs": [],
   "source": [
    "import os\n",
    "from xml.etree import ElementTree\n",
    "import numpy as np"
   ]
  },
  {
   "cell_type": "code",
   "execution_count": 5,
   "metadata": {},
   "outputs": [],
   "source": [
    "if not os.path.exists('model_data/yolov3.h5'):\n",
    "    # os.system('wget https://pjreddie.com/media/files/yolov3.weights')\n",
    "    os.system('python convert.py yolov3.cfg yolov3.weights model_data/yolov3.h5')\n",
    "else:\n",
    "    pass"
   ]
  },
  {
   "cell_type": "code",
   "execution_count": 6,
   "metadata": {},
   "outputs": [],
   "source": [
    "if not os.path.exists('animals_train.txt'):\n",
    "    sets = ['train', 'val']\n",
    "    \n",
    "    classes = [\"kangaroo\", \"raccoon\"]\n",
    "    \n",
    "    def dump_info(xml_path, list_file):\n",
    "        f = open(xml_path)\n",
    "        tree = ElementTree.parse(f)\n",
    "        root = tree.getroot()\n",
    "        \n",
    "        for obj in tree.iter('object'):\n",
    "            diff = int(obj.find('difficult').text)\n",
    "            cls_name = obj.find('name').text\n",
    "            \n",
    "            if cls_name not in classes or diff == 1:\n",
    "                continue\n",
    "                \n",
    "            cls_index = classes.index(cls_name)\n",
    "            bndbox = obj.find('bndbox')\n",
    "            \n",
    "            b = (int(bndbox.find('xmin').text), int(bndbox.find('ymin').text), int(bndbox.find('xmax').text), int(bndbox.find('ymax').text))\n",
    "            list_file.write(\" \" + \",\".join([str(a) for a in b]) + ',' + str(cls_index))\n",
    "            \n",
    "        f.close()\n",
    "        \n",
    "    \n",
    "    images_dir = ['animals/kangaroo/images', 'animals/raccoon/images']\n",
    "    for s in sets:\n",
    "        list_file = open('animals_%s.txt' % s, 'w')\n",
    "        \n",
    "        for i, annotation_path in enumerate(['animals/kangaroo/annots', 'animals/raccoon/annotations']):\n",
    "            annots = os.listdir(annotation_path)\n",
    "            annots.sort()\n",
    "            annot_size = len(annots)\n",
    "            split_num = int(np.round(annot_size * 0.8))\n",
    "        \n",
    "            if s == 'train':\n",
    "                data = annots[:split_num]\n",
    "            else:\n",
    "                data = annots[split_num:]\n",
    "                \n",
    "            for d in data:\n",
    "                name = d.split('.')[0]\n",
    "                list_file.write(os.path.join(images_dir[i], '%s.jpg' % name))\n",
    "                dump_info(os.path.join(annotation_path, d), list_file)\n",
    "                list_file.write('\\n')\n",
    "        \n",
    "        list_file.close()\n",
    "        "
   ]
  },
  {
   "cell_type": "code",
   "execution_count": 7,
   "metadata": {},
   "outputs": [
    {
     "name": "stderr",
     "output_type": "stream",
     "text": [
      "Using TensorFlow backend.\n"
     ]
    }
   ],
   "source": [
    "import keras.backend as K\n",
    "from keras.layers import Input, Lambda\n",
    "from keras.models import Model\n",
    "from keras.optimizers import Adam\n",
    "from keras.callbacks import TensorBoard, ModelCheckpoint, ReduceLROnPlateau, EarlyStopping\n",
    "\n",
    "from yolo3.model import preprocess_true_boxes, yolo_body, tiny_yolo_body, yolo_loss\n",
    "from yolo3.utils import get_random_data\n",
    "\n",
    "import time"
   ]
  },
  {
   "cell_type": "code",
   "execution_count": 8,
   "metadata": {},
   "outputs": [],
   "source": [
    "from PIL import ImageFile\n",
    "ImageFile.LOAD_TRUNCATED_IMAGES = True"
   ]
  },
  {
   "cell_type": "code",
   "execution_count": 9,
   "metadata": {},
   "outputs": [],
   "source": [
    "import tensorflow as tf\n",
    "tf.logging.set_verbosity(tf.logging.ERROR)\n",
    "\n",
    "config = tf.ConfigProto()\n",
    "config.gpu_options.allow_growth = True\n",
    "sess = tf.Session(config=config)\n",
    "\n",
    "K.set_session(sess)"
   ]
  },
  {
   "cell_type": "code",
   "execution_count": 10,
   "metadata": {},
   "outputs": [],
   "source": [
    "from train import get_classes, get_anchors, create_model, create_tiny_model"
   ]
  },
  {
   "cell_type": "code",
   "execution_count": 11,
   "metadata": {},
   "outputs": [],
   "source": [
    "def data_generator(annotation_lines, batch_size, input_shape, anchors, num_classes, is_train=True):\n",
    "    '''data generator for fit_generator'''\n",
    "    n = len(annotation_lines)\n",
    "    i = 0\n",
    "    while True:\n",
    "        image_data = []\n",
    "        box_data = []\n",
    "        for b in range(batch_size):\n",
    "            if i==0 and is_train:\n",
    "                np.random.shuffle(annotation_lines)\n",
    "            image, box = get_random_data(annotation_lines[i], input_shape, random=is_train, jitter=.7, hue=.3, sat=1.5, val=2.0, blur=True)\n",
    "            image_data.append(image)\n",
    "            box_data.append(box)\n",
    "            i = (i+1) % n\n",
    "        image_data = np.array(image_data)\n",
    "        box_data = np.array(box_data)\n",
    "        y_true = preprocess_true_boxes(box_data, input_shape, anchors, num_classes)\n",
    "        yield [image_data, *y_true], np.zeros(batch_size)"
   ]
  },
  {
   "cell_type": "code",
   "execution_count": 12,
   "metadata": {
    "scrolled": true
   },
   "outputs": [
    {
     "name": "stdout",
     "output_type": "stream",
     "text": [
      "Create YOLOv3 model with 9 anchors and 2 classes.\n"
     ]
    },
    {
     "name": "stderr",
     "output_type": "stream",
     "text": [
      "/home/rogerchang/anaconda3/envs/tensorflow/lib/python3.6/site-packages/keras/engine/saving.py:1140: UserWarning: Skipping loading of weights for layer conv2d_59 due to mismatch in shape ((1, 1, 1024, 21) vs (75, 1024, 1, 1)).\n",
      "  weight_values[i].shape))\n",
      "/home/rogerchang/anaconda3/envs/tensorflow/lib/python3.6/site-packages/keras/engine/saving.py:1140: UserWarning: Skipping loading of weights for layer conv2d_59 due to mismatch in shape ((21,) vs (75,)).\n",
      "  weight_values[i].shape))\n",
      "/home/rogerchang/anaconda3/envs/tensorflow/lib/python3.6/site-packages/keras/engine/saving.py:1140: UserWarning: Skipping loading of weights for layer conv2d_67 due to mismatch in shape ((1, 1, 512, 21) vs (75, 512, 1, 1)).\n",
      "  weight_values[i].shape))\n",
      "/home/rogerchang/anaconda3/envs/tensorflow/lib/python3.6/site-packages/keras/engine/saving.py:1140: UserWarning: Skipping loading of weights for layer conv2d_67 due to mismatch in shape ((21,) vs (75,)).\n",
      "  weight_values[i].shape))\n",
      "/home/rogerchang/anaconda3/envs/tensorflow/lib/python3.6/site-packages/keras/engine/saving.py:1140: UserWarning: Skipping loading of weights for layer conv2d_75 due to mismatch in shape ((1, 1, 256, 21) vs (75, 256, 1, 1)).\n",
      "  weight_values[i].shape))\n",
      "/home/rogerchang/anaconda3/envs/tensorflow/lib/python3.6/site-packages/keras/engine/saving.py:1140: UserWarning: Skipping loading of weights for layer conv2d_75 due to mismatch in shape ((21,) vs (75,)).\n",
      "  weight_values[i].shape))\n"
     ]
    },
    {
     "name": "stdout",
     "output_type": "stream",
     "text": [
      "Load weights model_data/Day41_trained_weights.h5.\n",
      "Freeze the first 249 layers of total 252 layers.\n"
     ]
    }
   ],
   "source": [
    "annotation_path = 'animals_train.txt' # 轉換好格式的標註檔案\n",
    "log_dir = 'logs/%s/' % str(int(time.time()))# 訓練好的模型儲存的路徑\n",
    "classes_path = 'model_data/animal_classes.txt'\n",
    "anchors_path = 'model_data/yolo_anchors.txt'\n",
    "class_names = get_classes(classes_path)\n",
    "num_classes = len(class_names)\n",
    "anchors = get_anchors(anchors_path)\n",
    "\n",
    "input_shape = (416,416) # multiple of 32, hw\n",
    "\n",
    "is_tiny_version = len(anchors)==6 # default setting\n",
    "if is_tiny_version:\n",
    "    model = create_tiny_model(input_shape, anchors, num_classes,\n",
    "        freeze_body=2, weights_path='model_data/tiny_yolo.h5')\n",
    "else:\n",
    "    model = create_model(input_shape, anchors, num_classes, \n",
    "        freeze_body=2, weights_path='model_data/Day41_trained_weights.h5') # make sure you know what you freeze\n",
    "\n",
    "logging = TensorBoard(log_dir=log_dir)\n",
    "checkpoint = ModelCheckpoint(log_dir + 'ep{epoch:03d}-loss{loss:.3f}-val_loss{val_loss:.3f}.h5',\n",
    "    monitor='val_loss', save_weights_only=True, save_best_only=True, period=3)\n",
    "reduce_lr = ReduceLROnPlateau(monitor='val_loss', factor=0.1, patience=20, verbose=1)\n",
    "early_stopping = EarlyStopping(monitor='val_loss', min_delta=0, patience=20, verbose=1)\n",
    "\n",
    "# 分為 training 以及 validation\n",
    "val_split = 0.1\n",
    "with open(annotation_path) as f:\n",
    "    train_lines = f.readlines()\n",
    "with open('animals_val.txt') as f:\n",
    "    val_lines = f.readlines()\n",
    "np.random.seed(10101)\n",
    "np.random.shuffle(train_lines)\n",
    "np.random.seed(None)\n",
    "num_val = len(val_lines)\n",
    "num_train = len(train_lines)"
   ]
  },
  {
   "cell_type": "code",
   "execution_count": 13,
   "metadata": {
    "scrolled": true
   },
   "outputs": [
    {
     "name": "stdout",
     "output_type": "stream",
     "text": [
      "Train on 291 samples, val on 73 samples, with batch size 4.\n",
      "Epoch 1/100\n",
      "72/72 [==============================] - 15s 202ms/step - loss: 859.4374 - val_loss: 97.0701\n",
      "Epoch 2/100\n",
      "72/72 [==============================] - 12s 161ms/step - loss: 84.3122 - val_loss: 55.7162\n",
      "Epoch 3/100\n",
      "72/72 [==============================] - 12s 167ms/step - loss: 54.3954 - val_loss: 41.1664\n",
      "Epoch 4/100\n",
      "72/72 [==============================] - 11s 157ms/step - loss: 42.1602 - val_loss: 33.6268\n",
      "Epoch 5/100\n",
      "72/72 [==============================] - 12s 166ms/step - loss: 36.0174 - val_loss: 29.2516\n",
      "Epoch 6/100\n",
      "72/72 [==============================] - 12s 166ms/step - loss: 31.3878 - val_loss: 26.2536\n",
      "Epoch 7/100\n",
      "72/72 [==============================] - 12s 164ms/step - loss: 28.5602 - val_loss: 24.2058\n",
      "Epoch 8/100\n",
      "72/72 [==============================] - 19s 258ms/step - loss: 26.4224 - val_loss: 22.8003\n",
      "Epoch 9/100\n",
      "72/72 [==============================] - 12s 167ms/step - loss: 24.8727 - val_loss: 21.8106\n",
      "Epoch 10/100\n",
      "72/72 [==============================] - 12s 163ms/step - loss: 24.2919 - val_loss: 20.9411\n",
      "Epoch 11/100\n",
      "72/72 [==============================] - 12s 163ms/step - loss: 23.0665 - val_loss: 19.9727\n",
      "Epoch 12/100\n",
      "72/72 [==============================] - 12s 166ms/step - loss: 22.4128 - val_loss: 19.5482\n",
      "Epoch 13/100\n",
      "72/72 [==============================] - 12s 163ms/step - loss: 21.9707 - val_loss: 19.0958\n",
      "Epoch 14/100\n",
      "72/72 [==============================] - 12s 164ms/step - loss: 21.3343 - val_loss: 18.5667\n",
      "Epoch 15/100\n",
      "72/72 [==============================] - 12s 166ms/step - loss: 20.8681 - val_loss: 18.3603\n",
      "Epoch 16/100\n",
      "72/72 [==============================] - 12s 163ms/step - loss: 20.4490 - val_loss: 17.9849\n",
      "Epoch 17/100\n",
      "72/72 [==============================] - 18s 252ms/step - loss: 20.1492 - val_loss: 17.8975\n",
      "Epoch 18/100\n",
      "72/72 [==============================] - 12s 165ms/step - loss: 19.8466 - val_loss: 18.0483\n",
      "Epoch 19/100\n",
      "72/72 [==============================] - 12s 163ms/step - loss: 19.8161 - val_loss: 17.4664\n",
      "Epoch 20/100\n",
      "72/72 [==============================] - 12s 164ms/step - loss: 19.5655 - val_loss: 17.7006\n",
      "Epoch 21/100\n",
      "72/72 [==============================] - 12s 164ms/step - loss: 19.6204 - val_loss: 17.3333\n",
      "Epoch 22/100\n",
      "72/72 [==============================] - 12s 166ms/step - loss: 18.7649 - val_loss: 17.2908\n",
      "Epoch 23/100\n",
      "72/72 [==============================] - 12s 164ms/step - loss: 19.1358 - val_loss: 17.2286\n",
      "Epoch 24/100\n",
      "72/72 [==============================] - 12s 167ms/step - loss: 19.1871 - val_loss: 16.9904\n",
      "Epoch 25/100\n",
      "72/72 [==============================] - 12s 162ms/step - loss: 18.8012 - val_loss: 16.6948\n",
      "Epoch 26/100\n",
      "72/72 [==============================] - 18s 248ms/step - loss: 18.5267 - val_loss: 16.6535\n",
      "Epoch 27/100\n",
      "72/72 [==============================] - 12s 166ms/step - loss: 18.4090 - val_loss: 17.0621\n",
      "Epoch 28/100\n",
      "72/72 [==============================] - 12s 162ms/step - loss: 18.7722 - val_loss: 16.4120\n",
      "Epoch 29/100\n",
      "72/72 [==============================] - 12s 164ms/step - loss: 18.0231 - val_loss: 16.3907\n",
      "Epoch 30/100\n",
      "72/72 [==============================] - 12s 163ms/step - loss: 18.5355 - val_loss: 16.2502\n",
      "Epoch 31/100\n",
      "72/72 [==============================] - 12s 162ms/step - loss: 18.3285 - val_loss: 16.1132\n",
      "Epoch 32/100\n",
      "72/72 [==============================] - 12s 162ms/step - loss: 17.8048 - val_loss: 16.2616\n",
      "Epoch 33/100\n",
      "72/72 [==============================] - 12s 163ms/step - loss: 18.5408 - val_loss: 16.2846\n",
      "Epoch 34/100\n",
      "72/72 [==============================] - 12s 165ms/step - loss: 17.9360 - val_loss: 16.3869\n",
      "Epoch 35/100\n",
      "72/72 [==============================] - 12s 165ms/step - loss: 18.1178 - val_loss: 16.3510\n",
      "Epoch 36/100\n",
      "72/72 [==============================] - 12s 163ms/step - loss: 17.8612 - val_loss: 16.2624\n",
      "Epoch 37/100\n",
      "72/72 [==============================] - 12s 161ms/step - loss: 18.4469 - val_loss: 16.1048\n",
      "Epoch 38/100\n",
      "72/72 [==============================] - 12s 164ms/step - loss: 17.8296 - val_loss: 16.4003\n",
      "Epoch 39/100\n",
      "72/72 [==============================] - 12s 165ms/step - loss: 18.3987 - val_loss: 16.2211\n",
      "Epoch 40/100\n",
      "72/72 [==============================] - 12s 161ms/step - loss: 17.7377 - val_loss: 15.6701\n",
      "Epoch 41/100\n",
      "72/72 [==============================] - 12s 168ms/step - loss: 17.7580 - val_loss: 16.0419\n",
      "Epoch 42/100\n",
      "72/72 [==============================] - 12s 165ms/step - loss: 16.9796 - val_loss: 15.7258\n",
      "Epoch 43/100\n",
      "72/72 [==============================] - 12s 166ms/step - loss: 17.8109 - val_loss: 15.8690\n",
      "Epoch 44/100\n",
      "72/72 [==============================] - 12s 162ms/step - loss: 17.5764 - val_loss: 16.1529\n",
      "Epoch 45/100\n",
      "72/72 [==============================] - 12s 165ms/step - loss: 17.9693 - val_loss: 15.8313\n",
      "Epoch 46/100\n",
      "72/72 [==============================] - 12s 163ms/step - loss: 16.9900 - val_loss: 15.5155\n",
      "Epoch 47/100\n",
      "72/72 [==============================] - 12s 166ms/step - loss: 16.9236 - val_loss: 15.7118\n",
      "Epoch 48/100\n",
      "72/72 [==============================] - 12s 163ms/step - loss: 17.5318 - val_loss: 15.6062\n",
      "Epoch 49/100\n",
      "72/72 [==============================] - 12s 162ms/step - loss: 17.1697 - val_loss: 15.8103\n",
      "Epoch 50/100\n",
      "72/72 [==============================] - 12s 162ms/step - loss: 17.1018 - val_loss: 15.7866\n",
      "Epoch 51/100\n",
      "72/72 [==============================] - 12s 166ms/step - loss: 17.7380 - val_loss: 15.3583\n",
      "Epoch 52/100\n",
      "72/72 [==============================] - 12s 161ms/step - loss: 17.1678 - val_loss: 15.6714\n",
      "Epoch 53/100\n",
      "72/72 [==============================] - 12s 162ms/step - loss: 17.7643 - val_loss: 15.7015\n",
      "Epoch 54/100\n",
      "72/72 [==============================] - 12s 163ms/step - loss: 16.9294 - val_loss: 15.3602\n",
      "Epoch 55/100\n",
      "72/72 [==============================] - 12s 163ms/step - loss: 16.8812 - val_loss: 15.7725\n",
      "Epoch 56/100\n",
      "72/72 [==============================] - 12s 163ms/step - loss: 17.4265 - val_loss: 15.7353\n",
      "Epoch 57/100\n",
      "72/72 [==============================] - 12s 162ms/step - loss: 17.5899 - val_loss: 15.5546\n",
      "Epoch 58/100\n",
      "72/72 [==============================] - 12s 164ms/step - loss: 17.1262 - val_loss: 15.4702\n",
      "Epoch 59/100\n",
      "72/72 [==============================] - 12s 167ms/step - loss: 16.8204 - val_loss: 15.7191\n",
      "Epoch 60/100\n",
      "72/72 [==============================] - 12s 160ms/step - loss: 17.1434 - val_loss: 15.5725\n",
      "Epoch 61/100\n",
      "72/72 [==============================] - 12s 166ms/step - loss: 16.9167 - val_loss: 15.4702\n",
      "Epoch 62/100\n",
      "72/72 [==============================] - 12s 165ms/step - loss: 17.1555 - val_loss: 15.7339\n",
      "Epoch 63/100\n",
      "72/72 [==============================] - 12s 165ms/step - loss: 17.6595 - val_loss: 15.4410\n",
      "Epoch 64/100\n",
      "72/72 [==============================] - 12s 162ms/step - loss: 16.7374 - val_loss: 15.5969\n",
      "Epoch 65/100\n",
      "72/72 [==============================] - 12s 162ms/step - loss: 16.3828 - val_loss: 15.5204\n",
      "Epoch 66/100\n",
      "72/72 [==============================] - 12s 167ms/step - loss: 16.4975 - val_loss: 15.4913\n",
      "Epoch 67/100\n",
      "72/72 [==============================] - 12s 164ms/step - loss: 17.2759 - val_loss: 14.9596\n",
      "Epoch 68/100\n",
      "72/72 [==============================] - 12s 165ms/step - loss: 16.8998 - val_loss: 15.4868\n",
      "Epoch 69/100\n",
      "72/72 [==============================] - 12s 164ms/step - loss: 16.5574 - val_loss: 15.3883\n",
      "Epoch 70/100\n",
      "72/72 [==============================] - 12s 162ms/step - loss: 17.4935 - val_loss: 15.4353\n",
      "Epoch 71/100\n",
      "72/72 [==============================] - 12s 162ms/step - loss: 17.0848 - val_loss: 15.2888\n",
      "Epoch 72/100\n",
      "72/72 [==============================] - 12s 166ms/step - loss: 16.4170 - val_loss: 15.2849\n",
      "Epoch 73/100\n",
      "72/72 [==============================] - 12s 162ms/step - loss: 16.9350 - val_loss: 15.4551\n",
      "Epoch 74/100\n",
      "72/72 [==============================] - 12s 163ms/step - loss: 16.8388 - val_loss: 15.3870\n",
      "Epoch 75/100\n",
      "72/72 [==============================] - 12s 164ms/step - loss: 16.9459 - val_loss: 15.5347\n",
      "Epoch 76/100\n",
      "72/72 [==============================] - 12s 162ms/step - loss: 16.4591 - val_loss: 15.9843\n",
      "Epoch 77/100\n",
      "72/72 [==============================] - 12s 165ms/step - loss: 16.9548 - val_loss: 15.3933\n",
      "Epoch 78/100\n",
      "72/72 [==============================] - 12s 164ms/step - loss: 17.2108 - val_loss: 15.4052\n",
      "Epoch 79/100\n",
      "72/72 [==============================] - 12s 163ms/step - loss: 16.3780 - val_loss: 15.4260\n",
      "Epoch 80/100\n",
      "72/72 [==============================] - 12s 164ms/step - loss: 16.7109 - val_loss: 15.5682\n",
      "Epoch 81/100\n",
      "72/72 [==============================] - 12s 161ms/step - loss: 16.9274 - val_loss: 15.6404\n",
      "Epoch 82/100\n",
      "72/72 [==============================] - 12s 166ms/step - loss: 16.4982 - val_loss: 15.4686\n",
      "Epoch 83/100\n",
      "72/72 [==============================] - 12s 163ms/step - loss: 17.4284 - val_loss: 15.5023\n",
      "Epoch 84/100\n",
      "72/72 [==============================] - 12s 162ms/step - loss: 16.4499 - val_loss: 15.5131\n",
      "Epoch 85/100\n",
      "72/72 [==============================] - 12s 163ms/step - loss: 16.8895 - val_loss: 15.6303\n",
      "Epoch 86/100\n",
      "72/72 [==============================] - 12s 166ms/step - loss: 16.9311 - val_loss: 15.4211\n",
      "Epoch 87/100\n",
      "72/72 [==============================] - 12s 163ms/step - loss: 16.8658 - val_loss: 15.4835\n",
      "Epoch 88/100\n",
      "72/72 [==============================] - 12s 164ms/step - loss: 16.4881 - val_loss: 15.4405\n",
      "Epoch 89/100\n",
      "72/72 [==============================] - 12s 165ms/step - loss: 16.2838 - val_loss: 15.4133\n",
      "Epoch 90/100\n",
      "72/72 [==============================] - 12s 163ms/step - loss: 16.7387 - val_loss: 15.3952\n",
      "Epoch 91/100\n",
      "72/72 [==============================] - 12s 165ms/step - loss: 16.6076 - val_loss: 15.3459\n",
      "Epoch 92/100\n",
      "72/72 [==============================] - 12s 164ms/step - loss: 16.4102 - val_loss: 15.4806\n",
      "Epoch 93/100\n",
      "72/72 [==============================] - 12s 165ms/step - loss: 16.7789 - val_loss: 15.2959\n",
      "Epoch 94/100\n",
      "72/72 [==============================] - 12s 167ms/step - loss: 16.6012 - val_loss: 15.5646\n",
      "Epoch 95/100\n",
      "72/72 [==============================] - 12s 163ms/step - loss: 16.4062 - val_loss: 15.3478\n",
      "Epoch 96/100\n",
      "72/72 [==============================] - 12s 166ms/step - loss: 16.3089 - val_loss: 15.4353\n",
      "Epoch 97/100\n",
      "72/72 [==============================] - 12s 163ms/step - loss: 16.7149 - val_loss: 15.5535\n",
      "Epoch 98/100\n",
      "72/72 [==============================] - 12s 165ms/step - loss: 16.2846 - val_loss: 15.3767\n",
      "Epoch 99/100\n",
      "72/72 [==============================] - 12s 166ms/step - loss: 16.8673 - val_loss: 15.5038\n",
      "Epoch 100/100\n",
      "72/72 [==============================] - 12s 163ms/step - loss: 16.8102 - val_loss: 15.8659\n"
     ]
    }
   ],
   "source": [
    "# Train with frozen layers first, to get a stable loss.\n",
    "# Adjust num epochs to your dataset. This step is enough to obtain a not bad model.\n",
    "# 一開始先 freeze YOLO 除了 output layer 以外的 darknet53 backbone 來 train\n",
    "if True:\n",
    "    model.compile(optimizer=Adam(lr=1e-3), loss={\n",
    "        # use custom yolo_loss Lambda layer.\n",
    "        'yolo_loss': lambda y_true, y_pred: y_pred})\n",
    "\n",
    "    batch_size = 4\n",
    "    print('Train on {} samples, val on {} samples, with batch size {}.'.format(num_train, num_val, batch_size))\n",
    "    # 模型利用 generator 產生的資料做訓練，強烈建議大家去閱讀及理解 data_generator_wrapper 在 train.py 中的實現\n",
    "    history = model.fit_generator(data_generator(train_lines, batch_size, input_shape, anchors, num_classes, True),\n",
    "            steps_per_epoch=max(1, num_train//batch_size),\n",
    "            validation_data=data_generator(val_lines, batch_size, input_shape, anchors, num_classes, False),\n",
    "            validation_steps=max(1, num_val//batch_size),\n",
    "            epochs=100,\n",
    "            initial_epoch=0,\n",
    "            callbacks=[logging, checkpoint])\n",
    "    model.save_weights(log_dir + 'trained_weights_stage_1.h5')"
   ]
  },
  {
   "cell_type": "code",
   "execution_count": 14,
   "metadata": {
    "scrolled": false
   },
   "outputs": [
    {
     "name": "stdout",
     "output_type": "stream",
     "text": [
      "Unfreeze all of the layers.\n",
      "Train on 291 samples, val on 73 samples, with batch size 4.\n",
      "Epoch 101/200\n",
      "72/72 [==============================] - 24s 337ms/step - loss: 17.3625 - val_loss: 15.1128\n",
      "Epoch 102/200\n",
      "72/72 [==============================] - 18s 255ms/step - loss: 16.5627 - val_loss: 14.6952\n",
      "Epoch 103/200\n",
      "72/72 [==============================] - 20s 274ms/step - loss: 16.0539 - val_loss: 16.0056\n",
      "Epoch 104/200\n",
      "72/72 [==============================] - 18s 255ms/step - loss: 15.8314 - val_loss: 14.7581\n",
      "Epoch 105/200\n",
      "72/72 [==============================] - 18s 255ms/step - loss: 15.2778 - val_loss: 14.5610\n",
      "Epoch 106/200\n",
      "72/72 [==============================] - 18s 256ms/step - loss: 15.5265 - val_loss: 14.4357\n",
      "Epoch 107/200\n",
      "72/72 [==============================] - 18s 256ms/step - loss: 15.6973 - val_loss: 14.6271\n",
      "Epoch 108/200\n",
      "72/72 [==============================] - 18s 256ms/step - loss: 15.4215 - val_loss: 15.0476\n",
      "Epoch 109/200\n",
      "72/72 [==============================] - 18s 256ms/step - loss: 14.6608 - val_loss: 14.0419\n",
      "Epoch 110/200\n",
      "72/72 [==============================] - 18s 256ms/step - loss: 14.7453 - val_loss: 14.3214\n",
      "Epoch 111/200\n",
      "72/72 [==============================] - 18s 256ms/step - loss: 14.8782 - val_loss: 14.6111\n",
      "Epoch 112/200\n",
      "72/72 [==============================] - 18s 257ms/step - loss: 14.8722 - val_loss: 14.5332\n",
      "Epoch 113/200\n",
      "72/72 [==============================] - 18s 257ms/step - loss: 14.6488 - val_loss: 14.4634\n",
      "Epoch 114/200\n",
      "72/72 [==============================] - 18s 256ms/step - loss: 14.8188 - val_loss: 14.7877\n",
      "Epoch 115/200\n",
      "72/72 [==============================] - 18s 257ms/step - loss: 14.4218 - val_loss: 14.4512\n",
      "Epoch 116/200\n",
      "72/72 [==============================] - 18s 257ms/step - loss: 14.8131 - val_loss: 15.4561\n",
      "Epoch 117/200\n",
      "72/72 [==============================] - 18s 257ms/step - loss: 14.5864 - val_loss: 14.1858\n",
      "Epoch 118/200\n",
      "72/72 [==============================] - 18s 256ms/step - loss: 13.9309 - val_loss: 14.6353\n",
      "Epoch 119/200\n",
      "72/72 [==============================] - 18s 256ms/step - loss: 14.3285 - val_loss: 13.8910\n",
      "Epoch 120/200\n",
      "72/72 [==============================] - 18s 256ms/step - loss: 14.3660 - val_loss: 14.1459\n",
      "Epoch 121/200\n",
      "72/72 [==============================] - 18s 256ms/step - loss: 14.1958 - val_loss: 14.2815\n",
      "Epoch 122/200\n",
      "72/72 [==============================] - 18s 256ms/step - loss: 14.4234 - val_loss: 13.7309\n",
      "Epoch 123/200\n",
      "72/72 [==============================] - 18s 256ms/step - loss: 14.1462 - val_loss: 14.1698\n",
      "Epoch 124/200\n",
      "72/72 [==============================] - 18s 256ms/step - loss: 14.2136 - val_loss: 14.6466\n",
      "Epoch 125/200\n",
      "72/72 [==============================] - 18s 257ms/step - loss: 13.9538 - val_loss: 14.2573\n",
      "Epoch 126/200\n",
      "72/72 [==============================] - 18s 257ms/step - loss: 13.7079 - val_loss: 14.2460\n",
      "Epoch 127/200\n",
      "72/72 [==============================] - 18s 257ms/step - loss: 14.0577 - val_loss: 13.9806\n",
      "Epoch 128/200\n",
      "72/72 [==============================] - 18s 257ms/step - loss: 13.5918 - val_loss: 14.0058\n",
      "Epoch 129/200\n",
      "72/72 [==============================] - 18s 257ms/step - loss: 13.7260 - val_loss: 14.4289\n",
      "Epoch 130/200\n",
      "72/72 [==============================] - 18s 257ms/step - loss: 14.0749 - val_loss: 14.0651\n",
      "Epoch 131/200\n",
      "72/72 [==============================] - 18s 257ms/step - loss: 13.8908 - val_loss: 14.4410\n",
      "Epoch 132/200\n",
      "72/72 [==============================] - 18s 257ms/step - loss: 13.9020 - val_loss: 14.4206\n",
      "Epoch 133/200\n",
      "72/72 [==============================] - 18s 257ms/step - loss: 13.7520 - val_loss: 14.1259\n",
      "Epoch 134/200\n",
      "72/72 [==============================] - 19s 262ms/step - loss: 13.6811 - val_loss: 14.3158\n",
      "Epoch 135/200\n",
      "72/72 [==============================] - 19s 261ms/step - loss: 13.9134 - val_loss: 14.2511\n",
      "Epoch 136/200\n",
      "72/72 [==============================] - 19s 258ms/step - loss: 13.8625 - val_loss: 14.1792\n",
      "Epoch 137/200\n",
      "72/72 [==============================] - 19s 259ms/step - loss: 13.6380 - val_loss: 15.1314\n",
      "Epoch 138/200\n",
      "72/72 [==============================] - 19s 258ms/step - loss: 13.9297 - val_loss: 14.0468\n",
      "Epoch 139/200\n",
      "72/72 [==============================] - 19s 258ms/step - loss: 13.6406 - val_loss: 14.9211\n",
      "Epoch 140/200\n",
      "72/72 [==============================] - 19s 259ms/step - loss: 13.4219 - val_loss: 13.6084\n",
      "Epoch 141/200\n",
      "72/72 [==============================] - 19s 259ms/step - loss: 13.3918 - val_loss: 14.4737\n",
      "Epoch 142/200\n",
      "72/72 [==============================] - 19s 258ms/step - loss: 13.3665 - val_loss: 13.4097\n",
      "Epoch 143/200\n",
      "72/72 [==============================] - 19s 259ms/step - loss: 13.2792 - val_loss: 13.6334\n",
      "Epoch 144/200\n",
      "72/72 [==============================] - 19s 259ms/step - loss: 13.4997 - val_loss: 14.1122\n",
      "Epoch 145/200\n",
      "72/72 [==============================] - 19s 259ms/step - loss: 13.3496 - val_loss: 14.2007\n",
      "Epoch 146/200\n",
      "72/72 [==============================] - 19s 259ms/step - loss: 13.4074 - val_loss: 14.1525\n",
      "Epoch 147/200\n",
      "72/72 [==============================] - 19s 258ms/step - loss: 13.1719 - val_loss: 14.0589\n",
      "Epoch 148/200\n",
      "72/72 [==============================] - 19s 259ms/step - loss: 13.5173 - val_loss: 13.6706\n",
      "Epoch 149/200\n",
      "72/72 [==============================] - 19s 258ms/step - loss: 12.9313 - val_loss: 13.6703\n",
      "Epoch 150/200\n",
      "72/72 [==============================] - 19s 259ms/step - loss: 13.1958 - val_loss: 14.0462\n",
      "Epoch 151/200\n",
      "72/72 [==============================] - 19s 262ms/step - loss: 13.2135 - val_loss: 13.6240\n",
      "Epoch 152/200\n",
      "72/72 [==============================] - 19s 258ms/step - loss: 13.3091 - val_loss: 13.6789\n",
      "Epoch 153/200\n",
      "72/72 [==============================] - 19s 257ms/step - loss: 12.7688 - val_loss: 13.6315\n",
      "Epoch 154/200\n",
      "72/72 [==============================] - 23s 318ms/step - loss: 13.3606 - val_loss: 13.5209\n",
      "Epoch 155/200\n",
      "72/72 [==============================] - 18s 256ms/step - loss: 12.5626 - val_loss: 13.6897\n",
      "Epoch 156/200\n",
      "72/72 [==============================] - 18s 256ms/step - loss: 13.2633 - val_loss: 13.7748\n",
      "Epoch 157/200\n",
      "72/72 [==============================] - 18s 257ms/step - loss: 12.7883 - val_loss: 13.4823\n",
      "Epoch 158/200\n",
      "72/72 [==============================] - 18s 257ms/step - loss: 12.5913 - val_loss: 13.5255\n",
      "Epoch 159/200\n",
      "72/72 [==============================] - 18s 257ms/step - loss: 12.8389 - val_loss: 13.7653\n",
      "Epoch 160/200\n",
      "72/72 [==============================] - 19s 257ms/step - loss: 12.6695 - val_loss: 13.2321\n",
      "Epoch 161/200\n",
      "72/72 [==============================] - 18s 257ms/step - loss: 12.9505 - val_loss: 13.7067\n",
      "Epoch 162/200\n",
      "72/72 [==============================] - 19s 257ms/step - loss: 12.2701 - val_loss: 13.7787\n",
      "Epoch 163/200\n",
      "72/72 [==============================] - 19s 257ms/step - loss: 13.3945 - val_loss: 13.4106\n",
      "Epoch 164/200\n",
      "72/72 [==============================] - 18s 257ms/step - loss: 12.3786 - val_loss: 13.8907\n",
      "Epoch 165/200\n",
      "72/72 [==============================] - 19s 257ms/step - loss: 13.0848 - val_loss: 13.7179\n",
      "Epoch 166/200\n",
      "72/72 [==============================] - 19s 257ms/step - loss: 12.9335 - val_loss: 13.6829\n",
      "Epoch 167/200\n",
      "72/72 [==============================] - 19s 257ms/step - loss: 12.5617 - val_loss: 12.7568\n",
      "Epoch 168/200\n",
      "72/72 [==============================] - 19s 257ms/step - loss: 12.4060 - val_loss: 13.6166\n",
      "Epoch 169/200\n",
      "72/72 [==============================] - 18s 257ms/step - loss: 12.6071 - val_loss: 13.4705\n",
      "Epoch 170/200\n",
      "72/72 [==============================] - 18s 257ms/step - loss: 12.6524 - val_loss: 13.4562\n",
      "Epoch 171/200\n",
      "72/72 [==============================] - 18s 257ms/step - loss: 12.3447 - val_loss: 12.9651\n",
      "Epoch 172/200\n",
      "72/72 [==============================] - 18s 256ms/step - loss: 12.1902 - val_loss: 12.9322\n",
      "Epoch 173/200\n",
      "72/72 [==============================] - 19s 257ms/step - loss: 12.4319 - val_loss: 13.4202\n",
      "Epoch 174/200\n",
      "72/72 [==============================] - 19s 257ms/step - loss: 12.1664 - val_loss: 13.6970\n",
      "Epoch 175/200\n",
      "72/72 [==============================] - 18s 257ms/step - loss: 12.2415 - val_loss: 13.0873\n",
      "Epoch 176/200\n",
      "72/72 [==============================] - 19s 257ms/step - loss: 12.6390 - val_loss: 13.4274\n",
      "Epoch 177/200\n",
      "72/72 [==============================] - 18s 256ms/step - loss: 12.0576 - val_loss: 12.9938\n",
      "Epoch 178/200\n",
      "72/72 [==============================] - 18s 256ms/step - loss: 12.3314 - val_loss: 13.4810\n",
      "Epoch 179/200\n",
      "72/72 [==============================] - 18s 256ms/step - loss: 12.2729 - val_loss: 13.1033\n",
      "Epoch 180/200\n",
      "72/72 [==============================] - 18s 257ms/step - loss: 12.3662 - val_loss: 13.1249\n",
      "Epoch 181/200\n",
      "72/72 [==============================] - 18s 256ms/step - loss: 12.2375 - val_loss: 12.8698\n",
      "Epoch 182/200\n",
      "72/72 [==============================] - 18s 256ms/step - loss: 12.2324 - val_loss: 13.0527\n",
      "Epoch 183/200\n",
      "72/72 [==============================] - 18s 256ms/step - loss: 12.1978 - val_loss: 12.7855\n",
      "Epoch 184/200\n",
      "72/72 [==============================] - 18s 256ms/step - loss: 11.8221 - val_loss: 12.7467\n",
      "Epoch 185/200\n",
      "72/72 [==============================] - 18s 256ms/step - loss: 11.9814 - val_loss: 12.9673\n",
      "Epoch 186/200\n",
      "72/72 [==============================] - 18s 256ms/step - loss: 11.9572 - val_loss: 12.9834\n",
      "Epoch 187/200\n",
      "72/72 [==============================] - 18s 256ms/step - loss: 12.0141 - val_loss: 12.8548\n",
      "Epoch 188/200\n",
      "72/72 [==============================] - 18s 256ms/step - loss: 12.0978 - val_loss: 12.4821\n",
      "Epoch 189/200\n",
      "72/72 [==============================] - 18s 256ms/step - loss: 12.0275 - val_loss: 12.8513\n",
      "Epoch 190/200\n",
      "72/72 [==============================] - 18s 256ms/step - loss: 11.7477 - val_loss: 12.5560\n",
      "Epoch 191/200\n",
      "72/72 [==============================] - 18s 256ms/step - loss: 11.6425 - val_loss: 12.6710\n",
      "Epoch 192/200\n",
      "72/72 [==============================] - 18s 256ms/step - loss: 12.0032 - val_loss: 12.8612\n",
      "Epoch 193/200\n",
      "72/72 [==============================] - 18s 256ms/step - loss: 11.6054 - val_loss: 12.4896\n",
      "Epoch 194/200\n",
      "72/72 [==============================] - 18s 257ms/step - loss: 11.8832 - val_loss: 12.6370\n",
      "Epoch 195/200\n",
      "72/72 [==============================] - 18s 256ms/step - loss: 11.7118 - val_loss: 12.4117\n",
      "Epoch 196/200\n",
      "72/72 [==============================] - 18s 256ms/step - loss: 12.1249 - val_loss: 13.0607\n",
      "Epoch 197/200\n",
      "72/72 [==============================] - 18s 256ms/step - loss: 11.7569 - val_loss: 12.9712\n",
      "Epoch 198/200\n",
      "72/72 [==============================] - 18s 256ms/step - loss: 11.8441 - val_loss: 13.1467\n",
      "Epoch 199/200\n",
      "72/72 [==============================] - 18s 256ms/step - loss: 11.5399 - val_loss: 12.6765\n",
      "Epoch 200/200\n",
      "72/72 [==============================] - 18s 256ms/step - loss: 11.8823 - val_loss: 12.1789\n"
     ]
    }
   ],
   "source": [
    "# Unfreeze and continue training, to fine-tune.\n",
    "# Train longer if the result is not good.\n",
    "if True:\n",
    "    # 把所有 layer 都改為 trainable\n",
    "    for i in range(len(model.layers)):\n",
    "        model.layers[i].trainable = True\n",
    "    model.compile(optimizer=Adam(lr=1e-4), loss={'yolo_loss': lambda y_true, y_pred: y_pred}) # recompile to apply the change\n",
    "    print('Unfreeze all of the layers.')\n",
    "\n",
    "    batch_size = 4 # note that more GPU memory is required after unfreezing the body\n",
    "    print('Train on {} samples, val on {} samples, with batch size {}.'.format(num_train, num_val, batch_size))\n",
    "    history2 = model.fit_generator(data_generator(train_lines, batch_size, input_shape, anchors, num_classes, True),\n",
    "        steps_per_epoch=max(1, num_train//batch_size),\n",
    "        validation_data=data_generator(val_lines, batch_size, input_shape, anchors, num_classes, False),\n",
    "        validation_steps=max(1, num_val//batch_size),\n",
    "        epochs=200,\n",
    "        initial_epoch=100,\n",
    "        callbacks=[logging, checkpoint, reduce_lr, early_stopping])\n",
    "    model.save_weights(log_dir + 'trained_weights_final.h5')"
   ]
  },
  {
   "cell_type": "code",
   "execution_count": 15,
   "metadata": {},
   "outputs": [
    {
     "name": "stdout",
     "output_type": "stream",
     "text": [
      "logs/1583888113/trained_weights_final.h5 model, anchors, and classes loaded.\n"
     ]
    }
   ],
   "source": [
    "from yolo import YOLO\n",
    "yolo_model = YOLO(model_path=log_dir + 'trained_weights_final.h5', classes_path=classes_path)"
   ]
  },
  {
   "cell_type": "code",
   "execution_count": 16,
   "metadata": {},
   "outputs": [],
   "source": [
    "from PIL import Image\n",
    "from IPython import display"
   ]
  },
  {
   "cell_type": "code",
   "execution_count": null,
   "metadata": {},
   "outputs": [],
   "source": [
    "for file in os.listdir('../test_img/'):\n",
    "    img = Image.open(os.path.join('../test_img/', file))\n",
    "    r_img = yolo_model.detect_image(img)\n",
    "    display.display(r_img)"
   ]
  },
  {
   "cell_type": "code",
   "execution_count": 18,
   "metadata": {},
   "outputs": [
    {
     "name": "stdout",
     "output_type": "stream",
     "text": [
      "logs/1583888113/\n"
     ]
    }
   ],
   "source": [
    "print(log_dir)"
   ]
  },
  {
   "cell_type": "code",
   "execution_count": 19,
   "metadata": {},
   "outputs": [],
   "source": [
    "import matplotlib.pyplot as plt"
   ]
  },
  {
   "cell_type": "code",
   "execution_count": 20,
   "metadata": {},
   "outputs": [
    {
     "data": {
      "text/plain": [
       "[<matplotlib.lines.Line2D at 0x7f8c40164630>,\n",
       " <matplotlib.lines.Line2D at 0x7f8c40164828>]"
      ]
     },
     "execution_count": 20,
     "metadata": {},
     "output_type": "execute_result"
    },
    {
     "data": {
      "image/png": "[encoded data removed]",
      "text/plain": [
       "<Figure size 432x288 with 1 Axes>"
      ]
     },
     "metadata": {
      "needs_background": "light"
     },
     "output_type": "display_data"
    }
   ],
   "source": [
    "plt.plot(history.epoch, history.history['loss'], history.epoch, history.history['val_loss'])"
   ]
  },
  {
   "cell_type": "code",
   "execution_count": 21,
   "metadata": {},
   "outputs": [
    {
     "data": {
      "text/plain": [
       "[<matplotlib.lines.Line2D at 0x7f8c400f6eb8>,\n",
       " <matplotlib.lines.Line2D at 0x7f8c40105048>]"
      ]
     },
     "execution_count": 21,
     "metadata": {},
     "output_type": "execute_result"
    },
    {
     "data": {
      "image/png": "[encoded data removed]",
      "text/plain": [
       "<Figure size 432x288 with 1 Axes>"
      ]
     },
     "metadata": {
      "needs_background": "light"
     },
     "output_type": "display_data"
    }
   ],
   "source": [
    "plt.plot(history2.epoch, history2.history['loss'], history2.epoch, history2.history['val_loss'])"
   ]
  }
 ],
 "metadata": {
  "accelerator": "GPU",
  "colab": {
   "collapsed_sections": [],
   "name": "Day41_train_yolov3_HW.ipynb",
   "provenance": []
  },
  "kernelspec": {
   "display_name": "Python 3",
   "language": "python",
   "name": "python3"
  },
  "language_info": {
   "codemirror_mode": {
    "name": "ipython",
    "version": 3
   },
   "file_extension": ".py",
   "mimetype": "text/x-python",
   "name": "python",
   "nbconvert_exporter": "python",
   "pygments_lexer": "ipython3",
   "version": "3.6.10"
  }
 },
 "nbformat": 4,
 "nbformat_minor": 1
}
