{
 "cells": [
  {
   "cell_type": "markdown",
   "metadata": {
    "colab_type": "text",
    "id": "CG77DrrB2CrU"
   },
   "source": [
    "## 作業\n",
    "\n",
    "1. 如何使用已經訓練好的模型？\n",
    "2. 依照 https://github.com/qqwweee/keras-yolo3 的程式碼，請敘述，訓練模型時，資料集的格式是什麼？具體一點的說，要提供什麼格式的文件來描述資料集的圖片以及 bboxes 的信息呢？\n",
    "\n",
    "\n",
    "\n"
   ]
  },
  {
   "cell_type": "code",
   "execution_count": 1,
   "metadata": {
    "colab": {
     "base_uri": "https://localhost:8080/",
     "height": 122
    },
    "colab_type": "code",
    "executionInfo": {
     "elapsed": 3899,
     "status": "ok",
     "timestamp": 1576082714890,
     "user": {
      "displayName": "杜靖愷",
      "photoUrl": "https://lh3.googleusercontent.com/a-/AAuE7mCXX8JZZ0DBZWt2P1EC5LvipxZDIWxKz2uCJ7bzpQ=s64",
      "userId": "03195633593178984431"
     },
     "user_tz": -480
    },
    "id": "NCEP-DG0VxlV",
    "outputId": "5adc330a-85ba-4196-ce0e-5455f58c127e"
   },
   "outputs": [
    {
     "name": "stdout",
     "output_type": "stream",
     "text": [
      "1.15.0\n"
     ]
    }
   ],
   "source": [
    "# %tensorflow_version 1.x # 確保 colob 中使用的 tensorflow 是 1.x 版本而不是 tensorflow 2\n",
    "import tensorflow as tf\n",
    "print(tf.__version__)"
   ]
  },
  {
   "cell_type": "code",
   "execution_count": 2,
   "metadata": {
    "colab": {
     "base_uri": "https://localhost:8080/",
     "height": 281
    },
    "colab_type": "code",
    "executionInfo": {
     "elapsed": 10841,
     "status": "ok",
     "timestamp": 1576082721843,
     "user": {
      "displayName": "杜靖愷",
      "photoUrl": "https://lh3.googleusercontent.com/a-/AAuE7mCXX8JZZ0DBZWt2P1EC5LvipxZDIWxKz2uCJ7bzpQ=s64",
      "userId": "03195633593178984431"
     },
     "user_tz": -480
    },
    "id": "eXT7SQe0KQxv",
    "outputId": "444de4be-8b57-432a-defc-2feeaf15cd6f"
   },
   "outputs": [],
   "source": [
    "# pip install keras==2.2.4 # 需要安裝 keras 2.2.4 的版本"
   ]
  },
  {
   "cell_type": "code",
   "execution_count": 3,
   "metadata": {
    "colab": {
     "base_uri": "https://localhost:8080/",
     "height": 160
    },
    "colab_type": "code",
    "executionInfo": {
     "elapsed": 38122,
     "status": "ok",
     "timestamp": 1576082749134,
     "user": {
      "displayName": "杜靖愷",
      "photoUrl": "https://lh3.googleusercontent.com/a-/AAuE7mCXX8JZZ0DBZWt2P1EC5LvipxZDIWxKz2uCJ7bzpQ=s64",
      "userId": "03195633593178984431"
     },
     "user_tz": -480
    },
    "id": "vELO-PTVxAtm",
    "outputId": "bedd9495-2989-4782-cfed-1b414ef42b3d"
   },
   "outputs": [
    {
     "name": "stdout",
     "output_type": "stream",
     "text": [
      "/media/rogerchang/Data/python/cvdl/term_project/keras-yolo3\n"
     ]
    }
   ],
   "source": [
    "# !git clone https://github.com/qqwweee/keras-yolo3 # 如果之前已經下載過就可以註解掉\n",
    "%cd keras-yolo3"
   ]
  },
  {
   "cell_type": "code",
   "execution_count": 4,
   "metadata": {
    "colab": {},
    "colab_type": "code",
    "id": "ooyy53TW5c0L"
   },
   "outputs": [],
   "source": [
    "import os\n",
    "from xml.etree import ElementTree\n",
    "import numpy as np"
   ]
  },
  {
   "cell_type": "code",
   "execution_count": 5,
   "metadata": {},
   "outputs": [],
   "source": [
    "if not os.path.exists('model_data/yolov3.h5'):\n",
    "    # os.system('wget https://pjreddie.com/media/files/yolov3.weights')\n",
    "    os.system('python convert.py yolov3.cfg yolov3.weights model_data/yolov3.h5')\n",
    "else:\n",
    "    pass"
   ]
  },
  {
   "cell_type": "code",
   "execution_count": 6,
   "metadata": {},
   "outputs": [],
   "source": [
    "if not os.path.exists('animals_train.txt'):\n",
    "    sets = ['train', 'val']\n",
    "    \n",
    "    classes = [\"kangaroo\", \"raccoon\"]\n",
    "    \n",
    "    def dump_info(xml_path, list_file):\n",
    "        f = open(xml_path)\n",
    "        tree = ElementTree.parse(f)\n",
    "        root = tree.getroot()\n",
    "        \n",
    "        for obj in tree.iter('object'):\n",
    "            diff = int(obj.find('difficult').text)\n",
    "            cls_name = obj.find('name').text\n",
    "            \n",
    "            if cls_name not in classes or diff == 1:\n",
    "                continue\n",
    "                \n",
    "            cls_index = classes.index(cls_name)\n",
    "            bndbox = obj.find('bndbox')\n",
    "            \n",
    "            b = (int(bndbox.find('xmin').text), int(bndbox.find('ymin').text), int(bndbox.find('xmax').text), int(bndbox.find('ymax').text))\n",
    "            list_file.write(\" \" + \",\".join([str(a) for a in b]) + ',' + str(cls_index))\n",
    "            \n",
    "        f.close()\n",
    "        \n",
    "    \n",
    "    images_dir = ['animals/kangaroo/images', 'animals/raccoon/images']\n",
    "    for s in sets:\n",
    "        list_file = open('animals_%s.txt' % s, 'w')\n",
    "        \n",
    "        for i, annotation_path in enumerate(['animals/kangaroo/annots', 'animals/raccoon/annotations']):\n",
    "            annots = os.listdir(annotation_path)\n",
    "            annots.sort()\n",
    "            annot_size = len(annots)\n",
    "            split_num = int(np.round(annot_size * 0.8))\n",
    "        \n",
    "            if s == 'train':\n",
    "                data = annots[:split_num]\n",
    "            else:\n",
    "                data = annots[split_num:]\n",
    "                \n",
    "            for d in data:\n",
    "                name = d.split('.')[0]\n",
    "                list_file.write(os.path.join(images_dir[i], '%s.jpg' % name))\n",
    "                dump_info(os.path.join(annotation_path, d), list_file)\n",
    "                list_file.write('\\n')\n",
    "        \n",
    "        list_file.close()\n",
    "        "
   ]
  },
  {
   "cell_type": "code",
   "execution_count": 7,
   "metadata": {},
   "outputs": [
    {
     "name": "stderr",
     "output_type": "stream",
     "text": [
      "Using TensorFlow backend.\n"
     ]
    }
   ],
   "source": [
    "import keras.backend as K\n",
    "from keras.layers import Input, Lambda\n",
    "from keras.models import Model\n",
    "from keras.optimizers import Adam\n",
    "from keras.callbacks import TensorBoard, ModelCheckpoint, ReduceLROnPlateau, EarlyStopping\n",
    "\n",
    "from yolo3.model import preprocess_true_boxes, yolo_body, tiny_yolo_body, yolo_loss\n",
    "from yolo3.utils import get_random_data\n",
    "\n",
    "import time"
   ]
  },
  {
   "cell_type": "code",
   "execution_count": 8,
   "metadata": {},
   "outputs": [],
   "source": [
    "from PIL import ImageFile\n",
    "ImageFile.LOAD_TRUNCATED_IMAGES = True"
   ]
  },
  {
   "cell_type": "code",
   "execution_count": 9,
   "metadata": {},
   "outputs": [],
   "source": [
    "import tensorflow as tf\n",
    "tf.logging.set_verbosity(tf.logging.ERROR)\n",
    "\n",
    "config = tf.ConfigProto()\n",
    "config.gpu_options.allow_growth = True\n",
    "sess = tf.Session(config=config)\n",
    "\n",
    "K.set_session(sess)"
   ]
  },
  {
   "cell_type": "code",
   "execution_count": 10,
   "metadata": {},
   "outputs": [],
   "source": [
    "from train import get_classes, get_anchors, create_model, create_tiny_model"
   ]
  },
  {
   "cell_type": "code",
   "execution_count": 11,
   "metadata": {},
   "outputs": [],
   "source": [
    "def data_generator(annotation_lines, batch_size, input_shape, anchors, num_classes, is_train=True):\n",
    "    '''data generator for fit_generator'''\n",
    "    n = len(annotation_lines)\n",
    "    i = 0\n",
    "    while True:\n",
    "        image_data = []\n",
    "        box_data = []\n",
    "        for b in range(batch_size):\n",
    "            if i==0 and is_train:\n",
    "                np.random.shuffle(annotation_lines)\n",
    "            image, box = get_random_data(annotation_lines[i], input_shape, random=is_train)\n",
    "            image_data.append(image)\n",
    "            box_data.append(box)\n",
    "            i = (i+1) % n\n",
    "        image_data = np.array(image_data)\n",
    "        box_data = np.array(box_data)\n",
    "        y_true = preprocess_true_boxes(box_data, input_shape, anchors, num_classes)\n",
    "        yield [image_data, *y_true], np.zeros(batch_size)"
   ]
  },
  {
   "cell_type": "code",
   "execution_count": 12,
   "metadata": {
    "scrolled": true
   },
   "outputs": [
    {
     "name": "stdout",
     "output_type": "stream",
     "text": [
      "Create YOLOv3 model with 9 anchors and 2 classes.\n"
     ]
    },
    {
     "name": "stderr",
     "output_type": "stream",
     "text": [
      "/home/rogerchang/anaconda3/envs/tensorflow/lib/python3.6/site-packages/keras/engine/saving.py:1140: UserWarning: Skipping loading of weights for layer conv2d_59 due to mismatch in shape ((1, 1, 1024, 21) vs (255, 1024, 1, 1)).\n",
      "  weight_values[i].shape))\n",
      "/home/rogerchang/anaconda3/envs/tensorflow/lib/python3.6/site-packages/keras/engine/saving.py:1140: UserWarning: Skipping loading of weights for layer conv2d_59 due to mismatch in shape ((21,) vs (255,)).\n",
      "  weight_values[i].shape))\n",
      "/home/rogerchang/anaconda3/envs/tensorflow/lib/python3.6/site-packages/keras/engine/saving.py:1140: UserWarning: Skipping loading of weights for layer conv2d_67 due to mismatch in shape ((1, 1, 512, 21) vs (255, 512, 1, 1)).\n",
      "  weight_values[i].shape))\n",
      "/home/rogerchang/anaconda3/envs/tensorflow/lib/python3.6/site-packages/keras/engine/saving.py:1140: UserWarning: Skipping loading of weights for layer conv2d_67 due to mismatch in shape ((21,) vs (255,)).\n",
      "  weight_values[i].shape))\n",
      "/home/rogerchang/anaconda3/envs/tensorflow/lib/python3.6/site-packages/keras/engine/saving.py:1140: UserWarning: Skipping loading of weights for layer conv2d_75 due to mismatch in shape ((1, 1, 256, 21) vs (255, 256, 1, 1)).\n",
      "  weight_values[i].shape))\n",
      "/home/rogerchang/anaconda3/envs/tensorflow/lib/python3.6/site-packages/keras/engine/saving.py:1140: UserWarning: Skipping loading of weights for layer conv2d_75 due to mismatch in shape ((21,) vs (255,)).\n",
      "  weight_values[i].shape))\n"
     ]
    },
    {
     "name": "stdout",
     "output_type": "stream",
     "text": [
      "Load weights model_data/yolov3.h5.\n",
      "Freeze the first 249 layers of total 252 layers.\n"
     ]
    }
   ],
   "source": [
    "annotation_path = 'animals_train.txt' # 轉換好格式的標註檔案\n",
    "log_dir = 'logs/%s/' % str(int(time.time()))# 訓練好的模型儲存的路徑\n",
    "classes_path = 'model_data/animal_classes.txt'\n",
    "anchors_path = 'model_data/yolo_anchors.txt'\n",
    "class_names = get_classes(classes_path)\n",
    "num_classes = len(class_names)\n",
    "anchors = get_anchors(anchors_path)\n",
    "\n",
    "input_shape = (416,416) # multiple of 32, hw\n",
    "\n",
    "is_tiny_version = len(anchors)==6 # default setting\n",
    "if is_tiny_version:\n",
    "    model = create_tiny_model(input_shape, anchors, num_classes,\n",
    "        freeze_body=2, weights_path='model_data/tiny_yolo.h5')\n",
    "else:\n",
    "    model = create_model(input_shape, anchors, num_classes, \n",
    "        freeze_body=2, weights_path='model_data/yolov3.h5') # make sure you know what you freeze\n",
    "\n",
    "logging = TensorBoard(log_dir=log_dir)\n",
    "checkpoint = ModelCheckpoint(log_dir + 'ep{epoch:03d}-loss{loss:.3f}-val_loss{val_loss:.3f}.h5',\n",
    "    monitor='val_loss', save_weights_only=True, save_best_only=True, period=3)\n",
    "reduce_lr = ReduceLROnPlateau(monitor='val_loss', factor=0.1, patience=20, verbose=1)\n",
    "early_stopping = EarlyStopping(monitor='val_loss', min_delta=0, patience=20, verbose=1)\n",
    "\n",
    "# 分為 training 以及 validation\n",
    "val_split = 0.1\n",
    "with open(annotation_path) as f:\n",
    "    train_lines = f.readlines()\n",
    "with open('animals_val.txt') as f:\n",
    "    val_lines = f.readlines()\n",
    "np.random.seed(10101)\n",
    "np.random.shuffle(train_lines)\n",
    "np.random.seed(None)\n",
    "num_val = len(val_lines)\n",
    "num_train = len(train_lines)"
   ]
  },
  {
   "cell_type": "code",
   "execution_count": 13,
   "metadata": {
    "scrolled": true
   },
   "outputs": [
    {
     "name": "stdout",
     "output_type": "stream",
     "text": [
      "Train on 291 samples, val on 73 samples, with batch size 4.\n",
      "Epoch 1/100\n",
      "72/72 [==============================] - 14s 191ms/step - loss: 1518.1567 - val_loss: 141.7740\n",
      "Epoch 2/100\n",
      "72/72 [==============================] - 11s 148ms/step - loss: 135.1863 - val_loss: 73.2855\n",
      "Epoch 3/100\n",
      "72/72 [==============================] - 11s 153ms/step - loss: 81.8510 - val_loss: 50.4994\n",
      "Epoch 4/100\n",
      "72/72 [==============================] - 11s 148ms/step - loss: 58.8012 - val_loss: 40.3590\n",
      "Epoch 5/100\n",
      "72/72 [==============================] - 11s 153ms/step - loss: 47.5788 - val_loss: 33.3419\n",
      "Epoch 6/100\n",
      "72/72 [==============================] - 11s 152ms/step - loss: 40.2423 - val_loss: 29.9710\n",
      "Epoch 7/100\n",
      "72/72 [==============================] - 11s 149ms/step - loss: 34.7811 - val_loss: 26.9986\n",
      "Epoch 8/100\n",
      "72/72 [==============================] - 11s 154ms/step - loss: 33.1076 - val_loss: 25.1180\n",
      "Epoch 9/100\n",
      "72/72 [==============================] - 11s 152ms/step - loss: 29.7815 - val_loss: 23.8345\n",
      "Epoch 10/100\n",
      "72/72 [==============================] - 11s 149ms/step - loss: 27.3302 - val_loss: 23.0543\n",
      "Epoch 11/100\n",
      "72/72 [==============================] - 11s 150ms/step - loss: 26.4455 - val_loss: 22.1636\n",
      "Epoch 12/100\n",
      "72/72 [==============================] - 11s 151ms/step - loss: 25.2724 - val_loss: 21.2279\n",
      "Epoch 13/100\n",
      "72/72 [==============================] - 11s 153ms/step - loss: 25.0260 - val_loss: 20.7366\n",
      "Epoch 14/100\n",
      "72/72 [==============================] - 11s 151ms/step - loss: 23.5612 - val_loss: 20.7140\n",
      "Epoch 15/100\n",
      "72/72 [==============================] - 11s 152ms/step - loss: 22.9686 - val_loss: 20.4547\n",
      "Epoch 16/100\n",
      "72/72 [==============================] - 11s 151ms/step - loss: 22.5734 - val_loss: 19.4085\n",
      "Epoch 17/100\n",
      "72/72 [==============================] - 11s 151ms/step - loss: 22.3623 - val_loss: 20.0434\n",
      "Epoch 18/100\n",
      "72/72 [==============================] - 11s 151ms/step - loss: 21.0205 - val_loss: 19.6749\n",
      "Epoch 19/100\n",
      "72/72 [==============================] - 11s 154ms/step - loss: 21.1351 - val_loss: 19.4914\n",
      "Epoch 20/100\n",
      "72/72 [==============================] - 17s 238ms/step - loss: 20.8784 - val_loss: 18.8388\n",
      "Epoch 21/100\n",
      "72/72 [==============================] - 11s 152ms/step - loss: 20.6908 - val_loss: 18.7941\n",
      "Epoch 22/100\n",
      "72/72 [==============================] - 11s 156ms/step - loss: 20.2474 - val_loss: 18.5207\n",
      "Epoch 23/100\n",
      "72/72 [==============================] - 12s 164ms/step - loss: 20.2694 - val_loss: 18.3977\n",
      "Epoch 24/100\n",
      "72/72 [==============================] - 11s 153ms/step - loss: 19.6774 - val_loss: 18.2545\n",
      "Epoch 25/100\n",
      "72/72 [==============================] - 11s 152ms/step - loss: 20.4690 - val_loss: 18.1196\n",
      "Epoch 26/100\n",
      "72/72 [==============================] - 12s 162ms/step - loss: 19.2190 - val_loss: 18.1170\n",
      "Epoch 27/100\n",
      "72/72 [==============================] - 11s 159ms/step - loss: 19.5287 - val_loss: 18.3638\n",
      "Epoch 28/100\n",
      "72/72 [==============================] - 11s 153ms/step - loss: 19.5454 - val_loss: 17.9335\n",
      "Epoch 29/100\n",
      "72/72 [==============================] - 11s 153ms/step - loss: 19.1498 - val_loss: 17.7090\n",
      "Epoch 30/100\n",
      "72/72 [==============================] - 11s 155ms/step - loss: 18.3483 - val_loss: 17.5707\n",
      "Epoch 31/100\n",
      "72/72 [==============================] - 11s 153ms/step - loss: 18.6124 - val_loss: 17.5185\n",
      "Epoch 32/100\n",
      "72/72 [==============================] - 11s 159ms/step - loss: 18.5972 - val_loss: 17.9188\n",
      "Epoch 33/100\n",
      "72/72 [==============================] - 11s 153ms/step - loss: 18.7024 - val_loss: 17.3525\n",
      "Epoch 34/100\n",
      "72/72 [==============================] - 11s 158ms/step - loss: 18.4376 - val_loss: 17.7289\n",
      "Epoch 35/100\n",
      "72/72 [==============================] - 12s 173ms/step - loss: 18.3639 - val_loss: 17.7427\n",
      "Epoch 36/100\n",
      "72/72 [==============================] - 11s 155ms/step - loss: 18.2680 - val_loss: 17.1475\n",
      "Epoch 37/100\n",
      "72/72 [==============================] - 11s 152ms/step - loss: 18.2437 - val_loss: 17.7033\n",
      "Epoch 38/100\n",
      "72/72 [==============================] - 12s 163ms/step - loss: 18.5773 - val_loss: 17.4246\n",
      "Epoch 39/100\n",
      "72/72 [==============================] - 11s 157ms/step - loss: 18.0818 - val_loss: 17.3533\n",
      "Epoch 40/100\n",
      "72/72 [==============================] - 11s 153ms/step - loss: 17.6997 - val_loss: 17.3547\n",
      "Epoch 41/100\n",
      "72/72 [==============================] - 11s 154ms/step - loss: 17.7205 - val_loss: 17.3335\n",
      "Epoch 42/100\n",
      "72/72 [==============================] - 11s 153ms/step - loss: 17.8919 - val_loss: 16.8677\n",
      "Epoch 43/100\n",
      "72/72 [==============================] - 11s 157ms/step - loss: 18.1832 - val_loss: 17.2206\n",
      "Epoch 44/100\n",
      "72/72 [==============================] - 12s 166ms/step - loss: 17.4334 - val_loss: 17.2622\n",
      "Epoch 45/100\n",
      "72/72 [==============================] - 11s 152ms/step - loss: 17.6608 - val_loss: 16.7038\n",
      "Epoch 46/100\n",
      "72/72 [==============================] - 11s 157ms/step - loss: 17.8367 - val_loss: 17.1432\n",
      "Epoch 47/100\n",
      "72/72 [==============================] - 12s 172ms/step - loss: 16.9770 - val_loss: 16.9590\n",
      "Epoch 48/100\n",
      "72/72 [==============================] - 11s 153ms/step - loss: 17.4491 - val_loss: 16.5976\n",
      "Epoch 49/100\n",
      "72/72 [==============================] - 17s 237ms/step - loss: 18.2037 - val_loss: 17.1781\n",
      "Epoch 50/100\n",
      "72/72 [==============================] - 11s 153ms/step - loss: 16.8745 - val_loss: 17.0326\n",
      "Epoch 51/100\n",
      "72/72 [==============================] - 11s 151ms/step - loss: 17.2233 - val_loss: 16.5274\n",
      "Epoch 52/100\n",
      "72/72 [==============================] - 11s 152ms/step - loss: 17.6590 - val_loss: 16.7428\n",
      "Epoch 53/100\n",
      "72/72 [==============================] - 11s 151ms/step - loss: 17.1471 - val_loss: 16.6337\n",
      "Epoch 54/100\n",
      "72/72 [==============================] - 11s 151ms/step - loss: 17.1804 - val_loss: 16.4639\n",
      "Epoch 55/100\n",
      "72/72 [==============================] - 11s 151ms/step - loss: 16.9201 - val_loss: 16.7640\n",
      "Epoch 56/100\n",
      "72/72 [==============================] - 11s 154ms/step - loss: 17.2289 - val_loss: 16.5312\n",
      "Epoch 57/100\n",
      "72/72 [==============================] - 11s 150ms/step - loss: 16.5792 - val_loss: 16.3551\n",
      "Epoch 58/100\n",
      "72/72 [==============================] - 11s 151ms/step - loss: 16.8412 - val_loss: 16.2385\n",
      "Epoch 59/100\n",
      "72/72 [==============================] - 17s 235ms/step - loss: 16.7835 - val_loss: 16.5204\n",
      "Epoch 60/100\n",
      "72/72 [==============================] - 11s 152ms/step - loss: 17.0883 - val_loss: 16.4172\n",
      "Epoch 61/100\n",
      "72/72 [==============================] - 11s 152ms/step - loss: 17.1809 - val_loss: 16.8896\n",
      "Epoch 62/100\n",
      "72/72 [==============================] - 11s 151ms/step - loss: 17.0673 - val_loss: 16.5147\n",
      "Epoch 63/100\n",
      "72/72 [==============================] - 11s 151ms/step - loss: 16.9363 - val_loss: 16.6891\n",
      "Epoch 64/100\n",
      "72/72 [==============================] - 11s 153ms/step - loss: 16.7868 - val_loss: 16.5556\n",
      "Epoch 65/100\n",
      "72/72 [==============================] - 11s 151ms/step - loss: 16.7093 - val_loss: 16.4450\n",
      "Epoch 66/100\n",
      "72/72 [==============================] - 11s 151ms/step - loss: 17.0086 - val_loss: 16.8578\n",
      "Epoch 67/100\n",
      "72/72 [==============================] - 11s 150ms/step - loss: 16.9693 - val_loss: 16.1728\n",
      "Epoch 68/100\n",
      "72/72 [==============================] - 11s 151ms/step - loss: 16.2804 - val_loss: 16.4202\n",
      "Epoch 69/100\n",
      "72/72 [==============================] - 11s 151ms/step - loss: 16.8665 - val_loss: 16.3866\n",
      "Epoch 70/100\n",
      "72/72 [==============================] - 11s 151ms/step - loss: 16.7753 - val_loss: 16.5326\n",
      "Epoch 71/100\n",
      "72/72 [==============================] - 11s 151ms/step - loss: 16.6202 - val_loss: 16.2569\n",
      "Epoch 72/100\n",
      "72/72 [==============================] - 11s 151ms/step - loss: 16.6625 - val_loss: 16.6936\n",
      "Epoch 73/100\n",
      "72/72 [==============================] - 11s 151ms/step - loss: 16.5513 - val_loss: 16.6561\n",
      "Epoch 74/100\n",
      "72/72 [==============================] - 11s 152ms/step - loss: 16.5832 - val_loss: 16.3201\n",
      "Epoch 75/100\n",
      "72/72 [==============================] - 11s 151ms/step - loss: 16.9902 - val_loss: 16.3979\n",
      "Epoch 76/100\n",
      "72/72 [==============================] - 11s 152ms/step - loss: 16.5478 - val_loss: 15.9185\n",
      "Epoch 77/100\n",
      "72/72 [==============================] - 11s 152ms/step - loss: 16.0461 - val_loss: 16.1496\n",
      "Epoch 78/100\n",
      "72/72 [==============================] - 11s 152ms/step - loss: 16.6988 - val_loss: 16.3675\n",
      "Epoch 79/100\n",
      "72/72 [==============================] - 11s 150ms/step - loss: 16.6751 - val_loss: 16.4916\n",
      "Epoch 80/100\n",
      "72/72 [==============================] - 11s 151ms/step - loss: 16.5574 - val_loss: 16.6666\n",
      "Epoch 81/100\n",
      "72/72 [==============================] - 11s 150ms/step - loss: 17.4911 - val_loss: 16.4934\n",
      "Epoch 82/100\n",
      "72/72 [==============================] - 11s 151ms/step - loss: 16.6294 - val_loss: 16.2520\n",
      "Epoch 83/100\n",
      "72/72 [==============================] - 11s 152ms/step - loss: 17.1804 - val_loss: 17.1492\n",
      "Epoch 84/100\n",
      "72/72 [==============================] - 11s 151ms/step - loss: 16.8105 - val_loss: 16.7131\n",
      "Epoch 85/100\n",
      "72/72 [==============================] - 11s 150ms/step - loss: 17.0885 - val_loss: 16.7336\n",
      "Epoch 86/100\n",
      "72/72 [==============================] - 11s 153ms/step - loss: 16.8964 - val_loss: 16.8326\n",
      "Epoch 87/100\n",
      "72/72 [==============================] - 11s 149ms/step - loss: 16.0677 - val_loss: 16.5215\n",
      "Epoch 88/100\n",
      "72/72 [==============================] - 11s 152ms/step - loss: 16.5093 - val_loss: 16.9419\n",
      "Epoch 89/100\n",
      "72/72 [==============================] - 11s 152ms/step - loss: 16.3426 - val_loss: 16.9883\n",
      "Epoch 90/100\n",
      "72/72 [==============================] - 11s 153ms/step - loss: 16.4136 - val_loss: 16.9264\n",
      "Epoch 91/100\n",
      "72/72 [==============================] - 11s 151ms/step - loss: 16.2362 - val_loss: 16.6485\n",
      "Epoch 92/100\n",
      "72/72 [==============================] - 11s 151ms/step - loss: 16.4093 - val_loss: 15.9323\n",
      "Epoch 93/100\n",
      "72/72 [==============================] - 11s 152ms/step - loss: 16.6285 - val_loss: 16.4984\n",
      "Epoch 94/100\n",
      "72/72 [==============================] - 11s 151ms/step - loss: 16.4775 - val_loss: 16.5992\n",
      "Epoch 95/100\n",
      "72/72 [==============================] - 11s 150ms/step - loss: 16.1476 - val_loss: 16.5619\n",
      "Epoch 96/100\n",
      "72/72 [==============================] - 11s 151ms/step - loss: 16.1150 - val_loss: 16.3170\n",
      "Epoch 97/100\n",
      "72/72 [==============================] - 11s 150ms/step - loss: 16.4867 - val_loss: 16.1029\n",
      "Epoch 98/100\n",
      "72/72 [==============================] - 11s 151ms/step - loss: 16.3537 - val_loss: 15.9358\n",
      "Epoch 99/100\n",
      "72/72 [==============================] - 11s 150ms/step - loss: 16.1446 - val_loss: 16.1444\n",
      "Epoch 100/100\n",
      "72/72 [==============================] - 11s 150ms/step - loss: 16.5928 - val_loss: 16.4770\n"
     ]
    }
   ],
   "source": [
    "# Train with frozen layers first, to get a stable loss.\n",
    "# Adjust num epochs to your dataset. This step is enough to obtain a not bad model.\n",
    "# 一開始先 freeze YOLO 除了 output layer 以外的 darknet53 backbone 來 train\n",
    "if True:\n",
    "    model.compile(optimizer=Adam(lr=1e-3), loss={\n",
    "        # use custom yolo_loss Lambda layer.\n",
    "        'yolo_loss': lambda y_true, y_pred: y_pred})\n",
    "\n",
    "    batch_size = 4\n",
    "    print('Train on {} samples, val on {} samples, with batch size {}.'.format(num_train, num_val, batch_size))\n",
    "    # 模型利用 generator 產生的資料做訓練，強烈建議大家去閱讀及理解 data_generator_wrapper 在 train.py 中的實現\n",
    "    history = model.fit_generator(data_generator(train_lines, batch_size, input_shape, anchors, num_classes, True),\n",
    "            steps_per_epoch=max(1, num_train//batch_size),\n",
    "            validation_data=data_generator(val_lines, batch_size, input_shape, anchors, num_classes, False),\n",
    "            validation_steps=max(1, num_val//batch_size),\n",
    "            epochs=100,\n",
    "            initial_epoch=0,\n",
    "            callbacks=[logging, checkpoint])\n",
    "    model.save_weights(log_dir + 'trained_weights_stage_1.h5')"
   ]
  },
  {
   "cell_type": "code",
   "execution_count": 14,
   "metadata": {
    "scrolled": false
   },
   "outputs": [
    {
     "name": "stdout",
     "output_type": "stream",
     "text": [
      "Unfreeze all of the layers.\n",
      "Train on 291 samples, val on 73 samples, with batch size 4.\n",
      "Epoch 101/200\n",
      "72/72 [==============================] - 24s 330ms/step - loss: 17.3269 - val_loss: 15.9942\n",
      "Epoch 102/200\n",
      "72/72 [==============================] - 18s 252ms/step - loss: 16.2424 - val_loss: 16.3021\n",
      "Epoch 103/200\n",
      "72/72 [==============================] - 18s 253ms/step - loss: 15.8221 - val_loss: 15.2437\n",
      "Epoch 104/200\n",
      "72/72 [==============================] - 18s 254ms/step - loss: 15.3212 - val_loss: 15.4518\n",
      "Epoch 105/200\n",
      "72/72 [==============================] - 18s 253ms/step - loss: 15.4256 - val_loss: 15.4905\n",
      "Epoch 106/200\n",
      "72/72 [==============================] - 18s 253ms/step - loss: 14.8808 - val_loss: 16.0951\n",
      "Epoch 107/200\n",
      "72/72 [==============================] - 18s 253ms/step - loss: 14.6548 - val_loss: 14.4249\n",
      "Epoch 108/200\n",
      "72/72 [==============================] - 18s 253ms/step - loss: 14.5156 - val_loss: 14.5021\n",
      "Epoch 109/200\n",
      "72/72 [==============================] - 18s 254ms/step - loss: 14.5689 - val_loss: 15.6658\n",
      "Epoch 110/200\n",
      "72/72 [==============================] - 18s 253ms/step - loss: 15.1606 - val_loss: 15.6311\n",
      "Epoch 111/200\n",
      "72/72 [==============================] - 18s 254ms/step - loss: 14.9865 - val_loss: 14.9761\n",
      "Epoch 112/200\n",
      "72/72 [==============================] - 18s 253ms/step - loss: 14.2114 - val_loss: 15.3641\n",
      "Epoch 113/200\n",
      "72/72 [==============================] - 18s 253ms/step - loss: 14.8421 - val_loss: 15.2151\n",
      "Epoch 114/200\n",
      "72/72 [==============================] - 18s 253ms/step - loss: 14.7279 - val_loss: 14.7393\n",
      "Epoch 115/200\n",
      "72/72 [==============================] - 18s 253ms/step - loss: 14.2819 - val_loss: 14.4106\n",
      "Epoch 116/200\n",
      "72/72 [==============================] - 18s 253ms/step - loss: 13.9870 - val_loss: 15.1316\n",
      "Epoch 117/200\n",
      "72/72 [==============================] - 18s 253ms/step - loss: 13.8558 - val_loss: 14.7268\n",
      "Epoch 118/200\n",
      "72/72 [==============================] - 18s 254ms/step - loss: 13.8296 - val_loss: 14.9516\n",
      "Epoch 119/200\n",
      "72/72 [==============================] - 18s 253ms/step - loss: 14.1760 - val_loss: 16.9531\n",
      "Epoch 120/200\n",
      "72/72 [==============================] - 18s 253ms/step - loss: 14.1018 - val_loss: 14.8386\n",
      "Epoch 121/200\n",
      "72/72 [==============================] - 18s 254ms/step - loss: 13.7980 - val_loss: 14.5118\n",
      "Epoch 122/200\n",
      "72/72 [==============================] - 18s 253ms/step - loss: 14.0255 - val_loss: 15.0535\n",
      "Epoch 123/200\n",
      "72/72 [==============================] - 18s 253ms/step - loss: 13.6718 - val_loss: 14.8358\n",
      "Epoch 124/200\n",
      "72/72 [==============================] - 18s 253ms/step - loss: 14.0593 - val_loss: 14.9837\n",
      "Epoch 125/200\n",
      "72/72 [==============================] - 18s 253ms/step - loss: 13.5624 - val_loss: 14.8385\n",
      "Epoch 126/200\n",
      "72/72 [==============================] - 18s 253ms/step - loss: 13.9472 - val_loss: 14.5629\n",
      "Epoch 127/200\n",
      "72/72 [==============================] - 18s 253ms/step - loss: 13.6711 - val_loss: 15.7929\n",
      "Epoch 128/200\n",
      "72/72 [==============================] - 18s 254ms/step - loss: 13.4717 - val_loss: 16.0872\n",
      "Epoch 129/200\n",
      "72/72 [==============================] - 18s 253ms/step - loss: 13.8060 - val_loss: 14.7605\n",
      "Epoch 130/200\n",
      "72/72 [==============================] - 18s 253ms/step - loss: 14.0566 - val_loss: 14.7933\n",
      "Epoch 131/200\n",
      "72/72 [==============================] - 18s 253ms/step - loss: 13.9485 - val_loss: 15.9770\n",
      "Epoch 132/200\n",
      "72/72 [==============================] - 18s 253ms/step - loss: 13.8644 - val_loss: 14.5192\n",
      "Epoch 133/200\n",
      "72/72 [==============================] - 18s 254ms/step - loss: 13.5670 - val_loss: 15.0894\n",
      "Epoch 134/200\n",
      "72/72 [==============================] - 18s 253ms/step - loss: 13.3818 - val_loss: 14.3233\n",
      "Epoch 135/200\n",
      "72/72 [==============================] - 18s 253ms/step - loss: 13.6257 - val_loss: 14.4366\n",
      "Epoch 136/200\n",
      "72/72 [==============================] - 18s 253ms/step - loss: 13.5512 - val_loss: 15.0178\n",
      "Epoch 137/200\n",
      "72/72 [==============================] - 18s 253ms/step - loss: 13.7680 - val_loss: 15.0798\n",
      "Epoch 138/200\n",
      "72/72 [==============================] - 18s 253ms/step - loss: 13.0469 - val_loss: 15.0229\n",
      "Epoch 139/200\n",
      "72/72 [==============================] - 18s 252ms/step - loss: 13.4685 - val_loss: 14.5109\n",
      "Epoch 140/200\n",
      "72/72 [==============================] - 18s 253ms/step - loss: 12.9968 - val_loss: 14.2506\n",
      "Epoch 141/200\n",
      "72/72 [==============================] - 18s 253ms/step - loss: 13.6984 - val_loss: 14.9043\n",
      "Epoch 142/200\n",
      "72/72 [==============================] - 18s 253ms/step - loss: 13.2209 - val_loss: 14.4131\n",
      "Epoch 143/200\n",
      "72/72 [==============================] - 18s 254ms/step - loss: 13.0201 - val_loss: 14.5292\n",
      "Epoch 144/200\n",
      "72/72 [==============================] - 18s 253ms/step - loss: 13.5286 - val_loss: 14.6446\n",
      "Epoch 145/200\n",
      "72/72 [==============================] - 18s 252ms/step - loss: 13.5355 - val_loss: 14.7496\n",
      "Epoch 146/200\n",
      "72/72 [==============================] - 18s 253ms/step - loss: 12.8783 - val_loss: 13.7919\n",
      "Epoch 147/200\n",
      "72/72 [==============================] - 18s 253ms/step - loss: 13.3360 - val_loss: 14.2783\n",
      "Epoch 148/200\n",
      "72/72 [==============================] - 18s 253ms/step - loss: 13.0043 - val_loss: 14.2023\n",
      "Epoch 149/200\n",
      "72/72 [==============================] - 18s 254ms/step - loss: 13.4195 - val_loss: 15.3259\n",
      "Epoch 150/200\n",
      "72/72 [==============================] - 18s 253ms/step - loss: 12.8469 - val_loss: 14.3834\n",
      "Epoch 151/200\n",
      "72/72 [==============================] - 18s 253ms/step - loss: 12.7983 - val_loss: 14.1523\n",
      "Epoch 152/200\n",
      "72/72 [==============================] - 18s 253ms/step - loss: 12.9911 - val_loss: 14.3563\n",
      "Epoch 153/200\n",
      "72/72 [==============================] - 18s 253ms/step - loss: 12.7010 - val_loss: 14.2577\n",
      "Epoch 154/200\n",
      "72/72 [==============================] - 18s 253ms/step - loss: 13.1500 - val_loss: 14.1427\n",
      "Epoch 155/200\n",
      "72/72 [==============================] - 18s 253ms/step - loss: 12.5011 - val_loss: 14.7931\n",
      "Epoch 156/200\n",
      "72/72 [==============================] - 18s 253ms/step - loss: 12.9606 - val_loss: 14.2868\n",
      "Epoch 157/200\n",
      "72/72 [==============================] - 18s 253ms/step - loss: 12.9263 - val_loss: 14.5310\n",
      "Epoch 158/200\n",
      "72/72 [==============================] - 18s 253ms/step - loss: 12.9807 - val_loss: 13.9428\n",
      "Epoch 159/200\n",
      "72/72 [==============================] - 18s 253ms/step - loss: 12.9781 - val_loss: 13.7676\n",
      "Epoch 160/200\n",
      "72/72 [==============================] - 18s 253ms/step - loss: 12.6897 - val_loss: 14.3535\n",
      "Epoch 161/200\n",
      "72/72 [==============================] - 18s 253ms/step - loss: 13.0610 - val_loss: 14.4307\n",
      "Epoch 162/200\n",
      "72/72 [==============================] - 18s 253ms/step - loss: 12.7677 - val_loss: 13.8719\n",
      "Epoch 163/200\n",
      "72/72 [==============================] - 18s 253ms/step - loss: 12.9123 - val_loss: 13.8675\n",
      "Epoch 164/200\n",
      "72/72 [==============================] - 18s 253ms/step - loss: 12.2054 - val_loss: 14.0880\n",
      "Epoch 165/200\n",
      "72/72 [==============================] - 18s 253ms/step - loss: 12.7405 - val_loss: 14.1527\n",
      "Epoch 166/200\n",
      "72/72 [==============================] - 18s 253ms/step - loss: 12.8085 - val_loss: 17.0925\n",
      "Epoch 167/200\n",
      "72/72 [==============================] - 18s 253ms/step - loss: 13.2228 - val_loss: 13.2656\n",
      "Epoch 168/200\n",
      "72/72 [==============================] - 18s 253ms/step - loss: 12.7815 - val_loss: 13.8993\n",
      "Epoch 169/200\n",
      "72/72 [==============================] - 18s 253ms/step - loss: 12.3942 - val_loss: 13.7490\n",
      "Epoch 170/200\n",
      "72/72 [==============================] - 18s 253ms/step - loss: 12.4590 - val_loss: 13.7882\n",
      "Epoch 171/200\n",
      "72/72 [==============================] - 18s 253ms/step - loss: 12.5697 - val_loss: 14.1053\n",
      "Epoch 172/200\n",
      "72/72 [==============================] - 18s 253ms/step - loss: 12.4116 - val_loss: 13.8928\n",
      "Epoch 173/200\n",
      "72/72 [==============================] - 18s 253ms/step - loss: 12.8395 - val_loss: 13.6140\n",
      "Epoch 174/200\n",
      "72/72 [==============================] - 18s 253ms/step - loss: 12.5933 - val_loss: 14.0654\n",
      "Epoch 175/200\n",
      "72/72 [==============================] - 18s 253ms/step - loss: 12.2828 - val_loss: 14.5000\n",
      "Epoch 176/200\n",
      "72/72 [==============================] - 18s 253ms/step - loss: 12.1437 - val_loss: 13.9547\n",
      "Epoch 177/200\n",
      "72/72 [==============================] - 18s 254ms/step - loss: 12.5687 - val_loss: 14.5223\n",
      "Epoch 178/200\n",
      "72/72 [==============================] - 18s 253ms/step - loss: 12.3296 - val_loss: 14.1571\n",
      "Epoch 179/200\n",
      "72/72 [==============================] - 18s 253ms/step - loss: 12.2690 - val_loss: 13.7030\n",
      "Epoch 180/200\n",
      "72/72 [==============================] - 18s 253ms/step - loss: 12.2385 - val_loss: 13.5663\n",
      "Epoch 181/200\n",
      "72/72 [==============================] - 18s 253ms/step - loss: 12.3134 - val_loss: 13.6113\n",
      "Epoch 182/200\n",
      "72/72 [==============================] - 18s 253ms/step - loss: 11.8954 - val_loss: 13.7743\n",
      "Epoch 183/200\n",
      "72/72 [==============================] - 18s 253ms/step - loss: 12.5120 - val_loss: 14.1356\n",
      "Epoch 184/200\n",
      "72/72 [==============================] - 18s 253ms/step - loss: 12.0813 - val_loss: 13.5864\n",
      "Epoch 185/200\n",
      "72/72 [==============================] - 18s 253ms/step - loss: 11.8724 - val_loss: 15.7287\n",
      "Epoch 186/200\n",
      "72/72 [==============================] - 18s 253ms/step - loss: 11.9781 - val_loss: 13.6004\n",
      "Epoch 187/200\n",
      "72/72 [==============================] - 18s 253ms/step - loss: 12.3159 - val_loss: 13.3229\n",
      "\n",
      "Epoch 00187: ReduceLROnPlateau reducing learning rate to 9.999999747378752e-06.\n",
      "Epoch 00187: early stopping\n"
     ]
    }
   ],
   "source": [
    "# Unfreeze and continue training, to fine-tune.\n",
    "# Train longer if the result is not good.\n",
    "if True:\n",
    "    # 把所有 layer 都改為 trainable\n",
    "    for i in range(len(model.layers)):\n",
    "        model.layers[i].trainable = True\n",
    "    model.compile(optimizer=Adam(lr=1e-4), loss={'yolo_loss': lambda y_true, y_pred: y_pred}) # recompile to apply the change\n",
    "    print('Unfreeze all of the layers.')\n",
    "\n",
    "    batch_size = 4 # note that more GPU memory is required after unfreezing the body\n",
    "    print('Train on {} samples, val on {} samples, with batch size {}.'.format(num_train, num_val, batch_size))\n",
    "    history2 = model.fit_generator(data_generator(train_lines, batch_size, input_shape, anchors, num_classes, True),\n",
    "        steps_per_epoch=max(1, num_train//batch_size),\n",
    "        validation_data=data_generator(val_lines, batch_size, input_shape, anchors, num_classes, False),\n",
    "        validation_steps=max(1, num_val//batch_size),\n",
    "        epochs=200,\n",
    "        initial_epoch=100,\n",
    "        callbacks=[logging, checkpoint, reduce_lr, early_stopping])\n",
    "    model.save_weights(log_dir + 'trained_weights_final.h5')"
   ]
  },
  {
   "cell_type": "code",
   "execution_count": 15,
   "metadata": {},
   "outputs": [
    {
     "name": "stdout",
     "output_type": "stream",
     "text": [
      "logs/1583401393/trained_weights_final.h5 model, anchors, and classes loaded.\n"
     ]
    }
   ],
   "source": [
    "from yolo import YOLO\n",
    "yolo_model = YOLO(model_path=log_dir + 'trained_weights_final.h5', classes_path=classes_path)"
   ]
  },
  {
   "cell_type": "code",
   "execution_count": 16,
   "metadata": {},
   "outputs": [],
   "source": [
    "from PIL import Image\n",
    "from IPython import display"
   ]
  },
  {
   "cell_type": "code",
   "execution_count": null,
   "metadata": {},
   "outputs": [],
   "source": [
    "for file in os.listdir('../test_img/'):\n",
    "    img = Image.open(os.path.join('../test_img/', file))\n",
    "    r_img = yolo_model.detect_image(img)\n",
    "    display.display(r_img)"
   ]
  },
  {
   "cell_type": "code",
   "execution_count": 18,
   "metadata": {},
   "outputs": [
    {
     "name": "stdout",
     "output_type": "stream",
     "text": [
      "logs/1583401393/\n"
     ]
    }
   ],
   "source": [
    "print(log_dir)"
   ]
  },
  {
   "cell_type": "code",
   "execution_count": 19,
   "metadata": {},
   "outputs": [],
   "source": [
    "import matplotlib.pyplot as plt"
   ]
  },
  {
   "cell_type": "code",
   "execution_count": 20,
   "metadata": {},
   "outputs": [
    {
     "data": {
      "text/plain": [
       "[<matplotlib.lines.Line2D at 0x7f21bd36a630>,\n",
       " <matplotlib.lines.Line2D at 0x7f21bd36a828>]"
      ]
     },
     "execution_count": 20,
     "metadata": {},
     "output_type": "execute_result"
    },
    {
     "data": {
      "image/png": "[encoded data removed]",
      "text/plain": [
       "<Figure size 432x288 with 1 Axes>"
      ]
     },
     "metadata": {
      "needs_background": "light"
     },
     "output_type": "display_data"
    }
   ],
   "source": [
    "plt.plot(history.epoch, history.history['loss'], history.epoch, history.history['val_loss'])"
   ]
  },
  {
   "cell_type": "code",
   "execution_count": 21,
   "metadata": {},
   "outputs": [
    {
     "data": {
      "text/plain": [
       "[<matplotlib.lines.Line2D at 0x7f21bd107048>,\n",
       " <matplotlib.lines.Line2D at 0x7f21bd107198>]"
      ]
     },
     "execution_count": 21,
     "metadata": {},
     "output_type": "execute_result"
    },
    {
     "data": {
      "image/png": "[encoded data removed]",
      "text/plain": [
       "<Figure size 432x288 with 1 Axes>"
      ]
     },
     "metadata": {
      "needs_background": "light"
     },
     "output_type": "display_data"
    }
   ],
   "source": [
    "plt.plot(history2.epoch, history2.history['loss'], history2.epoch, history2.history['val_loss'])"
   ]
  }
 ],
 "metadata": {
  "accelerator": "GPU",
  "colab": {
   "collapsed_sections": [],
   "name": "Day41_train_yolov3_HW.ipynb",
   "provenance": []
  },
  "kernelspec": {
   "display_name": "Python 3",
   "language": "python",
   "name": "python3"
  },
  "language_info": {
   "codemirror_mode": {
    "name": "ipython",
    "version": 3
   },
   "file_extension": ".py",
   "mimetype": "text/x-python",
   "name": "python",
   "nbconvert_exporter": "python",
   "pygments_lexer": "ipython3",
   "version": "3.6.10"
  }
 },
 "nbformat": 4,
 "nbformat_minor": 1
}
