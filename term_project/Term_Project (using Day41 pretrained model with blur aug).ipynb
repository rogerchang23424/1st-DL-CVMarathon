{
 "cells": [
  {
   "cell_type": "markdown",
   "metadata": {
    "colab_type": "text",
    "id": "CG77DrrB2CrU"
   },
   "source": [
    "## 作業\n",
    "\n",
    "1. 如何使用已經訓練好的模型？\n",
    "2. 依照 https://github.com/qqwweee/keras-yolo3 的程式碼，請敘述，訓練模型時，資料集的格式是什麼？具體一點的說，要提供什麼格式的文件來描述資料集的圖片以及 bboxes 的信息呢？\n",
    "\n",
    "\n",
    "\n"
   ]
  },
  {
   "cell_type": "code",
   "execution_count": 1,
   "metadata": {
    "colab": {
     "base_uri": "https://localhost:8080/",
     "height": 122
    },
    "colab_type": "code",
    "executionInfo": {
     "elapsed": 3899,
     "status": "ok",
     "timestamp": 1576082714890,
     "user": {
      "displayName": "杜靖愷",
      "photoUrl": "https://lh3.googleusercontent.com/a-/AAuE7mCXX8JZZ0DBZWt2P1EC5LvipxZDIWxKz2uCJ7bzpQ=s64",
      "userId": "03195633593178984431"
     },
     "user_tz": -480
    },
    "id": "NCEP-DG0VxlV",
    "outputId": "5adc330a-85ba-4196-ce0e-5455f58c127e"
   },
   "outputs": [
    {
     "name": "stdout",
     "output_type": "stream",
     "text": [
      "1.15.0\n"
     ]
    }
   ],
   "source": [
    "# %tensorflow_version 1.x # 確保 colob 中使用的 tensorflow 是 1.x 版本而不是 tensorflow 2\n",
    "import tensorflow as tf\n",
    "print(tf.__version__)"
   ]
  },
  {
   "cell_type": "code",
   "execution_count": 2,
   "metadata": {
    "colab": {
     "base_uri": "https://localhost:8080/",
     "height": 281
    },
    "colab_type": "code",
    "executionInfo": {
     "elapsed": 10841,
     "status": "ok",
     "timestamp": 1576082721843,
     "user": {
      "displayName": "杜靖愷",
      "photoUrl": "https://lh3.googleusercontent.com/a-/AAuE7mCXX8JZZ0DBZWt2P1EC5LvipxZDIWxKz2uCJ7bzpQ=s64",
      "userId": "03195633593178984431"
     },
     "user_tz": -480
    },
    "id": "eXT7SQe0KQxv",
    "outputId": "444de4be-8b57-432a-defc-2feeaf15cd6f"
   },
   "outputs": [],
   "source": [
    "# pip install keras==2.2.4 # 需要安裝 keras 2.2.4 的版本"
   ]
  },
  {
   "cell_type": "code",
   "execution_count": 3,
   "metadata": {
    "colab": {
     "base_uri": "https://localhost:8080/",
     "height": 160
    },
    "colab_type": "code",
    "executionInfo": {
     "elapsed": 38122,
     "status": "ok",
     "timestamp": 1576082749134,
     "user": {
      "displayName": "杜靖愷",
      "photoUrl": "https://lh3.googleusercontent.com/a-/AAuE7mCXX8JZZ0DBZWt2P1EC5LvipxZDIWxKz2uCJ7bzpQ=s64",
      "userId": "03195633593178984431"
     },
     "user_tz": -480
    },
    "id": "vELO-PTVxAtm",
    "outputId": "bedd9495-2989-4782-cfed-1b414ef42b3d"
   },
   "outputs": [
    {
     "name": "stdout",
     "output_type": "stream",
     "text": [
      "/media/rogerchang/Data/python/cvdl/term_project/keras-yolo3\n"
     ]
    }
   ],
   "source": [
    "# !git clone https://github.com/qqwweee/keras-yolo3 # 如果之前已經下載過就可以註解掉\n",
    "%cd keras-yolo3"
   ]
  },
  {
   "cell_type": "code",
   "execution_count": 4,
   "metadata": {
    "colab": {},
    "colab_type": "code",
    "id": "ooyy53TW5c0L"
   },
   "outputs": [],
   "source": [
    "import os\n",
    "from xml.etree import ElementTree\n",
    "import numpy as np"
   ]
  },
  {
   "cell_type": "code",
   "execution_count": 5,
   "metadata": {},
   "outputs": [],
   "source": [
    "if not os.path.exists('model_data/yolov3.h5'):\n",
    "    # os.system('wget https://pjreddie.com/media/files/yolov3.weights')\n",
    "    os.system('python convert.py yolov3.cfg yolov3.weights model_data/yolov3.h5')\n",
    "else:\n",
    "    pass"
   ]
  },
  {
   "cell_type": "code",
   "execution_count": 6,
   "metadata": {},
   "outputs": [],
   "source": [
    "if not os.path.exists('animals_train.txt'):\n",
    "    sets = ['train', 'val']\n",
    "    \n",
    "    classes = [\"kangaroo\", \"raccoon\"]\n",
    "    \n",
    "    def dump_info(xml_path, list_file):\n",
    "        f = open(xml_path)\n",
    "        tree = ElementTree.parse(f)\n",
    "        root = tree.getroot()\n",
    "        \n",
    "        for obj in tree.iter('object'):\n",
    "            diff = int(obj.find('difficult').text)\n",
    "            cls_name = obj.find('name').text\n",
    "            \n",
    "            if cls_name not in classes or diff == 1:\n",
    "                continue\n",
    "                \n",
    "            cls_index = classes.index(cls_name)\n",
    "            bndbox = obj.find('bndbox')\n",
    "            \n",
    "            b = (int(bndbox.find('xmin').text), int(bndbox.find('ymin').text), int(bndbox.find('xmax').text), int(bndbox.find('ymax').text))\n",
    "            list_file.write(\" \" + \",\".join([str(a) for a in b]) + ',' + str(cls_index))\n",
    "            \n",
    "        f.close()\n",
    "        \n",
    "    \n",
    "    images_dir = ['animals/kangaroo/images', 'animals/raccoon/images']\n",
    "    for s in sets:\n",
    "        list_file = open('animals_%s.txt' % s, 'w')\n",
    "        \n",
    "        for i, annotation_path in enumerate(['animals/kangaroo/annots', 'animals/raccoon/annotations']):\n",
    "            annots = os.listdir(annotation_path)\n",
    "            annots.sort()\n",
    "            annot_size = len(annots)\n",
    "            split_num = int(np.round(annot_size * 0.8))\n",
    "        \n",
    "            if s == 'train':\n",
    "                data = annots[:split_num]\n",
    "            else:\n",
    "                data = annots[split_num:]\n",
    "                \n",
    "            for d in data:\n",
    "                name = d.split('.')[0]\n",
    "                list_file.write(os.path.join(images_dir[i], '%s.jpg' % name))\n",
    "                dump_info(os.path.join(annotation_path, d), list_file)\n",
    "                list_file.write('\\n')\n",
    "        \n",
    "        list_file.close()\n",
    "        "
   ]
  },
  {
   "cell_type": "code",
   "execution_count": 7,
   "metadata": {},
   "outputs": [
    {
     "name": "stderr",
     "output_type": "stream",
     "text": [
      "Using TensorFlow backend.\n"
     ]
    }
   ],
   "source": [
    "import keras.backend as K\n",
    "from keras.layers import Input, Lambda\n",
    "from keras.models import Model\n",
    "from keras.optimizers import Adam\n",
    "from keras.callbacks import TensorBoard, ModelCheckpoint, ReduceLROnPlateau, EarlyStopping\n",
    "\n",
    "from yolo3.model import preprocess_true_boxes, yolo_body, tiny_yolo_body, yolo_loss\n",
    "from yolo3.utils import get_random_data\n",
    "\n",
    "import time"
   ]
  },
  {
   "cell_type": "code",
   "execution_count": 8,
   "metadata": {},
   "outputs": [],
   "source": [
    "from PIL import ImageFile\n",
    "ImageFile.LOAD_TRUNCATED_IMAGES = True"
   ]
  },
  {
   "cell_type": "code",
   "execution_count": 9,
   "metadata": {},
   "outputs": [],
   "source": [
    "import tensorflow as tf\n",
    "tf.logging.set_verbosity(tf.logging.ERROR)\n",
    "\n",
    "config = tf.ConfigProto()\n",
    "config.gpu_options.allow_growth = True\n",
    "sess = tf.Session(config=config)\n",
    "\n",
    "K.set_session(sess)"
   ]
  },
  {
   "cell_type": "code",
   "execution_count": 10,
   "metadata": {},
   "outputs": [],
   "source": [
    "from train import get_classes, get_anchors, create_model, create_tiny_model"
   ]
  },
  {
   "cell_type": "code",
   "execution_count": 11,
   "metadata": {},
   "outputs": [],
   "source": [
    "def data_generator(annotation_lines, batch_size, input_shape, anchors, num_classes, is_train=True):\n",
    "    '''data generator for fit_generator'''\n",
    "    n = len(annotation_lines)\n",
    "    i = 0\n",
    "    while True:\n",
    "        image_data = []\n",
    "        box_data = []\n",
    "        for b in range(batch_size):\n",
    "            if i==0 and is_train:\n",
    "                np.random.shuffle(annotation_lines)\n",
    "            image, box = get_random_data(annotation_lines[i], input_shape, random=is_train, blur=True)\n",
    "            image_data.append(image)\n",
    "            box_data.append(box)\n",
    "            i = (i+1) % n\n",
    "        image_data = np.array(image_data)\n",
    "        box_data = np.array(box_data)\n",
    "        y_true = preprocess_true_boxes(box_data, input_shape, anchors, num_classes)\n",
    "        yield [image_data, *y_true], np.zeros(batch_size)"
   ]
  },
  {
   "cell_type": "code",
   "execution_count": 12,
   "metadata": {
    "scrolled": true
   },
   "outputs": [
    {
     "name": "stdout",
     "output_type": "stream",
     "text": [
      "Create YOLOv3 model with 9 anchors and 2 classes.\n"
     ]
    },
    {
     "name": "stderr",
     "output_type": "stream",
     "text": [
      "/home/rogerchang/anaconda3/envs/tensorflow/lib/python3.6/site-packages/keras/engine/saving.py:1140: UserWarning: Skipping loading of weights for layer conv2d_59 due to mismatch in shape ((1, 1, 1024, 21) vs (75, 1024, 1, 1)).\n",
      "  weight_values[i].shape))\n",
      "/home/rogerchang/anaconda3/envs/tensorflow/lib/python3.6/site-packages/keras/engine/saving.py:1140: UserWarning: Skipping loading of weights for layer conv2d_59 due to mismatch in shape ((21,) vs (75,)).\n",
      "  weight_values[i].shape))\n",
      "/home/rogerchang/anaconda3/envs/tensorflow/lib/python3.6/site-packages/keras/engine/saving.py:1140: UserWarning: Skipping loading of weights for layer conv2d_67 due to mismatch in shape ((1, 1, 512, 21) vs (75, 512, 1, 1)).\n",
      "  weight_values[i].shape))\n",
      "/home/rogerchang/anaconda3/envs/tensorflow/lib/python3.6/site-packages/keras/engine/saving.py:1140: UserWarning: Skipping loading of weights for layer conv2d_67 due to mismatch in shape ((21,) vs (75,)).\n",
      "  weight_values[i].shape))\n",
      "/home/rogerchang/anaconda3/envs/tensorflow/lib/python3.6/site-packages/keras/engine/saving.py:1140: UserWarning: Skipping loading of weights for layer conv2d_75 due to mismatch in shape ((1, 1, 256, 21) vs (75, 256, 1, 1)).\n",
      "  weight_values[i].shape))\n",
      "/home/rogerchang/anaconda3/envs/tensorflow/lib/python3.6/site-packages/keras/engine/saving.py:1140: UserWarning: Skipping loading of weights for layer conv2d_75 due to mismatch in shape ((21,) vs (75,)).\n",
      "  weight_values[i].shape))\n"
     ]
    },
    {
     "name": "stdout",
     "output_type": "stream",
     "text": [
      "Load weights model_data/Day41_trained_weights.h5.\n",
      "Freeze the first 249 layers of total 252 layers.\n"
     ]
    }
   ],
   "source": [
    "annotation_path = 'animals_train.txt' # 轉換好格式的標註檔案\n",
    "log_dir = 'logs/%s/' % str(int(time.time()))# 訓練好的模型儲存的路徑\n",
    "classes_path = 'model_data/animal_classes.txt'\n",
    "anchors_path = 'model_data/yolo_anchors.txt'\n",
    "class_names = get_classes(classes_path)\n",
    "num_classes = len(class_names)\n",
    "anchors = get_anchors(anchors_path)\n",
    "\n",
    "input_shape = (416,416) # multiple of 32, hw\n",
    "\n",
    "is_tiny_version = len(anchors)==6 # default setting\n",
    "if is_tiny_version:\n",
    "    model = create_tiny_model(input_shape, anchors, num_classes,\n",
    "        freeze_body=2, weights_path='model_data/tiny_yolo.h5')\n",
    "else:\n",
    "    model = create_model(input_shape, anchors, num_classes, \n",
    "        freeze_body=2, weights_path='model_data/Day41_trained_weights.h5') # make sure you know what you freeze\n",
    "\n",
    "logging = TensorBoard(log_dir=log_dir)\n",
    "checkpoint = ModelCheckpoint(log_dir + 'ep{epoch:03d}-loss{loss:.3f}-val_loss{val_loss:.3f}.h5',\n",
    "    monitor='val_loss', save_weights_only=True, save_best_only=True, period=3)\n",
    "reduce_lr = ReduceLROnPlateau(monitor='val_loss', factor=0.1, patience=20, verbose=1)\n",
    "early_stopping = EarlyStopping(monitor='val_loss', min_delta=0, patience=20, verbose=1)\n",
    "\n",
    "# 分為 training 以及 validation\n",
    "val_split = 0.1\n",
    "with open(annotation_path) as f:\n",
    "    train_lines = f.readlines()\n",
    "with open('animals_val.txt') as f:\n",
    "    val_lines = f.readlines()\n",
    "np.random.seed(10101)\n",
    "np.random.shuffle(train_lines)\n",
    "np.random.seed(None)\n",
    "num_val = len(val_lines)\n",
    "num_train = len(train_lines)"
   ]
  },
  {
   "cell_type": "code",
   "execution_count": 13,
   "metadata": {
    "scrolled": true
   },
   "outputs": [
    {
     "name": "stdout",
     "output_type": "stream",
     "text": [
      "Train on 291 samples, val on 73 samples, with batch size 4.\n",
      "Epoch 1/100\n",
      "72/72 [==============================] - 15s 204ms/step - loss: 1534.6496 - val_loss: 140.3830\n",
      "Epoch 2/100\n",
      "72/72 [==============================] - 12s 162ms/step - loss: 124.2647 - val_loss: 73.7558\n",
      "Epoch 3/100\n",
      "72/72 [==============================] - 13s 178ms/step - loss: 76.9108 - val_loss: 51.2482\n",
      "Epoch 4/100\n",
      "72/72 [==============================] - 12s 161ms/step - loss: 55.5987 - val_loss: 40.3898\n",
      "Epoch 5/100\n",
      "72/72 [==============================] - 12s 167ms/step - loss: 44.9923 - val_loss: 34.0944\n",
      "Epoch 6/100\n",
      "72/72 [==============================] - 12s 167ms/step - loss: 38.6496 - val_loss: 30.2369\n",
      "Epoch 7/100\n",
      "72/72 [==============================] - 12s 166ms/step - loss: 33.8057 - val_loss: 27.0778\n",
      "Epoch 8/100\n",
      "72/72 [==============================] - 12s 166ms/step - loss: 30.9111 - val_loss: 25.1577\n",
      "Epoch 9/100\n",
      "72/72 [==============================] - 12s 168ms/step - loss: 28.2326 - val_loss: 23.7697\n",
      "Epoch 10/100\n",
      "72/72 [==============================] - 12s 166ms/step - loss: 26.9679 - val_loss: 22.6981\n",
      "Epoch 11/100\n",
      "72/72 [==============================] - 12s 167ms/step - loss: 25.3973 - val_loss: 21.7041\n",
      "Epoch 12/100\n",
      "72/72 [==============================] - 12s 172ms/step - loss: 24.6450 - val_loss: 21.1791\n",
      "Epoch 13/100\n",
      "72/72 [==============================] - 12s 166ms/step - loss: 23.3089 - val_loss: 20.3866\n",
      "Epoch 14/100\n",
      "72/72 [==============================] - 12s 167ms/step - loss: 22.8075 - val_loss: 19.8679\n",
      "Epoch 15/100\n",
      "72/72 [==============================] - 12s 173ms/step - loss: 22.1155 - val_loss: 19.2764\n",
      "Epoch 16/100\n",
      "72/72 [==============================] - 12s 166ms/step - loss: 21.4156 - val_loss: 18.9775\n",
      "Epoch 17/100\n",
      "72/72 [==============================] - 12s 167ms/step - loss: 20.6485 - val_loss: 18.6311\n",
      "Epoch 18/100\n",
      "72/72 [==============================] - 12s 168ms/step - loss: 20.8710 - val_loss: 18.3719\n",
      "Epoch 19/100\n",
      "72/72 [==============================] - 12s 169ms/step - loss: 20.2501 - val_loss: 18.0953\n",
      "Epoch 20/100\n",
      "72/72 [==============================] - 12s 167ms/step - loss: 19.6793 - val_loss: 18.1827\n",
      "Epoch 21/100\n",
      "72/72 [==============================] - 12s 164ms/step - loss: 19.9322 - val_loss: 17.7931\n",
      "Epoch 22/100\n",
      "72/72 [==============================] - 12s 167ms/step - loss: 19.4403 - val_loss: 17.9237\n",
      "Epoch 23/100\n",
      "72/72 [==============================] - 12s 168ms/step - loss: 19.3466 - val_loss: 17.4039\n",
      "Epoch 24/100\n",
      "72/72 [==============================] - 12s 167ms/step - loss: 18.8694 - val_loss: 17.2904\n",
      "Epoch 25/100\n",
      "72/72 [==============================] - 12s 169ms/step - loss: 18.6165 - val_loss: 17.0972\n",
      "Epoch 26/100\n",
      "72/72 [==============================] - 12s 166ms/step - loss: 19.0390 - val_loss: 16.9307\n",
      "Epoch 27/100\n",
      "72/72 [==============================] - 12s 165ms/step - loss: 18.7933 - val_loss: 16.6205\n",
      "Epoch 28/100\n",
      "72/72 [==============================] - 12s 167ms/step - loss: 18.0067 - val_loss: 17.0874\n",
      "Epoch 29/100\n",
      "72/72 [==============================] - 12s 167ms/step - loss: 18.0496 - val_loss: 16.8776\n",
      "Epoch 30/100\n",
      "72/72 [==============================] - 12s 168ms/step - loss: 18.3822 - val_loss: 16.9490\n",
      "Epoch 31/100\n",
      "72/72 [==============================] - 12s 167ms/step - loss: 17.7006 - val_loss: 16.7755\n",
      "Epoch 32/100\n",
      "72/72 [==============================] - 12s 166ms/step - loss: 18.5608 - val_loss: 16.3756\n",
      "Epoch 33/100\n",
      "72/72 [==============================] - 12s 170ms/step - loss: 17.4041 - val_loss: 16.2795\n",
      "Epoch 34/100\n",
      "72/72 [==============================] - 12s 164ms/step - loss: 17.3274 - val_loss: 16.3815\n",
      "Epoch 35/100\n",
      "72/72 [==============================] - 12s 169ms/step - loss: 17.6933 - val_loss: 16.5071\n",
      "Epoch 36/100\n",
      "72/72 [==============================] - 12s 167ms/step - loss: 16.7252 - val_loss: 16.2331\n",
      "Epoch 37/100\n",
      "72/72 [==============================] - 12s 165ms/step - loss: 17.5788 - val_loss: 16.3895\n",
      "Epoch 38/100\n",
      "72/72 [==============================] - 12s 168ms/step - loss: 17.9142 - val_loss: 16.1606\n",
      "Epoch 39/100\n",
      "72/72 [==============================] - 12s 169ms/step - loss: 16.8970 - val_loss: 16.6587\n",
      "Epoch 40/100\n",
      "72/72 [==============================] - 12s 168ms/step - loss: 17.2534 - val_loss: 15.9287\n",
      "Epoch 41/100\n",
      "72/72 [==============================] - 12s 168ms/step - loss: 16.8701 - val_loss: 15.9872\n",
      "Epoch 42/100\n",
      "72/72 [==============================] - 12s 167ms/step - loss: 17.1797 - val_loss: 16.0187\n",
      "Epoch 43/100\n",
      "72/72 [==============================] - 12s 169ms/step - loss: 16.8442 - val_loss: 16.0159\n",
      "Epoch 44/100\n",
      "72/72 [==============================] - 12s 168ms/step - loss: 16.9688 - val_loss: 16.1789\n",
      "Epoch 45/100\n",
      "72/72 [==============================] - 12s 169ms/step - loss: 16.5470 - val_loss: 16.0581\n",
      "Epoch 46/100\n",
      "72/72 [==============================] - 12s 171ms/step - loss: 16.8312 - val_loss: 15.9263\n",
      "Epoch 47/100\n",
      "72/72 [==============================] - 12s 170ms/step - loss: 16.9279 - val_loss: 16.2222\n",
      "Epoch 48/100\n",
      "72/72 [==============================] - 12s 166ms/step - loss: 17.2181 - val_loss: 15.8151\n",
      "Epoch 49/100\n",
      "72/72 [==============================] - 18s 251ms/step - loss: 16.5338 - val_loss: 16.0874\n",
      "Epoch 50/100\n",
      "72/72 [==============================] - 12s 169ms/step - loss: 16.7595 - val_loss: 15.9147\n",
      "Epoch 51/100\n",
      "72/72 [==============================] - 12s 164ms/step - loss: 16.8411 - val_loss: 15.5984\n",
      "Epoch 52/100\n",
      "72/72 [==============================] - 12s 168ms/step - loss: 16.4221 - val_loss: 15.8219\n",
      "Epoch 53/100\n",
      "72/72 [==============================] - 12s 168ms/step - loss: 16.4678 - val_loss: 15.5817\n",
      "Epoch 54/100\n",
      "72/72 [==============================] - 12s 166ms/step - loss: 17.0216 - val_loss: 15.4896\n",
      "Epoch 55/100\n",
      "72/72 [==============================] - 12s 161ms/step - loss: 16.3719 - val_loss: 15.8272\n",
      "Epoch 56/100\n",
      "72/72 [==============================] - 12s 170ms/step - loss: 16.7166 - val_loss: 15.8755\n",
      "Epoch 57/100\n",
      "72/72 [==============================] - 12s 168ms/step - loss: 16.3714 - val_loss: 15.5556\n",
      "Epoch 58/100\n",
      "72/72 [==============================] - 12s 168ms/step - loss: 16.3412 - val_loss: 15.9626\n",
      "Epoch 59/100\n",
      "72/72 [==============================] - 12s 166ms/step - loss: 16.1933 - val_loss: 15.3854\n",
      "Epoch 60/100\n",
      "72/72 [==============================] - 12s 168ms/step - loss: 16.4748 - val_loss: 15.4960\n",
      "Epoch 61/100\n",
      "72/72 [==============================] - 12s 169ms/step - loss: 16.3191 - val_loss: 15.6512\n",
      "Epoch 62/100\n",
      "72/72 [==============================] - 12s 169ms/step - loss: 16.3870 - val_loss: 15.4807\n",
      "Epoch 63/100\n",
      "72/72 [==============================] - 12s 167ms/step - loss: 15.9716 - val_loss: 15.5219\n",
      "Epoch 64/100\n",
      "72/72 [==============================] - 12s 168ms/step - loss: 16.4348 - val_loss: 15.5383\n",
      "Epoch 65/100\n",
      "72/72 [==============================] - 12s 164ms/step - loss: 16.3301 - val_loss: 15.5269\n",
      "Epoch 66/100\n",
      "72/72 [==============================] - 12s 170ms/step - loss: 15.7958 - val_loss: 15.4762\n",
      "Epoch 67/100\n",
      "72/72 [==============================] - 12s 167ms/step - loss: 16.7151 - val_loss: 15.2189\n",
      "Epoch 68/100\n",
      "72/72 [==============================] - 12s 164ms/step - loss: 16.0117 - val_loss: 15.6664\n",
      "Epoch 69/100\n",
      "72/72 [==============================] - 12s 171ms/step - loss: 16.4025 - val_loss: 15.4288\n",
      "Epoch 70/100\n",
      "72/72 [==============================] - 12s 165ms/step - loss: 16.0209 - val_loss: 15.3934\n",
      "Epoch 71/100\n",
      "72/72 [==============================] - 12s 165ms/step - loss: 16.0971 - val_loss: 15.3472\n",
      "Epoch 72/100\n",
      "72/72 [==============================] - 12s 171ms/step - loss: 16.2510 - val_loss: 15.5074\n",
      "Epoch 73/100\n",
      "72/72 [==============================] - 12s 165ms/step - loss: 16.1779 - val_loss: 15.5243\n",
      "Epoch 74/100\n",
      "72/72 [==============================] - 12s 169ms/step - loss: 15.7389 - val_loss: 15.3595\n",
      "Epoch 75/100\n",
      "72/72 [==============================] - 12s 167ms/step - loss: 16.5456 - val_loss: 15.4457\n",
      "Epoch 76/100\n",
      "72/72 [==============================] - 12s 169ms/step - loss: 16.0073 - val_loss: 15.2457\n",
      "Epoch 77/100\n",
      "72/72 [==============================] - 12s 167ms/step - loss: 15.9358 - val_loss: 15.5169\n",
      "Epoch 78/100\n",
      "72/72 [==============================] - 12s 165ms/step - loss: 16.0736 - val_loss: 15.6586\n",
      "Epoch 79/100\n",
      "72/72 [==============================] - 12s 165ms/step - loss: 16.0779 - val_loss: 15.5722\n",
      "Epoch 80/100\n",
      "72/72 [==============================] - 12s 165ms/step - loss: 16.1335 - val_loss: 15.5826\n",
      "Epoch 81/100\n",
      "72/72 [==============================] - 12s 167ms/step - loss: 16.1983 - val_loss: 15.5144\n",
      "Epoch 82/100\n",
      "72/72 [==============================] - 12s 164ms/step - loss: 16.0360 - val_loss: 15.6589\n",
      "Epoch 83/100\n",
      "72/72 [==============================] - 12s 167ms/step - loss: 16.2866 - val_loss: 15.3607\n",
      "Epoch 84/100\n",
      "72/72 [==============================] - 12s 165ms/step - loss: 15.8387 - val_loss: 15.7566\n",
      "Epoch 85/100\n",
      "72/72 [==============================] - 12s 164ms/step - loss: 15.8989 - val_loss: 15.2309\n",
      "Epoch 86/100\n",
      "72/72 [==============================] - 12s 166ms/step - loss: 16.1364 - val_loss: 15.3091\n",
      "Epoch 87/100\n",
      "72/72 [==============================] - 12s 166ms/step - loss: 15.9424 - val_loss: 15.4505\n",
      "Epoch 88/100\n",
      "72/72 [==============================] - 12s 168ms/step - loss: 15.9975 - val_loss: 15.4149\n",
      "Epoch 89/100\n",
      "72/72 [==============================] - 12s 164ms/step - loss: 15.6767 - val_loss: 15.1593\n",
      "Epoch 90/100\n",
      "72/72 [==============================] - 12s 164ms/step - loss: 16.1678 - val_loss: 15.1793\n",
      "Epoch 91/100\n",
      "72/72 [==============================] - 12s 167ms/step - loss: 16.1474 - val_loss: 15.2200\n",
      "Epoch 92/100\n",
      "72/72 [==============================] - 12s 165ms/step - loss: 15.6996 - val_loss: 15.1957\n",
      "Epoch 93/100\n",
      "72/72 [==============================] - 12s 168ms/step - loss: 15.9061 - val_loss: 15.3515\n",
      "Epoch 94/100\n",
      "72/72 [==============================] - 12s 165ms/step - loss: 15.7057 - val_loss: 15.3665\n",
      "Epoch 95/100\n",
      "72/72 [==============================] - 12s 166ms/step - loss: 16.6775 - val_loss: 15.6646\n",
      "Epoch 96/100\n",
      "72/72 [==============================] - 12s 165ms/step - loss: 16.2677 - val_loss: 15.4237\n",
      "Epoch 97/100\n",
      "72/72 [==============================] - 12s 165ms/step - loss: 15.7861 - val_loss: 15.5351\n",
      "Epoch 98/100\n",
      "72/72 [==============================] - 12s 166ms/step - loss: 15.9925 - val_loss: 15.4000\n",
      "Epoch 99/100\n",
      "72/72 [==============================] - 12s 166ms/step - loss: 15.8704 - val_loss: 15.2416\n",
      "Epoch 100/100\n",
      "72/72 [==============================] - 12s 166ms/step - loss: 15.6943 - val_loss: 15.1711\n"
     ]
    }
   ],
   "source": [
    "# Train with frozen layers first, to get a stable loss.\n",
    "# Adjust num epochs to your dataset. This step is enough to obtain a not bad model.\n",
    "# 一開始先 freeze YOLO 除了 output layer 以外的 darknet53 backbone 來 train\n",
    "if True:\n",
    "    model.compile(optimizer=Adam(lr=1e-3), loss={\n",
    "        # use custom yolo_loss Lambda layer.\n",
    "        'yolo_loss': lambda y_true, y_pred: y_pred})\n",
    "\n",
    "    batch_size = 4\n",
    "    print('Train on {} samples, val on {} samples, with batch size {}.'.format(num_train, num_val, batch_size))\n",
    "    # 模型利用 generator 產生的資料做訓練，強烈建議大家去閱讀及理解 data_generator_wrapper 在 train.py 中的實現\n",
    "    history = model.fit_generator(data_generator(train_lines, batch_size, input_shape, anchors, num_classes, True),\n",
    "            steps_per_epoch=max(1, num_train//batch_size),\n",
    "            validation_data=data_generator(val_lines, batch_size, input_shape, anchors, num_classes, False),\n",
    "            validation_steps=max(1, num_val//batch_size),\n",
    "            epochs=100,\n",
    "            initial_epoch=0,\n",
    "            callbacks=[logging, checkpoint])\n",
    "    model.save_weights(log_dir + 'trained_weights_stage_1.h5')"
   ]
  },
  {
   "cell_type": "code",
   "execution_count": 14,
   "metadata": {
    "scrolled": false
   },
   "outputs": [
    {
     "name": "stdout",
     "output_type": "stream",
     "text": [
      "Unfreeze all of the layers.\n",
      "Train on 291 samples, val on 73 samples, with batch size 4.\n",
      "Epoch 101/200\n",
      "72/72 [==============================] - 24s 334ms/step - loss: 16.5071 - val_loss: 15.9922\n",
      "Epoch 102/200\n",
      "72/72 [==============================] - 18s 254ms/step - loss: 15.5240 - val_loss: 15.2343\n",
      "Epoch 103/200\n",
      "72/72 [==============================] - 18s 254ms/step - loss: 15.8681 - val_loss: 14.5630\n",
      "Epoch 104/200\n",
      "72/72 [==============================] - 18s 255ms/step - loss: 14.8061 - val_loss: 14.3545\n",
      "Epoch 105/200\n",
      "72/72 [==============================] - 18s 255ms/step - loss: 15.0667 - val_loss: 14.6687\n",
      "Epoch 106/200\n",
      "72/72 [==============================] - 18s 255ms/step - loss: 14.7289 - val_loss: 15.0322\n",
      "Epoch 107/200\n",
      "72/72 [==============================] - 18s 255ms/step - loss: 14.9018 - val_loss: 14.5623\n",
      "Epoch 108/200\n",
      "72/72 [==============================] - 18s 254ms/step - loss: 14.5174 - val_loss: 14.6422\n",
      "Epoch 109/200\n",
      "72/72 [==============================] - 18s 254ms/step - loss: 13.9978 - val_loss: 14.6956\n",
      "Epoch 110/200\n",
      "72/72 [==============================] - 18s 254ms/step - loss: 14.1590 - val_loss: 14.5081\n",
      "Epoch 111/200\n",
      "72/72 [==============================] - 18s 254ms/step - loss: 14.4988 - val_loss: 14.6530\n",
      "Epoch 112/200\n",
      "72/72 [==============================] - 18s 254ms/step - loss: 13.9292 - val_loss: 14.3535\n",
      "Epoch 113/200\n",
      "72/72 [==============================] - 18s 254ms/step - loss: 13.9753 - val_loss: 14.1560\n",
      "Epoch 114/200\n",
      "72/72 [==============================] - 18s 254ms/step - loss: 14.1163 - val_loss: 15.3659\n",
      "Epoch 115/200\n",
      "72/72 [==============================] - 18s 254ms/step - loss: 13.5227 - val_loss: 14.7574\n",
      "Epoch 116/200\n",
      "72/72 [==============================] - 18s 254ms/step - loss: 13.7887 - val_loss: 14.2764\n",
      "Epoch 117/200\n",
      "72/72 [==============================] - 18s 254ms/step - loss: 13.7798 - val_loss: 13.8051\n",
      "Epoch 118/200\n",
      "72/72 [==============================] - 18s 254ms/step - loss: 13.9704 - val_loss: 14.6698\n",
      "Epoch 119/200\n",
      "72/72 [==============================] - 18s 254ms/step - loss: 13.4181 - val_loss: 14.4378\n",
      "Epoch 120/200\n",
      "72/72 [==============================] - 18s 254ms/step - loss: 13.7933 - val_loss: 14.2890\n",
      "Epoch 121/200\n",
      "72/72 [==============================] - 18s 254ms/step - loss: 13.6092 - val_loss: 14.0349\n",
      "Epoch 122/200\n",
      "72/72 [==============================] - 18s 254ms/step - loss: 13.1660 - val_loss: 14.0911\n",
      "Epoch 123/200\n",
      "72/72 [==============================] - 18s 254ms/step - loss: 13.6253 - val_loss: 14.0619\n",
      "Epoch 124/200\n",
      "72/72 [==============================] - 18s 254ms/step - loss: 13.5918 - val_loss: 14.4723\n",
      "Epoch 125/200\n",
      "72/72 [==============================] - 18s 254ms/step - loss: 13.2617 - val_loss: 14.4037\n",
      "Epoch 126/200\n",
      "72/72 [==============================] - 18s 254ms/step - loss: 13.4449 - val_loss: 14.1564\n",
      "Epoch 127/200\n",
      "72/72 [==============================] - 18s 254ms/step - loss: 13.0033 - val_loss: 14.1757\n",
      "Epoch 128/200\n",
      "72/72 [==============================] - 18s 254ms/step - loss: 13.6701 - val_loss: 13.9370\n",
      "Epoch 129/200\n",
      "72/72 [==============================] - 18s 254ms/step - loss: 13.1116 - val_loss: 14.0069\n",
      "Epoch 130/200\n",
      "72/72 [==============================] - 18s 254ms/step - loss: 13.4944 - val_loss: 13.9351\n",
      "Epoch 131/200\n",
      "72/72 [==============================] - 18s 254ms/step - loss: 13.2310 - val_loss: 13.6512\n",
      "Epoch 132/200\n",
      "72/72 [==============================] - 18s 254ms/step - loss: 13.5529 - val_loss: 13.9784\n",
      "Epoch 133/200\n",
      "72/72 [==============================] - 18s 254ms/step - loss: 12.7424 - val_loss: 13.5776\n",
      "Epoch 134/200\n",
      "72/72 [==============================] - 18s 254ms/step - loss: 13.1858 - val_loss: 14.2702\n",
      "Epoch 135/200\n",
      "72/72 [==============================] - 18s 254ms/step - loss: 13.0372 - val_loss: 13.6842\n",
      "Epoch 136/200\n",
      "72/72 [==============================] - 18s 254ms/step - loss: 12.7103 - val_loss: 14.3626\n",
      "Epoch 137/200\n",
      "72/72 [==============================] - 18s 254ms/step - loss: 12.9937 - val_loss: 14.5590\n",
      "Epoch 138/200\n",
      "72/72 [==============================] - 18s 254ms/step - loss: 13.0336 - val_loss: 13.6668\n",
      "Epoch 139/200\n",
      "72/72 [==============================] - 18s 254ms/step - loss: 12.7595 - val_loss: 13.5800\n",
      "Epoch 140/200\n",
      "72/72 [==============================] - 18s 254ms/step - loss: 12.7542 - val_loss: 13.4666\n",
      "Epoch 141/200\n",
      "72/72 [==============================] - 18s 254ms/step - loss: 12.4070 - val_loss: 13.4471\n",
      "Epoch 142/200\n",
      "72/72 [==============================] - 18s 254ms/step - loss: 12.7005 - val_loss: 14.3724\n",
      "Epoch 143/200\n",
      "72/72 [==============================] - 22s 301ms/step - loss: 12.8519 - val_loss: 13.4826\n",
      "Epoch 144/200\n",
      "72/72 [==============================] - 18s 254ms/step - loss: 12.5034 - val_loss: 13.9194\n",
      "Epoch 145/200\n",
      "72/72 [==============================] - 18s 254ms/step - loss: 12.4426 - val_loss: 13.0140\n",
      "Epoch 146/200\n",
      "72/72 [==============================] - 18s 254ms/step - loss: 12.7154 - val_loss: 13.0731\n",
      "Epoch 147/200\n",
      "72/72 [==============================] - 18s 254ms/step - loss: 12.5079 - val_loss: 13.4256\n",
      "Epoch 148/200\n",
      "72/72 [==============================] - 18s 254ms/step - loss: 12.6916 - val_loss: 13.1832\n",
      "Epoch 149/200\n",
      "72/72 [==============================] - 18s 254ms/step - loss: 12.6083 - val_loss: 14.5737\n",
      "Epoch 150/200\n",
      "72/72 [==============================] - 18s 254ms/step - loss: 12.3994 - val_loss: 13.3549\n",
      "Epoch 151/200\n",
      "72/72 [==============================] - 18s 254ms/step - loss: 12.4483 - val_loss: 13.4243\n",
      "Epoch 152/200\n",
      "72/72 [==============================] - 18s 254ms/step - loss: 12.3969 - val_loss: 13.2165\n",
      "Epoch 153/200\n",
      "72/72 [==============================] - 18s 254ms/step - loss: 12.4859 - val_loss: 12.9912\n",
      "Epoch 154/200\n",
      "72/72 [==============================] - 18s 254ms/step - loss: 12.4770 - val_loss: 12.9150\n",
      "Epoch 155/200\n",
      "72/72 [==============================] - 18s 254ms/step - loss: 12.5111 - val_loss: 13.0808\n",
      "Epoch 156/200\n",
      "72/72 [==============================] - 18s 255ms/step - loss: 12.8050 - val_loss: 13.2304\n",
      "Epoch 157/200\n",
      "72/72 [==============================] - 18s 255ms/step - loss: 11.9930 - val_loss: 12.9434\n",
      "Epoch 158/200\n",
      "72/72 [==============================] - 18s 255ms/step - loss: 11.9772 - val_loss: 13.3045\n",
      "Epoch 159/200\n",
      "72/72 [==============================] - 18s 255ms/step - loss: 12.2021 - val_loss: 13.2364\n",
      "Epoch 160/200\n",
      "72/72 [==============================] - 18s 255ms/step - loss: 12.1258 - val_loss: 12.9100\n",
      "Epoch 161/200\n",
      "72/72 [==============================] - 18s 255ms/step - loss: 11.8174 - val_loss: 12.9350\n",
      "Epoch 162/200\n",
      "72/72 [==============================] - 18s 255ms/step - loss: 12.1633 - val_loss: 13.0195\n",
      "Epoch 163/200\n",
      "72/72 [==============================] - 18s 255ms/step - loss: 12.2136 - val_loss: 13.1965\n",
      "Epoch 164/200\n",
      "72/72 [==============================] - 18s 255ms/step - loss: 12.6444 - val_loss: 14.0945\n",
      "Epoch 165/200\n",
      "72/72 [==============================] - 18s 255ms/step - loss: 12.5073 - val_loss: 13.1358\n",
      "Epoch 166/200\n",
      "72/72 [==============================] - 18s 255ms/step - loss: 11.8924 - val_loss: 13.5722\n",
      "Epoch 167/200\n",
      "72/72 [==============================] - 18s 255ms/step - loss: 11.9523 - val_loss: 12.5431\n",
      "Epoch 168/200\n",
      "72/72 [==============================] - 18s 255ms/step - loss: 11.7264 - val_loss: 13.1231\n",
      "Epoch 169/200\n",
      "72/72 [==============================] - 18s 255ms/step - loss: 11.7529 - val_loss: 12.9844\n",
      "Epoch 170/200\n",
      "72/72 [==============================] - 18s 255ms/step - loss: 11.5140 - val_loss: 12.8442\n",
      "Epoch 171/200\n",
      "72/72 [==============================] - 18s 255ms/step - loss: 11.9570 - val_loss: 13.0664\n",
      "Epoch 172/200\n",
      "72/72 [==============================] - 18s 255ms/step - loss: 11.7546 - val_loss: 13.0807\n",
      "Epoch 173/200\n",
      "72/72 [==============================] - 18s 255ms/step - loss: 12.4052 - val_loss: 13.4439\n",
      "Epoch 174/200\n",
      "72/72 [==============================] - 18s 255ms/step - loss: 11.5878 - val_loss: 12.9525\n",
      "Epoch 175/200\n",
      "72/72 [==============================] - 18s 254ms/step - loss: 11.7516 - val_loss: 12.7526\n",
      "Epoch 176/200\n",
      "72/72 [==============================] - 18s 255ms/step - loss: 11.2870 - val_loss: 13.0841\n",
      "Epoch 177/200\n",
      "72/72 [==============================] - 18s 254ms/step - loss: 11.3561 - val_loss: 12.5686\n",
      "Epoch 178/200\n",
      "72/72 [==============================] - 18s 254ms/step - loss: 11.5920 - val_loss: 12.6412\n",
      "Epoch 179/200\n",
      "72/72 [==============================] - 18s 254ms/step - loss: 11.4466 - val_loss: 12.8065\n",
      "Epoch 180/200\n",
      "72/72 [==============================] - 18s 254ms/step - loss: 11.6539 - val_loss: 13.1900\n",
      "Epoch 181/200\n",
      "72/72 [==============================] - 18s 254ms/step - loss: 11.7920 - val_loss: 12.4196\n",
      "Epoch 182/200\n",
      "72/72 [==============================] - 18s 255ms/step - loss: 11.6318 - val_loss: 12.9435\n",
      "Epoch 183/200\n",
      "72/72 [==============================] - 18s 254ms/step - loss: 11.4123 - val_loss: 12.8018\n",
      "Epoch 184/200\n",
      "72/72 [==============================] - 18s 254ms/step - loss: 11.5461 - val_loss: 13.0205\n",
      "Epoch 185/200\n",
      "72/72 [==============================] - 18s 255ms/step - loss: 11.4071 - val_loss: 12.6630\n",
      "Epoch 186/200\n",
      "72/72 [==============================] - 18s 255ms/step - loss: 11.7376 - val_loss: 12.9804\n",
      "Epoch 187/200\n",
      "72/72 [==============================] - 18s 254ms/step - loss: 11.1925 - val_loss: 12.3505\n",
      "Epoch 188/200\n",
      "72/72 [==============================] - 18s 255ms/step - loss: 11.3477 - val_loss: 13.6212\n",
      "Epoch 189/200\n",
      "72/72 [==============================] - 18s 255ms/step - loss: 11.1169 - val_loss: 12.8903\n",
      "Epoch 190/200\n",
      "72/72 [==============================] - 18s 255ms/step - loss: 11.0281 - val_loss: 12.7542\n",
      "Epoch 191/200\n",
      "72/72 [==============================] - 18s 254ms/step - loss: 11.4837 - val_loss: 12.9982\n",
      "Epoch 192/200\n",
      "72/72 [==============================] - 18s 254ms/step - loss: 11.0569 - val_loss: 12.3543\n",
      "Epoch 193/200\n",
      "72/72 [==============================] - 18s 254ms/step - loss: 11.1973 - val_loss: 13.0644\n",
      "Epoch 194/200\n",
      "72/72 [==============================] - 18s 254ms/step - loss: 10.7198 - val_loss: 12.3650\n",
      "Epoch 195/200\n",
      "72/72 [==============================] - 18s 255ms/step - loss: 10.9862 - val_loss: 12.3063\n",
      "Epoch 196/200\n",
      "72/72 [==============================] - 18s 254ms/step - loss: 11.5997 - val_loss: 13.0266\n",
      "Epoch 197/200\n",
      "72/72 [==============================] - 18s 254ms/step - loss: 11.1323 - val_loss: 12.5641\n",
      "Epoch 198/200\n",
      "72/72 [==============================] - 18s 254ms/step - loss: 10.9313 - val_loss: 12.2321\n",
      "Epoch 199/200\n",
      "72/72 [==============================] - 18s 254ms/step - loss: 11.0878 - val_loss: 11.7178\n",
      "Epoch 200/200\n",
      "72/72 [==============================] - 18s 254ms/step - loss: 10.9580 - val_loss: 12.4403\n"
     ]
    }
   ],
   "source": [
    "# Unfreeze and continue training, to fine-tune.\n",
    "# Train longer if the result is not good.\n",
    "if True:\n",
    "    # 把所有 layer 都改為 trainable\n",
    "    for i in range(len(model.layers)):\n",
    "        model.layers[i].trainable = True\n",
    "    model.compile(optimizer=Adam(lr=1e-4), loss={'yolo_loss': lambda y_true, y_pred: y_pred}) # recompile to apply the change\n",
    "    print('Unfreeze all of the layers.')\n",
    "\n",
    "    batch_size = 4 # note that more GPU memory is required after unfreezing the body\n",
    "    print('Train on {} samples, val on {} samples, with batch size {}.'.format(num_train, num_val, batch_size))\n",
    "    history2 = model.fit_generator(data_generator(train_lines, batch_size, input_shape, anchors, num_classes, True),\n",
    "        steps_per_epoch=max(1, num_train//batch_size),\n",
    "        validation_data=data_generator(val_lines, batch_size, input_shape, anchors, num_classes, False),\n",
    "        validation_steps=max(1, num_val//batch_size),\n",
    "        epochs=200,\n",
    "        initial_epoch=100,\n",
    "        callbacks=[logging, checkpoint, reduce_lr, early_stopping])\n",
    "    model.save_weights(log_dir + 'trained_weights_final.h5')"
   ]
  },
  {
   "cell_type": "code",
   "execution_count": 15,
   "metadata": {},
   "outputs": [
    {
     "name": "stdout",
     "output_type": "stream",
     "text": [
      "logs/1583838602/trained_weights_final.h5 model, anchors, and classes loaded.\n"
     ]
    }
   ],
   "source": [
    "from yolo import YOLO\n",
    "yolo_model = YOLO(model_path=log_dir + 'trained_weights_final.h5', classes_path=classes_path)"
   ]
  },
  {
   "cell_type": "code",
   "execution_count": 16,
   "metadata": {},
   "outputs": [],
   "source": [
    "from PIL import Image\n",
    "from IPython import display"
   ]
  },
  {
   "cell_type": "code",
   "execution_count": null,
   "metadata": {},
   "outputs": [],
   "source": [
    "for file in os.listdir('../test_img/'):\n",
    "    img = Image.open(os.path.join('../test_img/', file))\n",
    "    r_img = yolo_model.detect_image(img)\n",
    "    display.display(r_img)"
   ]
  },
  {
   "cell_type": "code",
   "execution_count": 18,
   "metadata": {},
   "outputs": [
    {
     "name": "stdout",
     "output_type": "stream",
     "text": [
      "logs/1583838602/\n"
     ]
    }
   ],
   "source": [
    "print(log_dir)"
   ]
  },
  {
   "cell_type": "code",
   "execution_count": 19,
   "metadata": {},
   "outputs": [],
   "source": [
    "import matplotlib.pyplot as plt"
   ]
  },
  {
   "cell_type": "code",
   "execution_count": 20,
   "metadata": {},
   "outputs": [
    {
     "data": {
      "text/plain": [
       "[<matplotlib.lines.Line2D at 0x7fe006a4c5f8>,\n",
       " <matplotlib.lines.Line2D at 0x7fe006a4c7f0>]"
      ]
     },
     "execution_count": 20,
     "metadata": {},
     "output_type": "execute_result"
    },
    {
     "data": {
      "image/png": "[encoded data removed]",
      "text/plain": [
       "<Figure size 432x288 with 1 Axes>"
      ]
     },
     "metadata": {
      "needs_background": "light"
     },
     "output_type": "display_data"
    }
   ],
   "source": [
    "plt.plot(history.epoch, history.history['loss'], history.epoch, history.history['val_loss'])"
   ]
  },
  {
   "cell_type": "code",
   "execution_count": 21,
   "metadata": {},
   "outputs": [
    {
     "data": {
      "text/plain": [
       "[<matplotlib.lines.Line2D at 0x7fe0067e75c0>,\n",
       " <matplotlib.lines.Line2D at 0x7fe0067e7710>]"
      ]
     },
     "execution_count": 21,
     "metadata": {},
     "output_type": "execute_result"
    },
    {
     "data": {
      "image/png": "[encoded data removed]",
      "text/plain": [
       "<Figure size 432x288 with 1 Axes>"
      ]
     },
     "metadata": {
      "needs_background": "light"
     },
     "output_type": "display_data"
    }
   ],
   "source": [
    "plt.plot(history2.epoch, history2.history['loss'], history2.epoch, history2.history['val_loss'])"
   ]
  }
 ],
 "metadata": {
  "accelerator": "GPU",
  "colab": {
   "collapsed_sections": [],
   "name": "Day41_train_yolov3_HW.ipynb",
   "provenance": []
  },
  "kernelspec": {
   "display_name": "Python 3",
   "language": "python",
   "name": "python3"
  },
  "language_info": {
   "codemirror_mode": {
    "name": "ipython",
    "version": 3
   },
   "file_extension": ".py",
   "mimetype": "text/x-python",
   "name": "python",
   "nbconvert_exporter": "python",
   "pygments_lexer": "ipython3",
   "version": "3.6.10"
  }
 },
 "nbformat": 4,
 "nbformat_minor": 1
}
