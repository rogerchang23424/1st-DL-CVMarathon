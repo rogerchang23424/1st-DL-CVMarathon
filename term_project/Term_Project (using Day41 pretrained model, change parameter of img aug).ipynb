{
 "cells": [
  {
   "cell_type": "markdown",
   "metadata": {
    "colab_type": "text",
    "id": "CG77DrrB2CrU"
   },
   "source": [
    "## 作業\n",
    "\n",
    "1. 如何使用已經訓練好的模型？\n",
    "2. 依照 https://github.com/qqwweee/keras-yolo3 的程式碼，請敘述，訓練模型時，資料集的格式是什麼？具體一點的說，要提供什麼格式的文件來描述資料集的圖片以及 bboxes 的信息呢？\n",
    "\n",
    "\n",
    "\n"
   ]
  },
  {
   "cell_type": "code",
   "execution_count": 1,
   "metadata": {
    "colab": {
     "base_uri": "https://localhost:8080/",
     "height": 122
    },
    "colab_type": "code",
    "executionInfo": {
     "elapsed": 3899,
     "status": "ok",
     "timestamp": 1576082714890,
     "user": {
      "displayName": "杜靖愷",
      "photoUrl": "https://lh3.googleusercontent.com/a-/AAuE7mCXX8JZZ0DBZWt2P1EC5LvipxZDIWxKz2uCJ7bzpQ=s64",
      "userId": "03195633593178984431"
     },
     "user_tz": -480
    },
    "id": "NCEP-DG0VxlV",
    "outputId": "5adc330a-85ba-4196-ce0e-5455f58c127e"
   },
   "outputs": [
    {
     "name": "stdout",
     "output_type": "stream",
     "text": [
      "1.15.0\n"
     ]
    }
   ],
   "source": [
    "# %tensorflow_version 1.x # 確保 colob 中使用的 tensorflow 是 1.x 版本而不是 tensorflow 2\n",
    "import tensorflow as tf\n",
    "print(tf.__version__)"
   ]
  },
  {
   "cell_type": "code",
   "execution_count": 2,
   "metadata": {
    "colab": {
     "base_uri": "https://localhost:8080/",
     "height": 281
    },
    "colab_type": "code",
    "executionInfo": {
     "elapsed": 10841,
     "status": "ok",
     "timestamp": 1576082721843,
     "user": {
      "displayName": "杜靖愷",
      "photoUrl": "https://lh3.googleusercontent.com/a-/AAuE7mCXX8JZZ0DBZWt2P1EC5LvipxZDIWxKz2uCJ7bzpQ=s64",
      "userId": "03195633593178984431"
     },
     "user_tz": -480
    },
    "id": "eXT7SQe0KQxv",
    "outputId": "444de4be-8b57-432a-defc-2feeaf15cd6f"
   },
   "outputs": [],
   "source": [
    "# pip install keras==2.2.4 # 需要安裝 keras 2.2.4 的版本"
   ]
  },
  {
   "cell_type": "code",
   "execution_count": 3,
   "metadata": {
    "colab": {
     "base_uri": "https://localhost:8080/",
     "height": 160
    },
    "colab_type": "code",
    "executionInfo": {
     "elapsed": 38122,
     "status": "ok",
     "timestamp": 1576082749134,
     "user": {
      "displayName": "杜靖愷",
      "photoUrl": "https://lh3.googleusercontent.com/a-/AAuE7mCXX8JZZ0DBZWt2P1EC5LvipxZDIWxKz2uCJ7bzpQ=s64",
      "userId": "03195633593178984431"
     },
     "user_tz": -480
    },
    "id": "vELO-PTVxAtm",
    "outputId": "bedd9495-2989-4782-cfed-1b414ef42b3d"
   },
   "outputs": [
    {
     "name": "stdout",
     "output_type": "stream",
     "text": [
      "/media/rogerchang/Data/python/cvdl/term_project/keras-yolo3\n"
     ]
    }
   ],
   "source": [
    "# !git clone https://github.com/qqwweee/keras-yolo3 # 如果之前已經下載過就可以註解掉\n",
    "%cd keras-yolo3"
   ]
  },
  {
   "cell_type": "code",
   "execution_count": 4,
   "metadata": {
    "colab": {},
    "colab_type": "code",
    "id": "ooyy53TW5c0L"
   },
   "outputs": [],
   "source": [
    "import os\n",
    "from xml.etree import ElementTree\n",
    "import numpy as np"
   ]
  },
  {
   "cell_type": "code",
   "execution_count": 5,
   "metadata": {},
   "outputs": [],
   "source": [
    "if not os.path.exists('model_data/yolov3.h5'):\n",
    "    # os.system('wget https://pjreddie.com/media/files/yolov3.weights')\n",
    "    os.system('python convert.py yolov3.cfg yolov3.weights model_data/yolov3.h5')\n",
    "else:\n",
    "    pass"
   ]
  },
  {
   "cell_type": "code",
   "execution_count": 6,
   "metadata": {},
   "outputs": [],
   "source": [
    "if not os.path.exists('animals_train.txt'):\n",
    "    sets = ['train', 'val']\n",
    "    \n",
    "    classes = [\"kangaroo\", \"raccoon\"]\n",
    "    \n",
    "    def dump_info(xml_path, list_file):\n",
    "        f = open(xml_path)\n",
    "        tree = ElementTree.parse(f)\n",
    "        root = tree.getroot()\n",
    "        \n",
    "        for obj in tree.iter('object'):\n",
    "            diff = int(obj.find('difficult').text)\n",
    "            cls_name = obj.find('name').text\n",
    "            \n",
    "            if cls_name not in classes or diff == 1:\n",
    "                continue\n",
    "                \n",
    "            cls_index = classes.index(cls_name)\n",
    "            bndbox = obj.find('bndbox')\n",
    "            \n",
    "            b = (int(bndbox.find('xmin').text), int(bndbox.find('ymin').text), int(bndbox.find('xmax').text), int(bndbox.find('ymax').text))\n",
    "            list_file.write(\" \" + \",\".join([str(a) for a in b]) + ',' + str(cls_index))\n",
    "            \n",
    "        f.close()\n",
    "        \n",
    "    \n",
    "    images_dir = ['animals/kangaroo/images', 'animals/raccoon/images']\n",
    "    for s in sets:\n",
    "        list_file = open('animals_%s.txt' % s, 'w')\n",
    "        \n",
    "        for i, annotation_path in enumerate(['animals/kangaroo/annots', 'animals/raccoon/annotations']):\n",
    "            annots = os.listdir(annotation_path)\n",
    "            annots.sort()\n",
    "            annot_size = len(annots)\n",
    "            split_num = int(np.round(annot_size * 0.8))\n",
    "        \n",
    "            if s == 'train':\n",
    "                data = annots[:split_num]\n",
    "            else:\n",
    "                data = annots[split_num:]\n",
    "                \n",
    "            for d in data:\n",
    "                name = d.split('.')[0]\n",
    "                list_file.write(os.path.join(images_dir[i], '%s.jpg' % name))\n",
    "                dump_info(os.path.join(annotation_path, d), list_file)\n",
    "                list_file.write('\\n')\n",
    "        \n",
    "        list_file.close()\n",
    "        "
   ]
  },
  {
   "cell_type": "code",
   "execution_count": 7,
   "metadata": {},
   "outputs": [
    {
     "name": "stderr",
     "output_type": "stream",
     "text": [
      "Using TensorFlow backend.\n"
     ]
    }
   ],
   "source": [
    "import keras.backend as K\n",
    "from keras.layers import Input, Lambda\n",
    "from keras.models import Model\n",
    "from keras.optimizers import Adam\n",
    "from keras.callbacks import TensorBoard, ModelCheckpoint, ReduceLROnPlateau, EarlyStopping\n",
    "\n",
    "from yolo3.model import preprocess_true_boxes, yolo_body, tiny_yolo_body, yolo_loss\n",
    "from yolo3.utils import get_random_data\n",
    "\n",
    "import time"
   ]
  },
  {
   "cell_type": "code",
   "execution_count": 8,
   "metadata": {},
   "outputs": [],
   "source": [
    "from PIL import ImageFile\n",
    "ImageFile.LOAD_TRUNCATED_IMAGES = True"
   ]
  },
  {
   "cell_type": "code",
   "execution_count": 9,
   "metadata": {},
   "outputs": [],
   "source": [
    "import tensorflow as tf\n",
    "tf.logging.set_verbosity(tf.logging.ERROR)\n",
    "\n",
    "config = tf.ConfigProto()\n",
    "config.gpu_options.allow_growth = True\n",
    "sess = tf.Session(config=config)\n",
    "\n",
    "K.set_session(sess)"
   ]
  },
  {
   "cell_type": "code",
   "execution_count": 10,
   "metadata": {},
   "outputs": [],
   "source": [
    "from train import get_classes, get_anchors, create_model, create_tiny_model"
   ]
  },
  {
   "cell_type": "code",
   "execution_count": 11,
   "metadata": {},
   "outputs": [],
   "source": [
    "def data_generator(annotation_lines, batch_size, input_shape, anchors, num_classes, is_train=True):\n",
    "    '''data generator for fit_generator'''\n",
    "    n = len(annotation_lines)\n",
    "    i = 0\n",
    "    while True:\n",
    "        image_data = []\n",
    "        box_data = []\n",
    "        for b in range(batch_size):\n",
    "            if i==0 and is_train:\n",
    "                np.random.shuffle(annotation_lines)\n",
    "            image, box = get_random_data(annotation_lines[i], input_shape, random=is_train, jitter=.7, hue=.3, sat=1.5, val=2.0)\n",
    "            image_data.append(image)\n",
    "            box_data.append(box)\n",
    "            i = (i+1) % n\n",
    "        image_data = np.array(image_data)\n",
    "        box_data = np.array(box_data)\n",
    "        y_true = preprocess_true_boxes(box_data, input_shape, anchors, num_classes)\n",
    "        yield [image_data, *y_true], np.zeros(batch_size)"
   ]
  },
  {
   "cell_type": "code",
   "execution_count": 12,
   "metadata": {
    "scrolled": true
   },
   "outputs": [
    {
     "name": "stdout",
     "output_type": "stream",
     "text": [
      "Create YOLOv3 model with 9 anchors and 2 classes.\n"
     ]
    },
    {
     "name": "stderr",
     "output_type": "stream",
     "text": [
      "/home/rogerchang/anaconda3/envs/tensorflow/lib/python3.6/site-packages/keras/engine/saving.py:1140: UserWarning: Skipping loading of weights for layer conv2d_59 due to mismatch in shape ((1, 1, 1024, 21) vs (75, 1024, 1, 1)).\n",
      "  weight_values[i].shape))\n",
      "/home/rogerchang/anaconda3/envs/tensorflow/lib/python3.6/site-packages/keras/engine/saving.py:1140: UserWarning: Skipping loading of weights for layer conv2d_59 due to mismatch in shape ((21,) vs (75,)).\n",
      "  weight_values[i].shape))\n",
      "/home/rogerchang/anaconda3/envs/tensorflow/lib/python3.6/site-packages/keras/engine/saving.py:1140: UserWarning: Skipping loading of weights for layer conv2d_67 due to mismatch in shape ((1, 1, 512, 21) vs (75, 512, 1, 1)).\n",
      "  weight_values[i].shape))\n",
      "/home/rogerchang/anaconda3/envs/tensorflow/lib/python3.6/site-packages/keras/engine/saving.py:1140: UserWarning: Skipping loading of weights for layer conv2d_67 due to mismatch in shape ((21,) vs (75,)).\n",
      "  weight_values[i].shape))\n",
      "/home/rogerchang/anaconda3/envs/tensorflow/lib/python3.6/site-packages/keras/engine/saving.py:1140: UserWarning: Skipping loading of weights for layer conv2d_75 due to mismatch in shape ((1, 1, 256, 21) vs (75, 256, 1, 1)).\n",
      "  weight_values[i].shape))\n",
      "/home/rogerchang/anaconda3/envs/tensorflow/lib/python3.6/site-packages/keras/engine/saving.py:1140: UserWarning: Skipping loading of weights for layer conv2d_75 due to mismatch in shape ((21,) vs (75,)).\n",
      "  weight_values[i].shape))\n"
     ]
    },
    {
     "name": "stdout",
     "output_type": "stream",
     "text": [
      "Load weights model_data/Day41_trained_weights.h5.\n",
      "Freeze the first 249 layers of total 252 layers.\n"
     ]
    }
   ],
   "source": [
    "annotation_path = 'animals_train.txt' # 轉換好格式的標註檔案\n",
    "log_dir = 'logs/%s/' % str(int(time.time()))# 訓練好的模型儲存的路徑\n",
    "classes_path = 'model_data/animal_classes.txt'\n",
    "anchors_path = 'model_data/yolo_anchors.txt'\n",
    "class_names = get_classes(classes_path)\n",
    "num_classes = len(class_names)\n",
    "anchors = get_anchors(anchors_path)\n",
    "\n",
    "input_shape = (416,416) # multiple of 32, hw\n",
    "\n",
    "is_tiny_version = len(anchors)==6 # default setting\n",
    "if is_tiny_version:\n",
    "    model = create_tiny_model(input_shape, anchors, num_classes,\n",
    "        freeze_body=2, weights_path='model_data/tiny_yolo.h5')\n",
    "else:\n",
    "    model = create_model(input_shape, anchors, num_classes, \n",
    "        freeze_body=2, weights_path='model_data/Day41_trained_weights.h5') # make sure you know what you freeze\n",
    "\n",
    "logging = TensorBoard(log_dir=log_dir)\n",
    "checkpoint = ModelCheckpoint(log_dir + 'ep{epoch:03d}-loss{loss:.3f}-val_loss{val_loss:.3f}.h5',\n",
    "    monitor='val_loss', save_weights_only=True, save_best_only=True, period=3)\n",
    "reduce_lr = ReduceLROnPlateau(monitor='val_loss', factor=0.1, patience=20, verbose=1)\n",
    "early_stopping = EarlyStopping(monitor='val_loss', min_delta=0, patience=20, verbose=1)\n",
    "\n",
    "# 分為 training 以及 validation\n",
    "val_split = 0.1\n",
    "with open(annotation_path) as f:\n",
    "    train_lines = f.readlines()\n",
    "with open('animals_val.txt') as f:\n",
    "    val_lines = f.readlines()\n",
    "np.random.seed(10101)\n",
    "np.random.shuffle(train_lines)\n",
    "np.random.seed(None)\n",
    "num_val = len(val_lines)\n",
    "num_train = len(train_lines)"
   ]
  },
  {
   "cell_type": "code",
   "execution_count": 13,
   "metadata": {
    "scrolled": true
   },
   "outputs": [
    {
     "name": "stdout",
     "output_type": "stream",
     "text": [
      "Train on 291 samples, val on 73 samples, with batch size 4.\n",
      "Epoch 1/100\n",
      "72/72 [==============================] - 14s 188ms/step - loss: 1026.1820 - val_loss: 117.6251\n",
      "Epoch 2/100\n",
      "72/72 [==============================] - 11s 148ms/step - loss: 97.5725 - val_loss: 64.5697\n",
      "Epoch 3/100\n",
      "72/72 [==============================] - 11s 154ms/step - loss: 62.0928 - val_loss: 45.7293\n",
      "Epoch 4/100\n",
      "72/72 [==============================] - 11s 147ms/step - loss: 47.1926 - val_loss: 36.4777\n",
      "Epoch 5/100\n",
      "72/72 [==============================] - 11s 151ms/step - loss: 38.2564 - val_loss: 30.7721\n",
      "Epoch 6/100\n",
      "72/72 [==============================] - 11s 149ms/step - loss: 33.6336 - val_loss: 27.6896\n",
      "Epoch 7/100\n",
      "72/72 [==============================] - 11s 150ms/step - loss: 30.1413 - val_loss: 25.4786\n",
      "Epoch 8/100\n",
      "72/72 [==============================] - 11s 151ms/step - loss: 27.6655 - val_loss: 23.6400\n",
      "Epoch 9/100\n",
      "72/72 [==============================] - 12s 161ms/step - loss: 25.9781 - val_loss: 22.4219\n",
      "Epoch 10/100\n",
      "72/72 [==============================] - 11s 150ms/step - loss: 25.1000 - val_loss: 21.3460\n",
      "Epoch 11/100\n",
      "72/72 [==============================] - 11s 151ms/step - loss: 24.0233 - val_loss: 20.7360\n",
      "Epoch 12/100\n",
      "72/72 [==============================] - 11s 149ms/step - loss: 23.3068 - val_loss: 20.1209\n",
      "Epoch 13/100\n",
      "72/72 [==============================] - 11s 150ms/step - loss: 22.5909 - val_loss: 19.5698\n",
      "Epoch 14/100\n",
      "72/72 [==============================] - 11s 152ms/step - loss: 21.8097 - val_loss: 19.1794\n",
      "Epoch 15/100\n",
      "72/72 [==============================] - 11s 151ms/step - loss: 21.6437 - val_loss: 18.7985\n",
      "Epoch 16/100\n",
      "72/72 [==============================] - 11s 150ms/step - loss: 20.6007 - val_loss: 18.4126\n",
      "Epoch 17/100\n",
      "72/72 [==============================] - 11s 149ms/step - loss: 20.8873 - val_loss: 18.3369\n",
      "Epoch 18/100\n",
      "72/72 [==============================] - 11s 152ms/step - loss: 20.1918 - val_loss: 18.1356\n",
      "Epoch 19/100\n",
      "72/72 [==============================] - 17s 238ms/step - loss: 19.7253 - val_loss: 17.7245\n",
      "Epoch 20/100\n",
      "72/72 [==============================] - 11s 150ms/step - loss: 19.7865 - val_loss: 17.5481\n",
      "Epoch 21/100\n",
      "72/72 [==============================] - 11s 149ms/step - loss: 19.6448 - val_loss: 17.5177\n",
      "Epoch 22/100\n",
      "72/72 [==============================] - 11s 152ms/step - loss: 19.3350 - val_loss: 17.5038\n",
      "Epoch 23/100\n",
      "72/72 [==============================] - 11s 149ms/step - loss: 19.4136 - val_loss: 17.2316\n",
      "Epoch 24/100\n",
      "72/72 [==============================] - 11s 151ms/step - loss: 18.6783 - val_loss: 17.4060\n",
      "Epoch 25/100\n",
      "72/72 [==============================] - 11s 148ms/step - loss: 19.0253 - val_loss: 17.1417\n",
      "Epoch 26/100\n",
      "72/72 [==============================] - 11s 151ms/step - loss: 18.6522 - val_loss: 17.1141\n",
      "Epoch 27/100\n",
      "72/72 [==============================] - 11s 152ms/step - loss: 18.9783 - val_loss: 17.1392\n",
      "Epoch 28/100\n",
      "72/72 [==============================] - 11s 151ms/step - loss: 18.4546 - val_loss: 16.7851\n",
      "Epoch 29/100\n",
      "72/72 [==============================] - 17s 237ms/step - loss: 18.3048 - val_loss: 16.4639\n",
      "Epoch 30/100\n",
      "72/72 [==============================] - 11s 149ms/step - loss: 18.4219 - val_loss: 16.7628\n",
      "Epoch 31/100\n",
      "72/72 [==============================] - 11s 150ms/step - loss: 17.7211 - val_loss: 16.5087\n",
      "Epoch 32/100\n",
      "72/72 [==============================] - 11s 149ms/step - loss: 18.5873 - val_loss: 16.3927\n",
      "Epoch 33/100\n",
      "72/72 [==============================] - 11s 151ms/step - loss: 17.4968 - val_loss: 16.2665\n",
      "Epoch 34/100\n",
      "72/72 [==============================] - 11s 150ms/step - loss: 17.9604 - val_loss: 16.2697\n",
      "Epoch 35/100\n",
      "72/72 [==============================] - 11s 151ms/step - loss: 17.4741 - val_loss: 16.1868\n",
      "Epoch 36/100\n",
      "72/72 [==============================] - 11s 149ms/step - loss: 17.6640 - val_loss: 16.1331\n",
      "Epoch 37/100\n",
      "72/72 [==============================] - 11s 150ms/step - loss: 17.3785 - val_loss: 16.3201\n",
      "Epoch 38/100\n",
      "72/72 [==============================] - 11s 151ms/step - loss: 17.4583 - val_loss: 16.0781\n",
      "Epoch 39/100\n",
      "72/72 [==============================] - 17s 237ms/step - loss: 17.6036 - val_loss: 16.2198\n",
      "Epoch 40/100\n",
      "72/72 [==============================] - 11s 153ms/step - loss: 17.5336 - val_loss: 15.7708\n",
      "Epoch 41/100\n",
      "72/72 [==============================] - 11s 151ms/step - loss: 17.5272 - val_loss: 16.0726\n",
      "Epoch 42/100\n",
      "72/72 [==============================] - 11s 149ms/step - loss: 17.1457 - val_loss: 15.8546\n",
      "Epoch 43/100\n",
      "72/72 [==============================] - 11s 150ms/step - loss: 17.3069 - val_loss: 16.0003\n",
      "Epoch 44/100\n",
      "72/72 [==============================] - 11s 152ms/step - loss: 17.3264 - val_loss: 16.0601\n",
      "Epoch 45/100\n",
      "72/72 [==============================] - 11s 150ms/step - loss: 16.9228 - val_loss: 15.8335\n",
      "Epoch 46/100\n",
      "72/72 [==============================] - 11s 148ms/step - loss: 17.6347 - val_loss: 15.8211\n",
      "Epoch 47/100\n",
      "72/72 [==============================] - 11s 151ms/step - loss: 17.0026 - val_loss: 15.7683\n",
      "Epoch 48/100\n",
      "72/72 [==============================] - 11s 152ms/step - loss: 16.9963 - val_loss: 16.0913\n",
      "Epoch 49/100\n",
      "72/72 [==============================] - 11s 150ms/step - loss: 17.3889 - val_loss: 15.9877\n",
      "Epoch 50/100\n",
      "72/72 [==============================] - 11s 153ms/step - loss: 16.9801 - val_loss: 16.0637\n",
      "Epoch 51/100\n",
      "72/72 [==============================] - 11s 150ms/step - loss: 17.1627 - val_loss: 15.5935\n",
      "Epoch 52/100\n",
      "72/72 [==============================] - 11s 149ms/step - loss: 16.8060 - val_loss: 15.8745\n",
      "Epoch 53/100\n",
      "72/72 [==============================] - 11s 150ms/step - loss: 16.8563 - val_loss: 15.7040\n",
      "Epoch 54/100\n",
      "72/72 [==============================] - 11s 153ms/step - loss: 16.5974 - val_loss: 15.6827\n",
      "Epoch 55/100\n",
      "72/72 [==============================] - 11s 149ms/step - loss: 16.4462 - val_loss: 15.5292\n",
      "Epoch 56/100\n",
      "72/72 [==============================] - 11s 150ms/step - loss: 17.0297 - val_loss: 16.0366\n",
      "Epoch 57/100\n",
      "72/72 [==============================] - 11s 150ms/step - loss: 16.9383 - val_loss: 15.7376\n",
      "Epoch 58/100\n",
      "72/72 [==============================] - 11s 151ms/step - loss: 17.0048 - val_loss: 15.7856\n",
      "Epoch 59/100\n",
      "72/72 [==============================] - 11s 150ms/step - loss: 16.6054 - val_loss: 15.4974\n",
      "Epoch 60/100\n",
      "72/72 [==============================] - 11s 151ms/step - loss: 17.0524 - val_loss: 16.2621\n",
      "Epoch 61/100\n",
      "72/72 [==============================] - 11s 150ms/step - loss: 17.0653 - val_loss: 15.5525\n",
      "Epoch 62/100\n",
      "72/72 [==============================] - 11s 151ms/step - loss: 16.9166 - val_loss: 15.5069\n",
      "Epoch 63/100\n",
      "72/72 [==============================] - 11s 151ms/step - loss: 16.7677 - val_loss: 15.6709\n",
      "Epoch 64/100\n",
      "72/72 [==============================] - 11s 151ms/step - loss: 16.4748 - val_loss: 15.8453\n",
      "Epoch 65/100\n",
      "72/72 [==============================] - 11s 149ms/step - loss: 16.5744 - val_loss: 15.6561\n",
      "Epoch 66/100\n",
      "72/72 [==============================] - 11s 153ms/step - loss: 16.6125 - val_loss: 15.5696\n",
      "Epoch 67/100\n",
      "72/72 [==============================] - 11s 149ms/step - loss: 16.3027 - val_loss: 15.2622\n",
      "Epoch 68/100\n",
      "72/72 [==============================] - 11s 149ms/step - loss: 16.7669 - val_loss: 15.4967\n",
      "Epoch 69/100\n",
      "72/72 [==============================] - 11s 152ms/step - loss: 16.6643 - val_loss: 15.4294\n",
      "Epoch 70/100\n",
      "72/72 [==============================] - 16s 225ms/step - loss: 16.7731 - val_loss: 15.4514\n",
      "Epoch 71/100\n",
      "72/72 [==============================] - 12s 161ms/step - loss: 16.6173 - val_loss: 15.6828\n",
      "Epoch 72/100\n",
      "72/72 [==============================] - 11s 149ms/step - loss: 16.5611 - val_loss: 15.5077\n",
      "Epoch 73/100\n",
      "72/72 [==============================] - 11s 151ms/step - loss: 16.3710 - val_loss: 15.0313\n",
      "Epoch 74/100\n",
      "72/72 [==============================] - 11s 151ms/step - loss: 16.2770 - val_loss: 15.3775\n",
      "Epoch 75/100\n",
      "72/72 [==============================] - 11s 152ms/step - loss: 16.7250 - val_loss: 15.3813\n",
      "Epoch 76/100\n",
      "72/72 [==============================] - 11s 148ms/step - loss: 16.2091 - val_loss: 15.3398\n",
      "Epoch 77/100\n",
      "72/72 [==============================] - 11s 151ms/step - loss: 16.2489 - val_loss: 15.1982\n",
      "Epoch 78/100\n",
      "72/72 [==============================] - 11s 148ms/step - loss: 16.9849 - val_loss: 15.3841\n",
      "Epoch 79/100\n",
      "72/72 [==============================] - 11s 149ms/step - loss: 16.8569 - val_loss: 15.4361\n",
      "Epoch 80/100\n",
      "72/72 [==============================] - 11s 150ms/step - loss: 16.4123 - val_loss: 15.4761\n",
      "Epoch 81/100\n",
      "72/72 [==============================] - 11s 149ms/step - loss: 16.8466 - val_loss: 15.5754\n",
      "Epoch 82/100\n",
      "72/72 [==============================] - 11s 152ms/step - loss: 16.5941 - val_loss: 15.3126\n",
      "Epoch 83/100\n",
      "72/72 [==============================] - 11s 151ms/step - loss: 16.5238 - val_loss: 15.3374\n",
      "Epoch 84/100\n",
      "72/72 [==============================] - 11s 151ms/step - loss: 16.7103 - val_loss: 15.4294\n",
      "Epoch 85/100\n",
      "72/72 [==============================] - 11s 151ms/step - loss: 16.4037 - val_loss: 15.5037\n",
      "Epoch 86/100\n",
      "72/72 [==============================] - 11s 151ms/step - loss: 16.9559 - val_loss: 16.0870\n",
      "Epoch 87/100\n",
      "72/72 [==============================] - 11s 149ms/step - loss: 16.4337 - val_loss: 15.5520\n",
      "Epoch 88/100\n",
      "72/72 [==============================] - 11s 149ms/step - loss: 16.8123 - val_loss: 15.5571\n",
      "Epoch 89/100\n",
      "72/72 [==============================] - 11s 151ms/step - loss: 16.1782 - val_loss: 15.3699\n",
      "Epoch 90/100\n",
      "72/72 [==============================] - 11s 150ms/step - loss: 16.5987 - val_loss: 15.3623\n",
      "Epoch 91/100\n",
      "72/72 [==============================] - 11s 149ms/step - loss: 16.7398 - val_loss: 15.4319\n",
      "Epoch 92/100\n",
      "72/72 [==============================] - 13s 185ms/step - loss: 16.0118 - val_loss: 15.4583\n",
      "Epoch 93/100\n",
      "72/72 [==============================] - 11s 149ms/step - loss: 16.7712 - val_loss: 15.6779\n",
      "Epoch 94/100\n",
      "72/72 [==============================] - 11s 151ms/step - loss: 16.7834 - val_loss: 15.4284\n",
      "Epoch 95/100\n",
      "72/72 [==============================] - 11s 149ms/step - loss: 16.5602 - val_loss: 15.5726\n",
      "Epoch 96/100\n",
      "72/72 [==============================] - 11s 151ms/step - loss: 16.1645 - val_loss: 15.3938\n",
      "Epoch 97/100\n",
      "72/72 [==============================] - 11s 151ms/step - loss: 16.1384 - val_loss: 15.9290\n",
      "Epoch 98/100\n",
      "72/72 [==============================] - 11s 151ms/step - loss: 16.1807 - val_loss: 15.3926\n",
      "Epoch 99/100\n",
      "72/72 [==============================] - 11s 151ms/step - loss: 16.5951 - val_loss: 15.5923\n",
      "Epoch 100/100\n",
      "72/72 [==============================] - 11s 150ms/step - loss: 16.0624 - val_loss: 15.4501\n"
     ]
    }
   ],
   "source": [
    "# Train with frozen layers first, to get a stable loss.\n",
    "# Adjust num epochs to your dataset. This step is enough to obtain a not bad model.\n",
    "# 一開始先 freeze YOLO 除了 output layer 以外的 darknet53 backbone 來 train\n",
    "if True:\n",
    "    model.compile(optimizer=Adam(lr=1e-3), loss={\n",
    "        # use custom yolo_loss Lambda layer.\n",
    "        'yolo_loss': lambda y_true, y_pred: y_pred})\n",
    "\n",
    "    batch_size = 4\n",
    "    print('Train on {} samples, val on {} samples, with batch size {}.'.format(num_train, num_val, batch_size))\n",
    "    # 模型利用 generator 產生的資料做訓練，強烈建議大家去閱讀及理解 data_generator_wrapper 在 train.py 中的實現\n",
    "    history = model.fit_generator(data_generator(train_lines, batch_size, input_shape, anchors, num_classes, True),\n",
    "            steps_per_epoch=max(1, num_train//batch_size),\n",
    "            validation_data=data_generator(val_lines, batch_size, input_shape, anchors, num_classes, False),\n",
    "            validation_steps=max(1, num_val//batch_size),\n",
    "            epochs=100,\n",
    "            initial_epoch=0,\n",
    "            callbacks=[logging, checkpoint])\n",
    "    model.save_weights(log_dir + 'trained_weights_stage_1.h5')"
   ]
  },
  {
   "cell_type": "code",
   "execution_count": 14,
   "metadata": {
    "scrolled": false
   },
   "outputs": [
    {
     "name": "stdout",
     "output_type": "stream",
     "text": [
      "Unfreeze all of the layers.\n",
      "Train on 291 samples, val on 73 samples, with batch size 4.\n",
      "Epoch 101/200\n",
      "72/72 [==============================] - 24s 337ms/step - loss: 17.0257 - val_loss: 15.2727\n",
      "Epoch 102/200\n",
      "72/72 [==============================] - 18s 256ms/step - loss: 15.9269 - val_loss: 14.9916\n",
      "Epoch 103/200\n",
      "72/72 [==============================] - 18s 256ms/step - loss: 15.6721 - val_loss: 14.6198\n",
      "Epoch 104/200\n",
      "72/72 [==============================] - 18s 256ms/step - loss: 15.2326 - val_loss: 14.5908\n",
      "Epoch 105/200\n",
      "72/72 [==============================] - 18s 256ms/step - loss: 15.2045 - val_loss: 14.6593\n",
      "Epoch 106/200\n",
      "72/72 [==============================] - 18s 256ms/step - loss: 15.1931 - val_loss: 14.5758\n",
      "Epoch 107/200\n",
      "72/72 [==============================] - 18s 256ms/step - loss: 15.2797 - val_loss: 14.4810\n",
      "Epoch 108/200\n",
      "72/72 [==============================] - 18s 256ms/step - loss: 15.3183 - val_loss: 15.0393\n",
      "Epoch 109/200\n",
      "72/72 [==============================] - 18s 256ms/step - loss: 14.7959 - val_loss: 14.5803\n",
      "Epoch 110/200\n",
      "72/72 [==============================] - 18s 256ms/step - loss: 14.8545 - val_loss: 14.3879\n",
      "Epoch 111/200\n",
      "72/72 [==============================] - 18s 256ms/step - loss: 14.7750 - val_loss: 14.1940\n",
      "Epoch 112/200\n",
      "72/72 [==============================] - 19s 259ms/step - loss: 14.5993 - val_loss: 14.5138\n",
      "Epoch 113/200\n",
      "72/72 [==============================] - 19s 257ms/step - loss: 14.3772 - val_loss: 16.9821\n",
      "Epoch 114/200\n",
      "72/72 [==============================] - 18s 256ms/step - loss: 14.7795 - val_loss: 14.4165\n",
      "Epoch 115/200\n",
      "72/72 [==============================] - 18s 256ms/step - loss: 14.6551 - val_loss: 14.5393\n",
      "Epoch 116/200\n",
      "72/72 [==============================] - 18s 257ms/step - loss: 14.3487 - val_loss: 14.5745\n",
      "Epoch 117/200\n",
      "72/72 [==============================] - 18s 256ms/step - loss: 14.0979 - val_loss: 14.2228\n",
      "Epoch 118/200\n",
      "72/72 [==============================] - 18s 256ms/step - loss: 14.4632 - val_loss: 14.5605\n",
      "Epoch 119/200\n",
      "72/72 [==============================] - 18s 256ms/step - loss: 14.1666 - val_loss: 14.0579\n",
      "Epoch 120/200\n",
      "72/72 [==============================] - 18s 257ms/step - loss: 14.3786 - val_loss: 14.4020\n",
      "Epoch 121/200\n",
      "72/72 [==============================] - 18s 256ms/step - loss: 14.4032 - val_loss: 14.0873\n",
      "Epoch 122/200\n",
      "72/72 [==============================] - 18s 256ms/step - loss: 14.2910 - val_loss: 14.1107\n",
      "Epoch 123/200\n",
      "72/72 [==============================] - 18s 256ms/step - loss: 14.0470 - val_loss: 14.0037\n",
      "Epoch 124/200\n",
      "72/72 [==============================] - 18s 255ms/step - loss: 14.1834 - val_loss: 14.4946\n",
      "Epoch 125/200\n",
      "72/72 [==============================] - 18s 255ms/step - loss: 14.0521 - val_loss: 13.8863\n",
      "Epoch 126/200\n",
      "72/72 [==============================] - 18s 256ms/step - loss: 13.6089 - val_loss: 13.9484\n",
      "Epoch 127/200\n",
      "72/72 [==============================] - 19s 259ms/step - loss: 14.0663 - val_loss: 13.7722\n",
      "Epoch 128/200\n",
      "72/72 [==============================] - 18s 257ms/step - loss: 13.5976 - val_loss: 13.9059\n",
      "Epoch 129/200\n",
      "72/72 [==============================] - 18s 257ms/step - loss: 13.9594 - val_loss: 14.1860\n",
      "Epoch 130/200\n",
      "72/72 [==============================] - 18s 257ms/step - loss: 14.0772 - val_loss: 13.8797\n",
      "Epoch 131/200\n",
      "72/72 [==============================] - 18s 257ms/step - loss: 13.2969 - val_loss: 14.1021\n",
      "Epoch 132/200\n",
      "72/72 [==============================] - 19s 257ms/step - loss: 13.6631 - val_loss: 14.2686\n",
      "Epoch 133/200\n",
      "72/72 [==============================] - 19s 258ms/step - loss: 13.8024 - val_loss: 14.4899\n",
      "Epoch 134/200\n",
      "72/72 [==============================] - 19s 257ms/step - loss: 13.6946 - val_loss: 14.3983\n",
      "Epoch 135/200\n",
      "72/72 [==============================] - 19s 258ms/step - loss: 13.5366 - val_loss: 13.7248\n",
      "Epoch 136/200\n",
      "72/72 [==============================] - 18s 256ms/step - loss: 13.3495 - val_loss: 13.9481\n",
      "Epoch 137/200\n",
      "72/72 [==============================] - 18s 257ms/step - loss: 13.5241 - val_loss: 14.1656\n",
      "Epoch 138/200\n",
      "72/72 [==============================] - 18s 257ms/step - loss: 13.3170 - val_loss: 14.1439\n",
      "Epoch 139/200\n",
      "72/72 [==============================] - 19s 257ms/step - loss: 13.4720 - val_loss: 14.1148\n",
      "Epoch 140/200\n",
      "72/72 [==============================] - 19s 258ms/step - loss: 13.5470 - val_loss: 13.7667\n",
      "Epoch 141/200\n",
      "72/72 [==============================] - 19s 258ms/step - loss: 13.4983 - val_loss: 14.5439\n",
      "Epoch 142/200\n",
      "72/72 [==============================] - 19s 257ms/step - loss: 13.5609 - val_loss: 13.7076\n",
      "Epoch 143/200\n",
      "72/72 [==============================] - 18s 257ms/step - loss: 13.1612 - val_loss: 14.4204\n",
      "Epoch 144/200\n",
      "72/72 [==============================] - 18s 257ms/step - loss: 13.1546 - val_loss: 13.9079\n",
      "Epoch 145/200\n",
      "72/72 [==============================] - 19s 257ms/step - loss: 13.6610 - val_loss: 13.6616\n",
      "Epoch 146/200\n",
      "72/72 [==============================] - 19s 257ms/step - loss: 12.9762 - val_loss: 13.7338\n",
      "Epoch 147/200\n",
      "72/72 [==============================] - 18s 257ms/step - loss: 13.4139 - val_loss: 13.6228\n",
      "Epoch 148/200\n",
      "72/72 [==============================] - 18s 256ms/step - loss: 13.0058 - val_loss: 14.0208\n",
      "Epoch 149/200\n",
      "72/72 [==============================] - 18s 257ms/step - loss: 13.3258 - val_loss: 14.0808\n",
      "Epoch 150/200\n",
      "72/72 [==============================] - 18s 257ms/step - loss: 13.1064 - val_loss: 13.9116\n",
      "Epoch 151/200\n",
      "72/72 [==============================] - 19s 260ms/step - loss: 13.3051 - val_loss: 13.3808\n",
      "Epoch 152/200\n",
      "72/72 [==============================] - 18s 257ms/step - loss: 12.9174 - val_loss: 13.7320\n",
      "Epoch 153/200\n",
      "72/72 [==============================] - 18s 257ms/step - loss: 12.6181 - val_loss: 13.7304\n",
      "Epoch 154/200\n",
      "72/72 [==============================] - 18s 256ms/step - loss: 12.7923 - val_loss: 13.4433\n",
      "Epoch 155/200\n",
      "72/72 [==============================] - 18s 256ms/step - loss: 13.1671 - val_loss: 14.2506\n",
      "Epoch 156/200\n",
      "72/72 [==============================] - 18s 256ms/step - loss: 13.2145 - val_loss: 13.4847\n",
      "Epoch 157/200\n",
      "72/72 [==============================] - 18s 256ms/step - loss: 12.7579 - val_loss: 13.7591\n",
      "Epoch 158/200\n",
      "72/72 [==============================] - 19s 257ms/step - loss: 12.6321 - val_loss: 13.4801\n",
      "Epoch 159/200\n",
      "72/72 [==============================] - 18s 256ms/step - loss: 13.0338 - val_loss: 13.2224\n",
      "Epoch 160/200\n",
      "72/72 [==============================] - 19s 257ms/step - loss: 12.4494 - val_loss: 13.2590\n",
      "Epoch 161/200\n",
      "72/72 [==============================] - 18s 256ms/step - loss: 12.7330 - val_loss: 14.3520\n",
      "Epoch 162/200\n",
      "72/72 [==============================] - 18s 256ms/step - loss: 12.4018 - val_loss: 13.5325\n",
      "Epoch 163/200\n",
      "72/72 [==============================] - 18s 256ms/step - loss: 12.5546 - val_loss: 12.9919\n",
      "Epoch 164/200\n",
      "72/72 [==============================] - 18s 256ms/step - loss: 12.3611 - val_loss: 12.9467\n",
      "Epoch 165/200\n",
      "72/72 [==============================] - 18s 257ms/step - loss: 12.7519 - val_loss: 13.2107\n",
      "Epoch 166/200\n",
      "72/72 [==============================] - 18s 256ms/step - loss: 13.1005 - val_loss: 13.1625\n",
      "Epoch 167/200\n",
      "72/72 [==============================] - 18s 256ms/step - loss: 12.0307 - val_loss: 12.7293\n",
      "Epoch 168/200\n",
      "72/72 [==============================] - 18s 256ms/step - loss: 12.3038 - val_loss: 13.2742\n",
      "Epoch 169/200\n",
      "72/72 [==============================] - 18s 255ms/step - loss: 12.4640 - val_loss: 13.3460\n",
      "Epoch 170/200\n",
      "72/72 [==============================] - 18s 256ms/step - loss: 12.6751 - val_loss: 13.3435\n",
      "Epoch 171/200\n",
      "72/72 [==============================] - 18s 256ms/step - loss: 12.3265 - val_loss: 13.2513\n",
      "Epoch 172/200\n",
      "72/72 [==============================] - 18s 256ms/step - loss: 11.9071 - val_loss: 13.7580\n",
      "Epoch 173/200\n",
      "72/72 [==============================] - 18s 257ms/step - loss: 12.7232 - val_loss: 14.5096\n",
      "Epoch 174/200\n",
      "72/72 [==============================] - 18s 256ms/step - loss: 12.3755 - val_loss: 14.0095\n",
      "Epoch 175/200\n",
      "72/72 [==============================] - 18s 256ms/step - loss: 12.3925 - val_loss: 13.2626\n",
      "Epoch 176/200\n",
      "72/72 [==============================] - 18s 256ms/step - loss: 12.2967 - val_loss: 13.4267\n",
      "Epoch 177/200\n",
      "72/72 [==============================] - 18s 255ms/step - loss: 12.3179 - val_loss: 12.9939\n",
      "Epoch 178/200\n",
      "72/72 [==============================] - 22s 307ms/step - loss: 12.0000 - val_loss: 12.9581\n",
      "Epoch 179/200\n",
      "72/72 [==============================] - 18s 255ms/step - loss: 11.8094 - val_loss: 12.7168\n",
      "Epoch 180/200\n",
      "72/72 [==============================] - 18s 255ms/step - loss: 12.2107 - val_loss: 13.2954\n",
      "Epoch 181/200\n",
      "72/72 [==============================] - 18s 255ms/step - loss: 11.5507 - val_loss: 13.3302\n",
      "Epoch 182/200\n",
      "72/72 [==============================] - 18s 255ms/step - loss: 12.1330 - val_loss: 12.9390\n",
      "Epoch 183/200\n",
      "72/72 [==============================] - 18s 255ms/step - loss: 12.0041 - val_loss: 13.0550\n",
      "Epoch 184/200\n",
      "72/72 [==============================] - 18s 256ms/step - loss: 12.0501 - val_loss: 13.4138\n",
      "Epoch 185/200\n",
      "72/72 [==============================] - 18s 255ms/step - loss: 12.0763 - val_loss: 12.7031\n",
      "Epoch 186/200\n",
      "72/72 [==============================] - 18s 256ms/step - loss: 12.0372 - val_loss: 12.7733\n",
      "Epoch 187/200\n",
      "72/72 [==============================] - 18s 256ms/step - loss: 11.9347 - val_loss: 12.8434\n",
      "Epoch 188/200\n",
      "72/72 [==============================] - 18s 256ms/step - loss: 11.9761 - val_loss: 12.9993\n",
      "Epoch 189/200\n",
      "72/72 [==============================] - 18s 256ms/step - loss: 11.9043 - val_loss: 12.8246\n",
      "Epoch 190/200\n",
      "72/72 [==============================] - 19s 257ms/step - loss: 11.9009 - val_loss: 12.5785\n",
      "Epoch 191/200\n",
      "72/72 [==============================] - 18s 256ms/step - loss: 11.7425 - val_loss: 12.5158\n",
      "Epoch 192/200\n",
      "72/72 [==============================] - 18s 256ms/step - loss: 11.8116 - val_loss: 12.7803\n",
      "Epoch 193/200\n",
      "72/72 [==============================] - 18s 256ms/step - loss: 11.6754 - val_loss: 12.6577\n",
      "Epoch 194/200\n",
      "72/72 [==============================] - 18s 256ms/step - loss: 11.6305 - val_loss: 12.3860\n",
      "Epoch 195/200\n",
      "72/72 [==============================] - 18s 257ms/step - loss: 11.7287 - val_loss: 12.2683\n",
      "Epoch 196/200\n",
      "72/72 [==============================] - 18s 257ms/step - loss: 11.8418 - val_loss: 12.3725\n",
      "Epoch 197/200\n",
      "72/72 [==============================] - 22s 308ms/step - loss: 11.5796 - val_loss: 12.6936\n",
      "Epoch 198/200\n",
      "72/72 [==============================] - 18s 257ms/step - loss: 11.9336 - val_loss: 12.6245\n",
      "Epoch 199/200\n",
      "72/72 [==============================] - 18s 257ms/step - loss: 12.1462 - val_loss: 12.9910\n",
      "Epoch 200/200\n",
      "72/72 [==============================] - 19s 267ms/step - loss: 12.0232 - val_loss: 12.3615\n"
     ]
    }
   ],
   "source": [
    "# Unfreeze and continue training, to fine-tune.\n",
    "# Train longer if the result is not good.\n",
    "if True:\n",
    "    # 把所有 layer 都改為 trainable\n",
    "    for i in range(len(model.layers)):\n",
    "        model.layers[i].trainable = True\n",
    "    model.compile(optimizer=Adam(lr=1e-4), loss={'yolo_loss': lambda y_true, y_pred: y_pred}) # recompile to apply the change\n",
    "    print('Unfreeze all of the layers.')\n",
    "\n",
    "    batch_size = 4 # note that more GPU memory is required after unfreezing the body\n",
    "    print('Train on {} samples, val on {} samples, with batch size {}.'.format(num_train, num_val, batch_size))\n",
    "    history2 = model.fit_generator(data_generator(train_lines, batch_size, input_shape, anchors, num_classes, True),\n",
    "        steps_per_epoch=max(1, num_train//batch_size),\n",
    "        validation_data=data_generator(val_lines, batch_size, input_shape, anchors, num_classes, False),\n",
    "        validation_steps=max(1, num_val//batch_size),\n",
    "        epochs=200,\n",
    "        initial_epoch=100,\n",
    "        callbacks=[logging, checkpoint, reduce_lr, early_stopping])\n",
    "    model.save_weights(log_dir + 'trained_weights_final.h5')"
   ]
  },
  {
   "cell_type": "code",
   "execution_count": 15,
   "metadata": {},
   "outputs": [
    {
     "name": "stdout",
     "output_type": "stream",
     "text": [
      "logs/1583814591/trained_weights_final.h5 model, anchors, and classes loaded.\n"
     ]
    }
   ],
   "source": [
    "from yolo import YOLO\n",
    "yolo_model = YOLO(model_path=log_dir + 'trained_weights_final.h5', classes_path=classes_path)"
   ]
  },
  {
   "cell_type": "code",
   "execution_count": 16,
   "metadata": {},
   "outputs": [],
   "source": [
    "from PIL import Image\n",
    "from IPython import display"
   ]
  },
  {
   "cell_type": "code",
   "execution_count": null,
   "metadata": {
    "scrolled": false
   },
   "outputs": [],
   "source": [
    "for file in os.listdir('../test_img/'):\n",
    "    img = Image.open(os.path.join('../test_img/', file))\n",
    "    r_img = yolo_model.detect_image(img)\n",
    "    display.display(r_img)"
   ]
  },
  {
   "cell_type": "code",
   "execution_count": 18,
   "metadata": {},
   "outputs": [
    {
     "name": "stdout",
     "output_type": "stream",
     "text": [
      "logs/1583814591/\n"
     ]
    }
   ],
   "source": [
    "print(log_dir)"
   ]
  },
  {
   "cell_type": "code",
   "execution_count": 19,
   "metadata": {},
   "outputs": [],
   "source": [
    "import matplotlib.pyplot as plt"
   ]
  },
  {
   "cell_type": "code",
   "execution_count": 20,
   "metadata": {},
   "outputs": [
    {
     "data": {
      "text/plain": [
       "[<matplotlib.lines.Line2D at 0x7fd7401115c0>,\n",
       " <matplotlib.lines.Line2D at 0x7fd7401117b8>]"
      ]
     },
     "execution_count": 20,
     "metadata": {},
     "output_type": "execute_result"
    },
    {
     "data": {
      "image/png": "[encoded data removed]",
      "text/plain": [
       "<Figure size 432x288 with 1 Axes>"
      ]
     },
     "metadata": {
      "needs_background": "light"
     },
     "output_type": "display_data"
    }
   ],
   "source": [
    "plt.plot(history.epoch, history.history['loss'], history.epoch, history.history['val_loss'])"
   ]
  },
  {
   "cell_type": "code",
   "execution_count": 21,
   "metadata": {},
   "outputs": [
    {
     "data": {
      "text/plain": [
       "[<matplotlib.lines.Line2D at 0x7fd7400b03c8>,\n",
       " <matplotlib.lines.Line2D at 0x7fd7400b0518>]"
      ]
     },
     "execution_count": 21,
     "metadata": {},
     "output_type": "execute_result"
    },
    {
     "data": {
      "image/png": "[encoded data removed]",
      "text/plain": [
       "<Figure size 432x288 with 1 Axes>"
      ]
     },
     "metadata": {
      "needs_background": "light"
     },
     "output_type": "display_data"
    }
   ],
   "source": [
    "plt.plot(history2.epoch, history2.history['loss'], history2.epoch, history2.history['val_loss'])"
   ]
  }
 ],
 "metadata": {
  "accelerator": "GPU",
  "colab": {
   "collapsed_sections": [],
   "name": "Day41_train_yolov3_HW.ipynb",
   "provenance": []
  },
  "kernelspec": {
   "display_name": "Python 3",
   "language": "python",
   "name": "python3"
  },
  "language_info": {
   "codemirror_mode": {
    "name": "ipython",
    "version": 3
   },
   "file_extension": ".py",
   "mimetype": "text/x-python",
   "name": "python",
   "nbconvert_exporter": "python",
   "pygments_lexer": "ipython3",
   "version": "3.6.10"
  }
 },
 "nbformat": 4,
 "nbformat_minor": 1
}
